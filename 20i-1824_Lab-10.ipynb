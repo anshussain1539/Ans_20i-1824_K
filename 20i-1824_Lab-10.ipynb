{
 "cells": [
  {
   "cell_type": "code",
   "execution_count": 1,
   "id": "909f465a",
   "metadata": {},
   "outputs": [],
   "source": [
    "import numpy as np"
   ]
  },
  {
   "cell_type": "markdown",
   "id": "24bbbc1c",
   "metadata": {},
   "source": [
    "# Create a numpy array of int, characters, float and find their shapes"
   ]
  },
  {
   "cell_type": "code",
   "execution_count": 2,
   "id": "56db490d",
   "metadata": {},
   "outputs": [
    {
     "name": "stdout",
     "output_type": "stream",
     "text": [
      "Array: \n",
      " [8 6 9 5 3]\n",
      "Shape: \n",
      " (5,)\n"
     ]
    }
   ],
   "source": [
    "integers = np.random.randint(1,10,5)\n",
    "print(\"Array: \\n\" , integers)\n",
    "print(\"Shape: \\n\" , integers.shape)"
   ]
  },
  {
   "cell_type": "code",
   "execution_count": 3,
   "id": "42084e80",
   "metadata": {},
   "outputs": [
    {
     "name": "stdout",
     "output_type": "stream",
     "text": [
      "Array: \n",
      " [0.44694176 0.65646103 0.87815417 0.17770928 0.96096937]\n",
      "Shape: \n",
      " (5,)\n"
     ]
    }
   ],
   "source": [
    "floats = np.random.random(5)\n",
    "print(\"Array: \\n\" , floats)\n",
    "print(\"Shape: \\n\" , floats.shape)"
   ]
  },
  {
   "cell_type": "code",
   "execution_count": 4,
   "id": "bbb299db",
   "metadata": {},
   "outputs": [
    {
     "name": "stdout",
     "output_type": "stream",
     "text": [
      "['F' 'R' 'Z' 'I' 'B' 'D' 'Q' 'G' 'K' 'N']\n"
     ]
    }
   ],
   "source": [
    "x = np.random.randint(65 , 91 , 10)\n",
    "\n",
    "char_arr = [0]*10\n",
    "count=0\n",
    "for i in x:\n",
    "    \n",
    "    char_arr[count] = chr(i)\n",
    "    count+=1\n",
    "\n",
    "\n",
    "char_arr = np.array(char_arr)\n",
    "print(char_arr)"
   ]
  },
  {
   "cell_type": "markdown",
   "id": "8b058eab",
   "metadata": {},
   "source": [
    "# Create a zeros, empty, identity , eye and a full array"
   ]
  },
  {
   "cell_type": "code",
   "execution_count": 5,
   "id": "43d7ba32",
   "metadata": {},
   "outputs": [
    {
     "data": {
      "text/plain": [
       "array([0., 0., 0., 0., 0., 0., 0., 0., 0., 0.])"
      ]
     },
     "execution_count": 5,
     "metadata": {},
     "output_type": "execute_result"
    }
   ],
   "source": [
    "zers_array = np.zeros(10)\n",
    "zers_array"
   ]
  },
  {
   "cell_type": "code",
   "execution_count": 6,
   "id": "679815ce",
   "metadata": {},
   "outputs": [
    {
     "data": {
      "text/plain": [
       "array([[1., 0., 0., 0., 0., 0., 0., 0., 0., 0.],\n",
       "       [0., 1., 0., 0., 0., 0., 0., 0., 0., 0.],\n",
       "       [0., 0., 1., 0., 0., 0., 0., 0., 0., 0.],\n",
       "       [0., 0., 0., 1., 0., 0., 0., 0., 0., 0.],\n",
       "       [0., 0., 0., 0., 1., 0., 0., 0., 0., 0.],\n",
       "       [0., 0., 0., 0., 0., 1., 0., 0., 0., 0.],\n",
       "       [0., 0., 0., 0., 0., 0., 1., 0., 0., 0.],\n",
       "       [0., 0., 0., 0., 0., 0., 0., 1., 0., 0.],\n",
       "       [0., 0., 0., 0., 0., 0., 0., 0., 1., 0.],\n",
       "       [0., 0., 0., 0., 0., 0., 0., 0., 0., 1.]])"
      ]
     },
     "execution_count": 6,
     "metadata": {},
     "output_type": "execute_result"
    }
   ],
   "source": [
    "identity = np.identity(10)\n",
    "identity"
   ]
  },
  {
   "cell_type": "code",
   "execution_count": 7,
   "id": "de4cff8b",
   "metadata": {},
   "outputs": [
    {
     "data": {
      "text/plain": [
       "array([[1., 0., 0.],\n",
       "       [0., 1., 0.],\n",
       "       [0., 0., 1.],\n",
       "       [0., 0., 0.]])"
      ]
     },
     "execution_count": 7,
     "metadata": {},
     "output_type": "execute_result"
    }
   ],
   "source": [
    "eye_matrix = np.eye(4,3)\n",
    "eye_matrix"
   ]
  },
  {
   "cell_type": "code",
   "execution_count": 8,
   "id": "bca0c614",
   "metadata": {},
   "outputs": [
    {
     "data": {
      "text/plain": [
       "array([1., 1., 1., 1., 1., 1., 1., 1., 1., 1.])"
      ]
     },
     "execution_count": 8,
     "metadata": {},
     "output_type": "execute_result"
    }
   ],
   "source": [
    "empty = np.empty(10)\n",
    "empty"
   ]
  },
  {
   "cell_type": "code",
   "execution_count": 9,
   "id": "90e3dddc",
   "metadata": {},
   "outputs": [
    {
     "data": {
      "text/plain": [
       "array([1, 1, 1, 1, 1, 1, 1, 1])"
      ]
     },
     "execution_count": 9,
     "metadata": {},
     "output_type": "execute_result"
    }
   ],
   "source": [
    "full = np.full(8,1)\n",
    "full"
   ]
  },
  {
   "cell_type": "markdown",
   "id": "41b7bb77",
   "metadata": {},
   "source": [
    "# Declare an array having the datatype of object, is it possible?"
   ]
  },
  {
   "cell_type": "code",
   "execution_count": 10,
   "id": "1fa46bbf",
   "metadata": {},
   "outputs": [
    {
     "data": {
      "text/plain": [
       "array([1, 0.5, 3, 'a', 'ans'], dtype=object)"
      ]
     },
     "execution_count": 10,
     "metadata": {},
     "output_type": "execute_result"
    }
   ],
   "source": [
    "object_type = np.array([1,0.5,3,'a','ans'] , dtype=object)\n",
    "object_type"
   ]
  },
  {
   "cell_type": "markdown",
   "id": "2f567005",
   "metadata": {},
   "source": [
    "# Create an array having 5 equally spaced numbers ranging from 5 to 15"
   ]
  },
  {
   "cell_type": "code",
   "execution_count": 11,
   "id": "9806de4b",
   "metadata": {},
   "outputs": [
    {
     "data": {
      "text/plain": [
       "array([ 5. ,  7.5, 10. , 12.5, 15. ])"
      ]
     },
     "execution_count": 11,
     "metadata": {},
     "output_type": "execute_result"
    }
   ],
   "source": [
    "ran = np.linspace(5,15,5)\n",
    "ran"
   ]
  },
  {
   "cell_type": "markdown",
   "id": "3701fd5f",
   "metadata": {},
   "source": [
    "# Create a numpy array ranging from 1 to 100."
   ]
  },
  {
   "cell_type": "code",
   "execution_count": 12,
   "id": "e81391ed",
   "metadata": {},
   "outputs": [
    {
     "data": {
      "text/plain": [
       "array([  1,   2,   3,   4,   5,   6,   7,   8,   9,  10,  11,  12,  13,\n",
       "        14,  15,  16,  17,  18,  19,  20,  21,  22,  23,  24,  25,  26,\n",
       "        27,  28,  29,  30,  31,  32,  33,  34,  35,  36,  37,  38,  39,\n",
       "        40,  41,  42,  43,  44,  45,  46,  47,  48,  49,  50,  51,  52,\n",
       "        53,  54,  55,  56,  57,  58,  59,  60,  61,  62,  63,  64,  65,\n",
       "        66,  67,  68,  69,  70,  71,  72,  73,  74,  75,  76,  77,  78,\n",
       "        79,  80,  81,  82,  83,  84,  85,  86,  87,  88,  89,  90,  91,\n",
       "        92,  93,  94,  95,  96,  97,  98,  99, 100])"
      ]
     },
     "execution_count": 12,
     "metadata": {},
     "output_type": "execute_result"
    }
   ],
   "source": [
    "aran = np.arange(1,101)\n",
    "aran"
   ]
  },
  {
   "cell_type": "markdown",
   "id": "d442eb32",
   "metadata": {},
   "source": [
    "# Reshape the above array into (100,15). Is it possible?"
   ]
  },
  {
   "cell_type": "code",
   "execution_count": 13,
   "id": "3b8f098e",
   "metadata": {},
   "outputs": [],
   "source": [
    "# not posssible"
   ]
  },
  {
   "cell_type": "markdown",
   "id": "5ce4a081",
   "metadata": {},
   "source": [
    "# Reshape the array into (10,10)."
   ]
  },
  {
   "cell_type": "code",
   "execution_count": 14,
   "id": "6f7aa9e3",
   "metadata": {},
   "outputs": [
    {
     "data": {
      "text/plain": [
       "array([[  1,   2,   3,   4,   5,   6,   7,   8,   9,  10],\n",
       "       [ 11,  12,  13,  14,  15,  16,  17,  18,  19,  20],\n",
       "       [ 21,  22,  23,  24,  25,  26,  27,  28,  29,  30],\n",
       "       [ 31,  32,  33,  34,  35,  36,  37,  38,  39,  40],\n",
       "       [ 41,  42,  43,  44,  45,  46,  47,  48,  49,  50],\n",
       "       [ 51,  52,  53,  54,  55,  56,  57,  58,  59,  60],\n",
       "       [ 61,  62,  63,  64,  65,  66,  67,  68,  69,  70],\n",
       "       [ 71,  72,  73,  74,  75,  76,  77,  78,  79,  80],\n",
       "       [ 81,  82,  83,  84,  85,  86,  87,  88,  89,  90],\n",
       "       [ 91,  92,  93,  94,  95,  96,  97,  98,  99, 100]])"
      ]
     },
     "execution_count": 14,
     "metadata": {},
     "output_type": "execute_result"
    }
   ],
   "source": [
    "resh = aran.reshape(10, 10)\n",
    "resh"
   ]
  },
  {
   "cell_type": "markdown",
   "id": "b6ce4489",
   "metadata": {},
   "source": [
    "# Flatten and ravel the reshaped array. What is the difference?"
   ]
  },
  {
   "cell_type": "code",
   "execution_count": 15,
   "id": "432b9a9b",
   "metadata": {},
   "outputs": [
    {
     "data": {
      "text/plain": [
       "array([  1,   2,   3,   4,   5,   6,   7,   8,   9,  10,  11,  12,  13,\n",
       "        14,  15,  16,  17,  18,  19,  20,  21,  22,  23,  24,  25,  26,\n",
       "        27,  28,  29,  30,  31,  32,  33,  34,  35,  36,  37,  38,  39,\n",
       "        40,  41,  42,  43,  44,  45,  46,  47,  48,  49,  50,  51,  52,\n",
       "        53,  54,  55,  56,  57,  58,  59,  60,  61,  62,  63,  64,  65,\n",
       "        66,  67,  68,  69,  70,  71,  72,  73,  74,  75,  76,  77,  78,\n",
       "        79,  80,  81,  82,  83,  84,  85,  86,  87,  88,  89,  90,  91,\n",
       "        92,  93,  94,  95,  96,  97,  98,  99, 100])"
      ]
     },
     "execution_count": 15,
     "metadata": {},
     "output_type": "execute_result"
    }
   ],
   "source": [
    "flat = resh.flatten()\n",
    "flat"
   ]
  },
  {
   "cell_type": "code",
   "execution_count": 16,
   "id": "362bd831",
   "metadata": {},
   "outputs": [
    {
     "data": {
      "text/plain": [
       "array([  1,   2,   3,   4,   5,   6,   7,   8,   9,  10,  11,  12,  13,\n",
       "        14,  15,  16,  17,  18,  19,  20,  21,  22,  23,  24,  25,  26,\n",
       "        27,  28,  29,  30,  31,  32,  33,  34,  35,  36,  37,  38,  39,\n",
       "        40,  41,  42,  43,  44,  45,  46,  47,  48,  49,  50,  51,  52,\n",
       "        53,  54,  55,  56,  57,  58,  59,  60,  61,  62,  63,  64,  65,\n",
       "        66,  67,  68,  69,  70,  71,  72,  73,  74,  75,  76,  77,  78,\n",
       "        79,  80,  81,  82,  83,  84,  85,  86,  87,  88,  89,  90,  91,\n",
       "        92,  93,  94,  95,  96,  97,  98,  99, 100])"
      ]
     },
     "execution_count": 16,
     "metadata": {},
     "output_type": "execute_result"
    }
   ],
   "source": [
    "rav = resh.ravel()\n",
    "rav"
   ]
  },
  {
   "cell_type": "code",
   "execution_count": 17,
   "id": "33307be6",
   "metadata": {},
   "outputs": [],
   "source": [
    "#flatten deep copy and faster than ravel\n",
    "#ravel shallow copy and slower than flatten"
   ]
  },
  {
   "cell_type": "markdown",
   "id": "9896262c",
   "metadata": {},
   "source": [
    "# Take an array [[1 2 3] [4 5 6] [ 7 8 9]]. Sum it along 0 and 1 axis"
   ]
  },
  {
   "cell_type": "code",
   "execution_count": 18,
   "id": "dbe7e3bf",
   "metadata": {},
   "outputs": [
    {
     "name": "stdout",
     "output_type": "stream",
     "text": [
      "Row vice sum:  [ 6 15 24]\n",
      "Column vice sum:  [12 15 18]\n"
     ]
    }
   ],
   "source": [
    "arr = np.array([[1,2,3] , [4,5,6] , [7,8,9]])\n",
    "\n",
    "row_sum = np.sum(arr , axis=1)\n",
    "col_sum = np.sum(arr , axis=0)\n",
    "print(\"Row vice sum: \" , row_sum)\n",
    "print(\"Column vice sum: \" , col_sum)\n"
   ]
  },
  {
   "cell_type": "markdown",
   "id": "fa2fc21f",
   "metadata": {},
   "source": [
    "# Find the number of bytes used by your array"
   ]
  },
  {
   "cell_type": "code",
   "execution_count": 19,
   "id": "dfda4a24",
   "metadata": {},
   "outputs": [
    {
     "data": {
      "text/plain": [
       "36"
      ]
     },
     "execution_count": 19,
     "metadata": {},
     "output_type": "execute_result"
    }
   ],
   "source": [
    "siz = arr.nbytes\n",
    "siz"
   ]
  },
  {
   "cell_type": "markdown",
   "id": "2e7c22b0",
   "metadata": {},
   "source": [
    "# Find the maximum and minimum values in a 1D array."
   ]
  },
  {
   "cell_type": "code",
   "execution_count": 20,
   "id": "490ccf52",
   "metadata": {},
   "outputs": [
    {
     "name": "stdout",
     "output_type": "stream",
     "text": [
      "Max Value:  99\n",
      "Min Value:  1\n"
     ]
    }
   ],
   "source": [
    "D1_array = np.array([1,2,3,4,5,99,34])\n",
    "max_index = np.argmax(D1_array)\n",
    "min_index = np.argmin(D1_array)\n",
    "\n",
    "print(\"Max Value: \" , D1_array[max_index])\n",
    "print(\"Min Value: \" , D1_array[min_index])"
   ]
  },
  {
   "cell_type": "markdown",
   "id": "bfcb721b",
   "metadata": {},
   "source": [
    "# Find the maximum and minimum values in 2D array"
   ]
  },
  {
   "cell_type": "code",
   "execution_count": 21,
   "id": "9c152dab",
   "metadata": {},
   "outputs": [
    {
     "name": "stdout",
     "output_type": "stream",
     "text": [
      "Array: \n",
      " [[1 2 3]\n",
      " [4 5 6]\n",
      " [7 8 9]]\n",
      "Column min:  [1 2 3]\n",
      "Column max:  [7 8 9]\n",
      "Row min:  [1 4 7]\n",
      "Row max:  [3 6 9]\n"
     ]
    }
   ],
   "source": [
    "arr = np.array([[1,2,3] , [4,5,6] , [7,8,9]])\n",
    "\n",
    "column_max = np.amax(arr , axis=0)\n",
    "column_min = np.min(arr , axis=0)\n",
    "row_max = np.amax(arr , axis=1)\n",
    "row_min = np.min(arr , axis=1)\n",
    "\n",
    "print(\"Array: \\n\" , arr)\n",
    "print(\"Column min: \" , column_min)\n",
    "print(\"Column max: \" , column_max)\n",
    "print(\"Row min: \" , row_min)\n",
    "print(\"Row max: \" , row_max)"
   ]
  },
  {
   "cell_type": "markdown",
   "id": "d4c461a9",
   "metadata": {},
   "source": [
    "# Sort an array"
   ]
  },
  {
   "cell_type": "code",
   "execution_count": 22,
   "id": "7c2e75f3",
   "metadata": {},
   "outputs": [
    {
     "data": {
      "text/plain": [
       "array([ 1,  2,  3,  4,  5, 34, 99])"
      ]
     },
     "execution_count": 22,
     "metadata": {},
     "output_type": "execute_result"
    }
   ],
   "source": [
    "D1_array = np.array([1,2,3,4,5,99,34])\n",
    "sort_array= np.sort(D1_array)\n",
    "sort_array\n"
   ]
  },
  {
   "cell_type": "markdown",
   "id": "e7b27c8a",
   "metadata": {},
   "source": [
    "# Is * and mul the same as dot product for numpy arrays and matrices? Check."
   ]
  },
  {
   "cell_type": "code",
   "execution_count": 23,
   "id": "2eda2e70",
   "metadata": {},
   "outputs": [
    {
     "name": "stdout",
     "output_type": "stream",
     "text": [
      "Dot Product:  32\n",
      "*:  [ 4 10 18]\n"
     ]
    }
   ],
   "source": [
    "arr1 = np.array([1,2,3])\n",
    "arr2 = np.array([4,5,6])\n",
    "\n",
    "dot = np.dot(arr1 , arr2)\n",
    "mul = arr1 * arr2\n",
    "\n",
    "print(\"Dot Product: \" , dot)\n",
    "print(\"*: \" , mul)\n"
   ]
  },
  {
   "cell_type": "code",
   "execution_count": 24,
   "id": "67e54dc9",
   "metadata": {},
   "outputs": [],
   "source": [
    "# both are not same"
   ]
  },
  {
   "cell_type": "markdown",
   "id": "8b2ff176",
   "metadata": {},
   "source": [
    "# Take the square root and norm of an array."
   ]
  },
  {
   "cell_type": "code",
   "execution_count": 25,
   "id": "668dd6b2",
   "metadata": {},
   "outputs": [
    {
     "name": "stdout",
     "output_type": "stream",
     "text": [
      "Square Root:  [1. 2. 3. 4.]\n",
      "Normalize:  18.81488772222678\n"
     ]
    }
   ],
   "source": [
    "a = [1,4,9,16]\n",
    "sqrt = np.sqrt(a)\n",
    "norm = np.linalg.norm(a)\n",
    "\n",
    "print(\"Square Root: \" , sqrt)\n",
    "print(\"Normalize: \" , norm)"
   ]
  },
  {
   "cell_type": "markdown",
   "id": "fc8d016a",
   "metadata": {},
   "source": [
    "# Find the std, non-zero, zero values and mean of an array."
   ]
  },
  {
   "cell_type": "code",
   "execution_count": 26,
   "id": "4cdf3131",
   "metadata": {},
   "outputs": [
    {
     "name": "stdout",
     "output_type": "stream",
     "text": [
      "std:  5.678908345800274\n",
      "mean:  7.5\n",
      "Non zeros:  [1 3 6 7]\n",
      "Zeros:  [0]\n"
     ]
    }
   ],
   "source": [
    "std = np.std(a)\n",
    "mean= np.mean(a)\n",
    "\n",
    "a = np.array([1,3,6,0,7])\n",
    "zeros = a[a==0]\n",
    "non_zeros = a[a!=0]\n",
    "print(\"std: \" , std)\n",
    "print(\"mean: \", mean)\n",
    "print(\"Non zeros: \", non_zeros)\n",
    "print(\"Zeros: \" , zeros)"
   ]
  },
  {
   "cell_type": "markdown",
   "id": "75f96806",
   "metadata": {},
   "source": [
    "# Convert some angles to radians and vice versa."
   ]
  },
  {
   "cell_type": "code",
   "execution_count": 27,
   "id": "2ebb2ba8",
   "metadata": {},
   "outputs": [
    {
     "name": "stdout",
     "output_type": "stream",
     "text": [
      "Array:  [ 33.94058575 207.69217706 356.75340517 295.7490672   21.23529578\n",
      "  18.5741619   10.53876454 313.16418143 242.06842582  16.41031073]\n",
      "Radians:  [0.59237497 3.62491232 6.22652154 5.16179498 0.37062583 0.32418028\n",
      " 0.18393614 5.46574607 4.22489105 0.28641395]\n",
      "Angles:  [ 33.94058575 207.69217706 356.75340517 295.7490672   21.23529578\n",
      "  18.5741619   10.53876454 313.16418143 242.06842582  16.41031073]\n"
     ]
    }
   ],
   "source": [
    "angles = np.random.uniform(0,360,10)\n",
    "\n",
    "print(\"Array: \" , angles)\n",
    "rad   = np.radians(angles)\n",
    "print(\"Radians: \" , rad)\n",
    "angle = np.degrees(rad)\n",
    "print(\"Angles: \" , angle )"
   ]
  },
  {
   "cell_type": "markdown",
   "id": "b72b2af7",
   "metadata": {},
   "source": [
    "# Save and load some of your arrays"
   ]
  },
  {
   "cell_type": "code",
   "execution_count": 28,
   "id": "e96d9cc9",
   "metadata": {},
   "outputs": [],
   "source": [
    "arr = np.array([1,2,3,4])\n",
    "np.save('array' , arr)\n"
   ]
  },
  {
   "cell_type": "code",
   "execution_count": 29,
   "id": "323d51e2",
   "metadata": {},
   "outputs": [
    {
     "data": {
      "text/plain": [
       "array([1, 2, 3, 4])"
      ]
     },
     "execution_count": 29,
     "metadata": {},
     "output_type": "execute_result"
    }
   ],
   "source": [
    "np.load('array.npy')"
   ]
  },
  {
   "cell_type": "markdown",
   "id": "1d4697e8",
   "metadata": {},
   "source": [
    "# Calculate the mean, std, var, max, min, of an array with shape (3,3,12,3) containing floats drawn\n",
    "from a normal distribution with mean 21 and sigma 4.5. see the np.random.normal."
   ]
  },
  {
   "cell_type": "code",
   "execution_count": 30,
   "id": "174fe1e4",
   "metadata": {},
   "outputs": [
    {
     "data": {
      "text/plain": [
       "array([[[[21.41625936, 18.19286464, 26.91245995],\n",
       "         [14.29162696, 24.79475312, 26.70005426],\n",
       "         [20.74508275, 20.13547318, 26.37190813],\n",
       "         [19.96512586, 21.07304475, 26.21469321],\n",
       "         [14.48025904, 18.98503123, 17.47658834],\n",
       "         [22.03326185, 25.97368375, 21.67316456],\n",
       "         [23.35030439, 23.38278282, 25.21108147],\n",
       "         [17.01712873, 20.71658641, 28.01444037],\n",
       "         [15.42395628, 16.28699656, 12.12745139],\n",
       "         [24.67825413, 18.5215206 , 19.69133187],\n",
       "         [16.81698647, 19.16478376, 25.1350121 ],\n",
       "         [23.82387648, 31.41777874, 18.77973846]],\n",
       "\n",
       "        [[30.07106888, 22.37529905, 19.20386374],\n",
       "         [17.68341467, 17.42830824, 19.30452429],\n",
       "         [20.34395358, 24.22197996, 19.21427568],\n",
       "         [17.6294411 , 18.35921455, 24.74517162],\n",
       "         [20.21032011, 21.30132638, 26.55927952],\n",
       "         [17.73817712, 20.26160547, 25.02543894],\n",
       "         [19.98362609, 22.93645772, 28.2083849 ],\n",
       "         [12.11443072, 21.54012501, 25.54797644],\n",
       "         [22.87908294, 19.58808867, 23.41718025],\n",
       "         [13.98783653, 23.26178069, 22.82430152],\n",
       "         [16.54507061, 23.91541922, 12.20152983],\n",
       "         [21.83727827, 20.02055542, 20.31068308]],\n",
       "\n",
       "        [[24.8095674 , 20.12564398, 23.58516957],\n",
       "         [24.37665663, 27.02123974, 18.16240482],\n",
       "         [18.92421366, 17.43930054, 27.94653804],\n",
       "         [15.7031959 , 16.1489861 , 18.94928824],\n",
       "         [19.39797509, 23.04687307, 21.41804802],\n",
       "         [15.01391966, 15.81263127, 26.15346391],\n",
       "         [18.98858138, 24.41031867, 24.86126332],\n",
       "         [13.90949023, 17.83027261, 22.85592729],\n",
       "         [23.91567603, 30.17915898, 27.24336587],\n",
       "         [23.1832066 , 21.79254211, 20.64842719],\n",
       "         [25.41270518, 22.5810831 , 26.87659409],\n",
       "         [27.61833263, 16.96991914, 16.18158309]]],\n",
       "\n",
       "\n",
       "       [[[14.98429991, 20.39133677, 25.95905112],\n",
       "         [26.80086493, 20.89414576, 18.20529602],\n",
       "         [26.10221186, 30.78691305, 14.29499229],\n",
       "         [19.86024125, 21.0990146 , 24.27981157],\n",
       "         [23.76961169, 16.66257986, 19.35052812],\n",
       "         [24.38095537, 15.73465842, 17.09396287],\n",
       "         [24.97555952, 26.37250571, 17.91486684],\n",
       "         [24.73733105, 18.36300174, 21.53894085],\n",
       "         [29.66861426, 28.92886464, 14.88455714],\n",
       "         [18.48749641, 17.65944684, 25.97250797],\n",
       "         [17.72932316, 25.70239155, 18.04818808],\n",
       "         [21.20009703, 22.40107303, 19.85669374]],\n",
       "\n",
       "        [[18.42524163, 22.63436813, 18.25668217],\n",
       "         [22.95957731, 16.47682464, 15.11967278],\n",
       "         [25.95536061, 25.33117608, 29.86201419],\n",
       "         [18.04390337, 19.52184844, 23.39013412],\n",
       "         [22.36332686, 13.77402079, 20.37203372],\n",
       "         [21.90759247, 17.45550972, 31.58754399],\n",
       "         [23.90540835, 18.691011  , 15.8863116 ],\n",
       "         [25.99520068, 19.17896679, 23.6831204 ],\n",
       "         [20.53917894, 28.31752758, 26.28750673],\n",
       "         [13.77021754, 19.99233029, 19.30690877],\n",
       "         [24.05295479, 14.41597405, 28.16346151],\n",
       "         [26.77419451, 18.11534613, 28.91941569]],\n",
       "\n",
       "        [[18.88450474, 22.4778399 , 24.06655264],\n",
       "         [23.76771893, 22.04694062, 16.00294263],\n",
       "         [20.78684004, 23.6413916 , 22.58240947],\n",
       "         [21.48979863, 19.26826503, 18.27045073],\n",
       "         [20.34267879, 15.19732857, 23.70742665],\n",
       "         [21.21928003, 15.95575033, 20.65009869],\n",
       "         [16.96266322, 26.42202734, 18.23989054],\n",
       "         [25.57648311, 25.21281758, 17.17644545],\n",
       "         [26.88052219, 13.49276895, 21.64552404],\n",
       "         [14.53905447, 13.73496805, 21.70360349],\n",
       "         [26.67837566, 17.44870932, 19.52311461],\n",
       "         [20.78643756, 25.9592122 , 20.55906137]]],\n",
       "\n",
       "\n",
       "       [[[28.5025482 , 27.74240526, 21.7923993 ],\n",
       "         [25.25349207, 21.98436118, 22.47097349],\n",
       "         [12.38967241, 18.9886776 , 19.06255121],\n",
       "         [18.88544995, 24.83190634, 21.59213103],\n",
       "         [23.31343878, 16.99807461, 26.70560164],\n",
       "         [18.18418741, 24.5352303 , 23.44817222],\n",
       "         [29.90301646, 22.75615157, 22.26673129],\n",
       "         [21.93575349, 17.40586128, 19.70418105],\n",
       "         [23.49946779, 18.80780821, 27.7183943 ],\n",
       "         [23.510382  , 19.57680773, 21.72724542],\n",
       "         [26.84378616, 30.0936036 , 33.15644561],\n",
       "         [23.22178799, 27.37530199, 22.48493381]],\n",
       "\n",
       "        [[22.83988183, 29.48504386, 17.55334708],\n",
       "         [21.89397695, 21.50675388, 15.2056078 ],\n",
       "         [27.52136562, 18.11503815, 16.16406894],\n",
       "         [15.26883296, 17.92282905, 17.94049651],\n",
       "         [24.72084527, 25.05226187, 25.10225325],\n",
       "         [23.09215274, 20.3530601 , 26.27431895],\n",
       "         [21.91819377, 25.76552055, 24.06557529],\n",
       "         [20.56863518, 27.11208647, 15.90307419],\n",
       "         [20.46448647, 22.36106786, 31.07574353],\n",
       "         [19.34614056, 23.56288651, 21.16167216],\n",
       "         [19.76133624, 28.93647797, 24.60359857],\n",
       "         [22.44902365, 24.9977612 , 22.02322236]],\n",
       "\n",
       "        [[21.72728428, 25.25366493, 22.09812057],\n",
       "         [19.26844548, 18.87167833, 21.2133772 ],\n",
       "         [32.37052264, 24.93174702, 22.04157823],\n",
       "         [25.43759476, 21.37383076, 14.05523836],\n",
       "         [14.58048238, 17.51768004, 22.71454733],\n",
       "         [23.96566068, 25.08936261, 11.81841952],\n",
       "         [19.1582413 , 23.14532397, 22.92583181],\n",
       "         [19.74464026, 28.69269218, 22.26486464],\n",
       "         [21.30846935, 21.9167053 , 21.88992045],\n",
       "         [26.83183461, 19.1521347 , 27.42069599],\n",
       "         [26.91038676, 17.97193269, 20.03145959],\n",
       "         [26.09246132, 16.99442205, 24.95442018]]]])"
      ]
     },
     "execution_count": 30,
     "metadata": {},
     "output_type": "execute_result"
    }
   ],
   "source": [
    "arr = np.random.normal(21,4.5,[3,3,12,3])\n",
    "arr"
   ]
  },
  {
   "cell_type": "code",
   "execution_count": 31,
   "id": "1ffe5e09",
   "metadata": {},
   "outputs": [
    {
     "name": "stdout",
     "output_type": "stream",
     "text": [
      "Mean:  21.66420469362135\n",
      "Std:  4.2536359180471335\n",
      "Var:  18.09341852330068\n",
      "Min:  11.818419516367435\n",
      "Max:  33.15644560779286\n"
     ]
    }
   ],
   "source": [
    "print(\"Mean: \" , np.mean(arr))\n",
    "print(\"Std: \" , np.std(arr))\n",
    "print(\"Var: \" , np.var(arr))\n",
    "print(\"Min: \" , np.min(arr))\n",
    "print(\"Max: \" , np.max(arr))"
   ]
  },
  {
   "cell_type": "code",
   "execution_count": null,
   "id": "a395162c",
   "metadata": {},
   "outputs": [],
   "source": []
  }
 ],
 "metadata": {
  "kernelspec": {
   "display_name": "Python 3 (ipykernel)",
   "language": "python",
   "name": "python3"
  },
  "language_info": {
   "codemirror_mode": {
    "name": "ipython",
    "version": 3
   },
   "file_extension": ".py",
   "mimetype": "text/x-python",
   "name": "python",
   "nbconvert_exporter": "python",
   "pygments_lexer": "ipython3",
   "version": "3.9.7"
  }
 },
 "nbformat": 4,
 "nbformat_minor": 5
}
