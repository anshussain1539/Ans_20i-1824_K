{
 "cells": [
  {
   "cell_type": "markdown",
   "metadata": {},
   "source": [
    "# Lab-11\n",
    "# Ans Hussain\n",
    "# 20i-1824"
   ]
  },
  {
   "cell_type": "markdown",
   "metadata": {},
   "source": [
    "### Numpy Exercise\n",
    "In this exercise, we will be working with a dataset with the information of baseball players. Here is the code to read the dataset and convert it into lists."
   ]
  },
  {
   "cell_type": "code",
   "execution_count": 1,
   "metadata": {},
   "outputs": [
    {
     "name": "stdout",
     "output_type": "stream",
     "text": [
      "Populating the interactive namespace from numpy and matplotlib\n"
     ]
    }
   ],
   "source": [
    "%pylab inline"
   ]
  },
  {
   "cell_type": "code",
   "execution_count": 2,
   "metadata": {},
   "outputs": [],
   "source": [
    "import pandas as pd\n",
    "import numpy as np"
   ]
  },
  {
   "cell_type": "code",
   "execution_count": 3,
   "metadata": {},
   "outputs": [],
   "source": [
    "bbdata=pd.read_csv('baseball.csv')\n",
    "\n",
    "height=list(bbdata['height'])\n",
    "weight=list(bbdata['weights'])"
   ]
  },
  {
   "cell_type": "code",
   "execution_count": 4,
   "metadata": {},
   "outputs": [
    {
     "data": {
      "text/plain": [
       "<matplotlib.collections.PathCollection at 0x146135bfdf0>"
      ]
     },
     "execution_count": 4,
     "metadata": {},
     "output_type": "execute_result"
    },
    {
     "data": {
      "image/png": "[encoded data removed]",
      "text/plain": [
       "<Figure size 432x288 with 1 Axes>"
      ]
     },
     "metadata": {
      "needs_background": "light"
     },
     "output_type": "display_data"
    }
   ],
   "source": [
    "plt.scatter(height,weight)"
   ]
  },
  {
   "cell_type": "markdown",
   "metadata": {},
   "source": [
    "### Real Work begins\n",
    "We have height and weidths as lists now, you task is to convert them into numpy arrays and then acheive the following insights.\n",
    "The units are height in inches, weight in Kgs"
   ]
  },
  {
   "cell_type": "code",
   "execution_count": 5,
   "metadata": {},
   "outputs": [
    {
     "name": "stdout",
     "output_type": "stream",
     "text": [
      "[74 74 72 ... 75 75 73]\n",
      "[180. 215. 210. ... 205. 190. 195.]\n"
     ]
    }
   ],
   "source": [
    "# height is available as a regular list\n",
    "\n",
    "# Import numpy\n",
    "import numpy as np\n",
    "\n",
    "# Create a Numpy array from height: np_height\n",
    "np_height = np.array(bbdata['height'])\n",
    "\n",
    "# Print out np_height\n",
    "print(np_height)\n",
    "\n",
    "\n",
    "# Create array from weight with correct units: np_weight_kg \n",
    "np_weight_kg = np.array(bbdata['weights'])\n",
    "\n",
    "# print the array np_weight_kg\n",
    "print(np_weight_kg)"
   ]
  },
  {
   "cell_type": "markdown",
   "metadata": {},
   "source": [
    "* 1 meter = 39.3701 inches"
   ]
  },
  {
   "cell_type": "code",
   "execution_count": 6,
   "metadata": {},
   "outputs": [
    {
     "data": {
      "text/plain": [
       "array([1.87959899, 1.87959899, 1.82879901, ..., 1.90499897, 1.90499897,\n",
       "       1.854199  ])"
      ]
     },
     "execution_count": 6,
     "metadata": {},
     "output_type": "execute_result"
    }
   ],
   "source": [
    "# Convert np_height to meters: np_height_m\n",
    "\n",
    "np_height_m = np_height*(1/39.3701)\n",
    "\n",
    "# Print np_height_m\n",
    "np_height_m\n"
   ]
  },
  {
   "cell_type": "markdown",
   "metadata": {},
   "source": [
    "- BMI=weight(kg)/(height (in m)**2)"
   ]
  },
  {
   "cell_type": "code",
   "execution_count": 7,
   "metadata": {},
   "outputs": [
    {
     "data": {
      "text/plain": [
       "array([50.94975517, 60.85665201, 62.78954524, ..., 56.48906288,\n",
       "       52.35571681, 56.71813303])"
      ]
     },
     "execution_count": 7,
     "metadata": {},
     "output_type": "execute_result"
    }
   ],
   "source": [
    "# Calculate the BMI: bmi\n",
    "\n",
    "bmi = np_weight_kg/(np_height_m**2)\n",
    "\n",
    "# Print out bmi\n",
    "bmi"
   ]
  },
  {
   "cell_type": "markdown",
   "metadata": {},
   "source": [
    "Create a boolean Numpy array: the element of the array should be True if the corresponding baseball player's BMI is below 21. You can use the < operator for this. Name the array light.\n",
    "Print the array light.\n",
    "Print out a Numpy array with the BMIs of all baseball players whose BMI is below 21. Use light inside square brackets to do a selection on the bmi array.\n"
   ]
  },
  {
   "cell_type": "code",
   "execution_count": 8,
   "metadata": {},
   "outputs": [
    {
     "name": "stderr",
     "output_type": "stream",
     "text": [
      "C:\\Users\\anshu\\anaconda3\\lib\\site-packages\\numpy\\lib\\function_base.py:2197: RuntimeWarning: invalid value encountered in func (vectorized)\n",
      "  outputs = ufunc(*inputs)\n"
     ]
    },
    {
     "data": {
      "text/plain": [
       "array([False, False, False, ..., False, False, False])"
      ]
     },
     "execution_count": 8,
     "metadata": {},
     "output_type": "execute_result"
    }
   ],
   "source": [
    "def func(x):\n",
    "    if x<21:\n",
    "        return True\n",
    "    else:\n",
    "        return False\n",
    "    \n",
    "func = np.vectorize(func)\n",
    "\n",
    "hayee = func(bmi)\n",
    "hayee"
   ]
  },
  {
   "cell_type": "code",
   "execution_count": 9,
   "metadata": {},
   "outputs": [
    {
     "name": "stdout",
     "output_type": "stream",
     "text": [
      "[[180.   78.4]\n",
      " [215.  102.7]\n",
      " [210.   98.5]\n",
      " [188.   75.2]]\n",
      "(4, 2)\n"
     ]
    }
   ],
   "source": [
    "# Create baseball, a list of lists\n",
    "baseball = [[180, 78.4],\n",
    "            [215, 102.7],\n",
    "            [210, 98.5],\n",
    "            [188, 75.2]]\n",
    "\n",
    "# Import numpy\n",
    "import numpy as np\n",
    "\n",
    "# Create a 2D Numpy array from baseball: np_baseball\n",
    "\n",
    "np_baseball = np.array(baseball)\n",
    "\n",
    "\n",
    "# Print out the type of np_baseball\n",
    "\n",
    "print(np_baseball)\n",
    "\n",
    "# Print out the shape of np_baseball\n",
    "\n",
    "print(np_baseball.shape)"
   ]
  },
  {
   "cell_type": "code",
   "execution_count": 10,
   "metadata": {},
   "outputs": [
    {
     "name": "stdout",
     "output_type": "stream",
     "text": [
      "(2, 1034)\n"
     ]
    }
   ],
   "source": [
    "# Create a 2D Numpy array named np_baseball from the lists of weight and height\n",
    "\n",
    "np_baseball = np.array( [ np_weight_kg ,  np_height  ])\n",
    "             \n",
    "# Print out the shape of np_baseball\n",
    "print(np_baseball.shape)\n"
   ]
  },
  {
   "cell_type": "markdown",
   "metadata": {},
   "source": [
    "- If you want to convert the units of height and weight. As a first step, create a Numpy array with two values: 0.0254, 0.453592. Name this array conversion.\n",
    "Multiply np_baseball with conversion and print out the result."
   ]
  },
  {
   "cell_type": "code",
   "execution_count": 11,
   "metadata": {},
   "outputs": [
    {
     "data": {
      "text/plain": [
       "array([[ 4.572   ,  5.461   ,  5.334   , ...,  5.207   ,  4.826   ,\n",
       "         4.953   ],\n",
       "       [33.565808, 33.565808, 32.658624, ..., 34.0194  , 34.0194  ,\n",
       "        33.112216]])"
      ]
     },
     "execution_count": 11,
     "metadata": {},
     "output_type": "execute_result"
    }
   ],
   "source": [
    "temp = [[0.0254]  , [0.453592]]\n",
    "result = np_baseball * temp\n",
    "result"
   ]
  },
  {
   "cell_type": "markdown",
   "metadata": {},
   "source": [
    "### Now it's time for some statistics"
   ]
  },
  {
   "cell_type": "code",
   "execution_count": 12,
   "metadata": {},
   "outputs": [
    {
     "name": "stdout",
     "output_type": "stream",
     "text": [
      "Mean:  73.6972920696325\n",
      "Medain:  74.0\n",
      "Standard Deviation:  2.304703041620148\n",
      "Correalation:  [[1.         0.51603124]\n",
      " [0.51603124 1.        ]]\n"
     ]
    }
   ],
   "source": [
    "# Print out the mean of np_height\n",
    "mean_height = np_height.mean()\n",
    "print (\"Mean: \" , mean_height)\n",
    "\n",
    "# Print out the median of np_height\n",
    "np_weight_kg[np.isnan(np_weight_kg)] = 0\n",
    "median_height = np.median(np_height)\n",
    "\n",
    "# Print median height. Replace 'None'\n",
    "print(\"Medain: \" , median_height)\n",
    "\n",
    "# Print out the standard deviation on height. Replace 'None'\n",
    "\n",
    "std_height = np_height.std()\n",
    "print(\"Standard Deviation: \" , std_height)\n",
    "\n",
    "# Print out correlation between first and second column. Replace 'None'\n",
    "\n",
    "# print(np.cov(np_baseball))\n",
    "\n",
    "print(\"Correalation: \" , np.corrcoef(np_height , np_weight_kg) )"
   ]
  },
  {
   "cell_type": "code",
   "execution_count": 13,
   "metadata": {},
   "outputs": [
    {
     "data": {
      "text/plain": [
       "928"
      ]
     },
     "execution_count": 13,
     "metadata": {},
     "output_type": "execute_result"
    }
   ],
   "source": [
    "# Print the index of player with maximum height\n",
    " \n",
    "max_index = np.argmax(np_height)\n",
    "max_index"
   ]
  },
  {
   "cell_type": "code",
   "execution_count": 14,
   "metadata": {},
   "outputs": [
    {
     "data": {
      "text/plain": [
       "array([6., 6., 6., ..., 6., 6., 6.])"
      ]
     },
     "execution_count": 14,
     "metadata": {},
     "output_type": "execute_result"
    }
   ],
   "source": [
    "#Replace all the players height greater than 6 Feet with 6 Feet\n",
    "np_height_feet = (np_height_m)*3.8084\n",
    "\n",
    "np_height_feet[np_height_feet>6] = 6\n",
    "np_height_feet"
   ]
  },
  {
   "cell_type": "code",
   "execution_count": 15,
   "metadata": {},
   "outputs": [
    {
     "data": {
      "text/plain": [
       "1034"
      ]
     },
     "execution_count": 15,
     "metadata": {},
     "output_type": "execute_result"
    }
   ],
   "source": [
    "#Count number of players with weight greater than 75 kg..\n",
    "\n",
    "len(np_weight_kg>75)"
   ]
  },
  {
   "cell_type": "code",
   "execution_count": 16,
   "metadata": {},
   "outputs": [
    {
     "name": "stdout",
     "output_type": "stream",
     "text": [
      "[74 74 72 ... 75 75 73]\n",
      "[1007 1008  773 ...  881  573  928]\n",
      "[67 67 68 ... 82 82 83]\n"
     ]
    }
   ],
   "source": [
    "# Sort the height, and get the sorting index as well\n",
    "sort = np.argsort(np_height)\n",
    "hei = np_height[sort]\n",
    "print(np_height)\n",
    "print(sort)\n",
    "print(hei)"
   ]
  },
  {
   "cell_type": "code",
   "execution_count": 17,
   "metadata": {},
   "outputs": [
    {
     "data": {
      "text/plain": [
       "(1034, 2)"
      ]
     },
     "execution_count": 17,
     "metadata": {},
     "output_type": "execute_result"
    }
   ],
   "source": [
    "#Reshape the 2 x Number of Players array to Number of Players x 2\n",
    "\n",
    "new = np_baseball.reshape(-1,2)\n",
    "new.shape"
   ]
  },
  {
   "cell_type": "code",
   "execution_count": 18,
   "metadata": {},
   "outputs": [
    {
     "data": {
      "image/png": "[encoded data removed]",
      "text/plain": [
       "<Figure size 432x288 with 1 Axes>"
      ]
     },
     "metadata": {
      "needs_background": "light"
     },
     "output_type": "display_data"
    }
   ],
   "source": [
    "#Generate Scatter Plot, See plt.scatter, use height as one axis and weight as second axis\n",
    "plt.scatter(height , weight)\n",
    "plt.title(\"Baseball Players\")\n",
    "plt.xlabel(\"Height\")\n",
    "plt.ylabel(\"Weight\")\n",
    "plt.show()\n"
   ]
  },
  {
   "cell_type": "code",
   "execution_count": 19,
   "metadata": {},
   "outputs": [],
   "source": [
    "#Now choose a random player, and project player height and weight to this random player, you can plot\n",
    "# the vector using plt.arrow function\n",
    "\n",
    "# ran = np.random.randint(1,new.shape[0]+1)\n",
    "# plt.arrow(np_height[ran] , np_weight_kg[ran])"
   ]
  },
  {
   "cell_type": "markdown",
   "metadata": {},
   "source": [
    "#### Advanced Operations"
   ]
  },
  {
   "cell_type": "markdown",
   "metadata": {},
   "source": [
    "1. Construct an array from the list: [1,2,3]\n",
    "2. Cast it into floats\n",
    "3. Create an array of int ranging from 0-10 \n",
    "4. Create an array containing 7 evenly spaced numbers between 0 and 23\n",
    "5. Create an array with shape (2,5,1,5,2,1) containing only the number 5\n",
    "6. Eliminate all length-1 dimensions. See the function squeeze.\n",
    "7. Reshape the resulting array from shape (2,5,3,2) to only 2D\n",
    "8. Calculate the mean, std, var, max, min, of an array with shape (3,3,12,3) containing floats drawn\n",
    "from a normal distribution with mean 21 and sigma 4.5. see the np.random.normal.\n",
    "9. Do the same but not on all elements but only on the 2nd dimension. \n",
    "10. Transform the array such that it is only 1d. See the function Flatten or ravel\n",
    "11. Remove all values smaller 15 and larger 26.\n",
    "12. Clip all values smaller 15 and larger 26 to NaN. See the function Clip\n",
    "13. Calculate the sum of the resulting array. It should not be NaN!.\n",
    "14. Convert the NaN’s to 0.0. See Where\n",
    "15. Save the array and load it again."
   ]
  },
  {
   "cell_type": "markdown",
   "metadata": {},
   "source": [
    "Task-1\n",
    "Construct an array from the list: [1,2,3]"
   ]
  },
  {
   "cell_type": "code",
   "execution_count": 20,
   "metadata": {},
   "outputs": [
    {
     "data": {
      "text/plain": [
       "array([1, 2, 3])"
      ]
     },
     "execution_count": 20,
     "metadata": {},
     "output_type": "execute_result"
    }
   ],
   "source": [
    "a=[1,2,3]\n",
    "np_a = np.array(a)\n",
    "np_a"
   ]
  },
  {
   "cell_type": "markdown",
   "metadata": {},
   "source": [
    "Task-2\n",
    "Cast it into floats"
   ]
  },
  {
   "cell_type": "code",
   "execution_count": 21,
   "metadata": {},
   "outputs": [
    {
     "data": {
      "text/plain": [
       "array([1., 2., 3.])"
      ]
     },
     "execution_count": 21,
     "metadata": {},
     "output_type": "execute_result"
    }
   ],
   "source": [
    "temp = np_a.astype('float')\n",
    "temp"
   ]
  },
  {
   "cell_type": "markdown",
   "metadata": {},
   "source": [
    "Task-3\n",
    "Create an array of int ranging from 0-10"
   ]
  },
  {
   "cell_type": "code",
   "execution_count": 22,
   "metadata": {},
   "outputs": [
    {
     "data": {
      "text/plain": [
       "array([9, 4, 6, 0, 3])"
      ]
     },
     "execution_count": 22,
     "metadata": {},
     "output_type": "execute_result"
    }
   ],
   "source": [
    "ran = np.random.randint(0,11,size=5)\n",
    "ran"
   ]
  },
  {
   "cell_type": "markdown",
   "metadata": {},
   "source": [
    "Task-4\n",
    "Create an array containing 7 evenly spaced numbers between 0 and 23"
   ]
  },
  {
   "cell_type": "code",
   "execution_count": 23,
   "metadata": {},
   "outputs": [
    {
     "data": {
      "text/plain": [
       "array([ 0.        ,  3.83333333,  7.66666667, 11.5       , 15.33333333,\n",
       "       19.16666667, 23.        ])"
      ]
     },
     "execution_count": 23,
     "metadata": {},
     "output_type": "execute_result"
    }
   ],
   "source": [
    "array = linspace(0,23,7)\n",
    "array"
   ]
  },
  {
   "cell_type": "markdown",
   "metadata": {},
   "source": [
    "Task-5 Create an array with shape (2,5,1,5,2,1) containing only the number 5"
   ]
  },
  {
   "cell_type": "code",
   "execution_count": 24,
   "metadata": {},
   "outputs": [],
   "source": [
    "# not possible\n"
   ]
  },
  {
   "cell_type": "markdown",
   "metadata": {},
   "source": [
    "Task-6\n",
    "Eliminate all length-1 dimensions. See the function squeeze"
   ]
  },
  {
   "cell_type": "code",
   "execution_count": 25,
   "metadata": {},
   "outputs": [
    {
     "name": "stdout",
     "output_type": "stream",
     "text": [
      "Shape of array:  (2, 5, 1, 5, 2, 1)\n",
      "After Squeeze Function:  (2, 5, 5, 2)\n"
     ]
    }
   ],
   "source": [
    "array = np.random.randint(1,100,100)\n",
    "array = array.reshape(2,5,1,5,2,1)\n",
    "\n",
    "print(\"Shape of array: \" , array.shape)\n",
    "\n",
    "array = np.squeeze(array)\n",
    "\n",
    "print(\"After Squeeze Function: \" , array.shape)\n"
   ]
  },
  {
   "cell_type": "markdown",
   "metadata": {},
   "source": [
    "Task-7\n",
    "Reshape the resulting array from shape (2,5,3,2) to only 2D"
   ]
  },
  {
   "cell_type": "code",
   "execution_count": 26,
   "metadata": {},
   "outputs": [
    {
     "name": "stdout",
     "output_type": "stream",
     "text": [
      "(2, 5, 5, 2)\n"
     ]
    },
    {
     "data": {
      "text/plain": [
       "(50, 2)"
      ]
     },
     "execution_count": 26,
     "metadata": {},
     "output_type": "execute_result"
    }
   ],
   "source": [
    "\n",
    "print(array.shape)\n",
    "\n",
    "arr2 = array.reshape(-1,2)\n",
    "arr2.shape"
   ]
  },
  {
   "cell_type": "markdown",
   "metadata": {},
   "source": [
    "Task-8\n",
    "Calculate the mean, std, var, max, min, of an array with shape (3,3,12,3) containing floats drawn from a normal distribution with mean 21 and sigma 4.5. see the np.random.normal."
   ]
  },
  {
   "cell_type": "code",
   "execution_count": 27,
   "metadata": {},
   "outputs": [
    {
     "data": {
      "text/plain": [
       "array([[[[19.20235573, 18.16555781, 33.44984615],\n",
       "         [22.81694803, 24.54464018, 22.37624436],\n",
       "         [24.17852882, 21.35478701, 15.87992458],\n",
       "         [16.98635608, 21.81871644, 29.10384111],\n",
       "         [16.77801142, 27.31540401, 14.28494321],\n",
       "         [14.07224822, 19.48128253, 15.60702906],\n",
       "         [14.39508624, 11.7072413 , 18.78320275],\n",
       "         [28.28754732, 14.56130315, 15.64056857],\n",
       "         [17.28992558, 21.63867699, 18.69575077],\n",
       "         [23.34681318, 22.45484042, 21.67359039],\n",
       "         [19.94082246, 22.34560934, 17.32139902],\n",
       "         [20.28739207, 22.40445845, 21.41775804]],\n",
       "\n",
       "        [[17.47877444, 11.52374521, 20.18303279],\n",
       "         [14.33093943, 24.09594165, 13.24610543],\n",
       "         [23.61701552, 20.38657197, 20.55898841],\n",
       "         [29.89187137, 18.2990803 , 32.55018941],\n",
       "         [20.0907044 , 20.93275105, 23.55174159],\n",
       "         [27.09597061, 20.21934857, 25.40802337],\n",
       "         [16.54358671, 16.87904249, 23.18766049],\n",
       "         [23.57821087, 19.24248797, 19.88289668],\n",
       "         [30.35154014, 27.10667519, 22.42566597],\n",
       "         [25.51488487, 23.33702775, 18.9816468 ],\n",
       "         [20.56948611, 23.98255657, 21.779766  ],\n",
       "         [23.57903987, 22.49094467, 24.75568966]],\n",
       "\n",
       "        [[19.87966478, 20.42341341, 28.54655378],\n",
       "         [27.35227385, 22.46022317, 25.14315177],\n",
       "         [28.2198582 , 22.42006065, 22.90753762],\n",
       "         [23.92397294, 29.51113937, 22.92272761],\n",
       "         [30.20553452, 21.52743643, 17.58339883],\n",
       "         [22.09907037, 23.37961459, 26.82447276],\n",
       "         [20.46375316, 19.17781767, 20.64952917],\n",
       "         [21.70879729, 19.24173992, 18.42584196],\n",
       "         [22.07850401, 15.64678317, 16.07421371],\n",
       "         [20.27268809, 24.97486139, 26.86176722],\n",
       "         [26.77475417, 28.63211415, 28.4890641 ],\n",
       "         [17.58633213, 16.69171969, 20.4115379 ]]],\n",
       "\n",
       "\n",
       "       [[[28.32359698, 22.88960785, 22.34653491],\n",
       "         [14.37887014, 16.15180623, 25.0116022 ],\n",
       "         [28.15672979, 22.20599748, 19.4947912 ],\n",
       "         [25.14224184, 14.13922511, 13.91717707],\n",
       "         [11.15287241, 24.18487046, 20.40120314],\n",
       "         [23.08204802, 25.88786013, 19.80150666],\n",
       "         [26.88879431, 16.57231895, 14.4486234 ],\n",
       "         [11.95389836, 20.73371307, 11.16574034],\n",
       "         [25.73930784, 16.59909083, 22.73496544],\n",
       "         [12.88748429, 23.8451834 , 23.46528277],\n",
       "         [17.46868516, 13.75720502, 14.1098222 ],\n",
       "         [25.5257414 , 21.94314738, 30.60124624]],\n",
       "\n",
       "        [[27.26749685, 15.65268243, 23.96653281],\n",
       "         [27.7281702 , 29.902802  , 18.20180302],\n",
       "         [24.66078677, 25.20178189, 26.92642402],\n",
       "         [20.85249604, 21.47241753, 15.55124919],\n",
       "         [24.77644449, 14.78755815, 18.24024226],\n",
       "         [24.42164201, 20.91368836, 18.41423705],\n",
       "         [18.13284004, 18.63797348, 30.87194147],\n",
       "         [20.89030978, 23.67213843, 19.53274998],\n",
       "         [17.9393321 , 16.24149299, 14.25082929],\n",
       "         [15.63921476, 21.71401461, 19.69347545],\n",
       "         [25.94450905, 20.75525035, 23.96173008],\n",
       "         [18.45089675, 25.8640901 , 25.69893128]],\n",
       "\n",
       "        [[20.02912938, 29.18517754, 16.04619027],\n",
       "         [11.01853968, 19.36984126, 27.62753197],\n",
       "         [17.75638218, 21.68859044, 15.28861439],\n",
       "         [18.2811661 , 24.71143899, 18.87067394],\n",
       "         [21.96390606, 25.48915101, 16.49103649],\n",
       "         [23.71433698, 19.4035274 , 20.24401362],\n",
       "         [28.73788907, 23.54256043, 18.40144459],\n",
       "         [15.75326648, 24.90223131, 24.60226566],\n",
       "         [20.10415593, 19.22653167, 17.61494969],\n",
       "         [28.83755832, 14.95535662, 21.275172  ],\n",
       "         [19.86497317, 16.67187439, 12.85869243],\n",
       "         [20.85573341, 21.3933858 , 25.21310556]]],\n",
       "\n",
       "\n",
       "       [[[26.57564184, 22.7478473 , 20.3593144 ],\n",
       "         [21.39965081, 13.81733473, 27.49629966],\n",
       "         [14.48186829, 20.98414729, 14.71468006],\n",
       "         [23.7879204 , 17.79580906, 14.88624977],\n",
       "         [27.77985001, 16.64078224, 15.25710211],\n",
       "         [25.3193647 , 24.40385975, 12.45894517],\n",
       "         [23.26065567, 11.88179039, 20.65450088],\n",
       "         [25.13166375, 21.00049698, 18.25926561],\n",
       "         [24.05054277, 11.90685148, 25.25634644],\n",
       "         [21.47980325, 16.86780207, 27.35888085],\n",
       "         [25.81726647, 23.41225663, 11.78043604],\n",
       "         [20.79489316, 15.74336063, 21.05138625]],\n",
       "\n",
       "        [[21.73537707, 25.03837049, 21.17435628],\n",
       "         [22.75128978, 16.62237348, 22.48665609],\n",
       "         [18.47081752, 17.83862429, 16.10290508],\n",
       "         [19.62605525, 18.2847993 , 19.22839181],\n",
       "         [19.13554055, 19.36422176, 15.71189895],\n",
       "         [16.61083331, 18.88229971, 17.02089782],\n",
       "         [16.41585595, 25.80407199, 24.88131705],\n",
       "         [18.93875947, 26.36099029, 24.53182541],\n",
       "         [20.28547345, 15.88899811, 14.25974716],\n",
       "         [20.68647815, 23.39047259, 17.99153158],\n",
       "         [26.44699425, 25.20169917, 16.55728426],\n",
       "         [13.46249991, 20.76169319, 25.24902403]],\n",
       "\n",
       "        [[20.21239772, 19.78838798, 24.91685559],\n",
       "         [24.26510011, 20.12446587, 22.36490122],\n",
       "         [20.82409332, 31.85229334, 21.23477389],\n",
       "         [31.37430814, 18.94693579, 16.41020702],\n",
       "         [17.82210712, 15.29244544, 25.06197834],\n",
       "         [31.47729733, 21.73265636, 26.11131617],\n",
       "         [24.7565496 , 17.93203703, 16.34474533],\n",
       "         [20.30959904, 29.98441817, 19.37675579],\n",
       "         [17.35478661, 24.13327835, 24.27073763],\n",
       "         [22.30690396, 18.69548262, 19.54363084],\n",
       "         [18.16021123, 24.92732522, 27.00244002],\n",
       "         [21.35650967, 24.63218835, 19.55386234]]]])"
      ]
     },
     "execution_count": 27,
     "metadata": {},
     "output_type": "execute_result"
    }
   ],
   "source": [
    "arr = np.random.normal(21,4.5,[3,3,12,3])\n",
    "arr"
   ]
  },
  {
   "cell_type": "code",
   "execution_count": 28,
   "metadata": {},
   "outputs": [
    {
     "name": "stdout",
     "output_type": "stream",
     "text": [
      "Mean:  21.089348191605875\n",
      "Std:  4.590876759479731\n",
      "Var:  21.07614942073112\n",
      "Min:  11.018539679109356\n",
      "Max:  33.44984614566144\n"
     ]
    }
   ],
   "source": [
    "print(\"Mean: \" , np.mean(arr))\n",
    "print(\"Std: \" , np.std(arr))\n",
    "print(\"Var: \" , np.var(arr))\n",
    "print(\"Min: \" , np.min(arr))\n",
    "print(\"Max: \" , np.max(arr))"
   ]
  },
  {
   "cell_type": "markdown",
   "metadata": {},
   "source": [
    "Task-9\n",
    "Do the same but not on all elements but only on the 2nd dimension."
   ]
  },
  {
   "cell_type": "code",
   "execution_count": 29,
   "metadata": {},
   "outputs": [],
   "source": [
    "# Unable to understand the question\n",
    "# :)"
   ]
  },
  {
   "cell_type": "markdown",
   "metadata": {},
   "source": [
    "Task-10\n",
    "Transform the array such that it is only 1d. See the function Flatten or ravel"
   ]
  },
  {
   "cell_type": "code",
   "execution_count": 30,
   "metadata": {},
   "outputs": [
    {
     "name": "stdout",
     "output_type": "stream",
     "text": [
      "Faltten:  [76 24 31 32 94 97 44 60 88 41 16 30 23 79 51 39 49 45 67 32 39 63 20 93\n",
      "  4 11 10 34 56 10 89 85 53 25  7 68 54 56 25 54 51 69 34 22 28 48 21  1\n",
      " 31 12 81 26  7 47 79 69  7  5 47 28 99 14 21 29 24  9 20 28 81 19 79 33\n",
      "  2 85 98 63 24 42 39 29 40 84 15 91 11 15 60 79 89 48 47 60 72 59 91 85\n",
      " 37 94 39 12]\n",
      "Ravel:  [76 24 31 32 94 97 44 60 88 41 16 30 23 79 51 39 49 45 67 32 39 63 20 93\n",
      "  4 11 10 34 56 10 89 85 53 25  7 68 54 56 25 54 51 69 34 22 28 48 21  1\n",
      " 31 12 81 26  7 47 79 69  7  5 47 28 99 14 21 29 24  9 20 28 81 19 79 33\n",
      "  2 85 98 63 24 42 39 29 40 84 15 91 11 15 60 79 89 48 47 60 72 59 91 85\n",
      " 37 94 39 12]\n"
     ]
    }
   ],
   "source": [
    "flat = array.flatten()\n",
    "print(\"Faltten: \" , flat)\n",
    "\n",
    "ravel = array.ravel()\n",
    "print(\"Ravel: \" , ravel)"
   ]
  },
  {
   "cell_type": "markdown",
   "metadata": {},
   "source": [
    "Task-11\n",
    "Remove all values smaller 15 and larger 26."
   ]
  },
  {
   "cell_type": "code",
   "execution_count": 31,
   "metadata": {},
   "outputs": [
    {
     "name": "stdout",
     "output_type": "stream",
     "text": [
      "Before Array:  [20 15 19 17 24 28 29 20 26 25]\n",
      "After Deletion:  [20 19 17 24 20 25]\n"
     ]
    }
   ],
   "source": [
    "array = np.random.randint(10,30,10)\n",
    "print(\"Before Array: \" , array)\n",
    "\n",
    "array2 = array[array < 26]\n",
    "array3 = array2[array2 > 15]\n",
    "\n",
    "print(\"After Deletion: \" , array3)"
   ]
  },
  {
   "cell_type": "markdown",
   "metadata": {},
   "source": [
    "Task-12 Clip all values smaller 15 and larger 26 to NaN. See the function Clip"
   ]
  },
  {
   "cell_type": "code",
   "execution_count": 32,
   "metadata": {},
   "outputs": [
    {
     "data": {
      "text/plain": [
       "array([20., 15., 19., 17., 24., nan, nan, 20., 26., 25.])"
      ]
     },
     "execution_count": 32,
     "metadata": {},
     "output_type": "execute_result"
    }
   ],
   "source": [
    "out_array = np.clip(array , 14 , 27)\n",
    "out_array = out_array.astype('float')\n",
    "out_array[out_array==27]='nan'\n",
    "out_array[out_array==14]='nan'\n",
    "out_array"
   ]
  },
  {
   "cell_type": "markdown",
   "metadata": {},
   "source": [
    "Task-13 Calculate the sum of the resulting array. It should not be NaN!."
   ]
  },
  {
   "cell_type": "code",
   "execution_count": 33,
   "metadata": {},
   "outputs": [
    {
     "data": {
      "text/plain": [
       "199.2"
      ]
     },
     "execution_count": 33,
     "metadata": {},
     "output_type": "execute_result"
    }
   ],
   "source": [
    "out_array[np.isnan(out_array)] = 0\n",
    "out_array[out_array==0] = np.mean(out_array)\n",
    "\n",
    "tot = np.sum(out_array)\n",
    "tot"
   ]
  },
  {
   "cell_type": "markdown",
   "metadata": {},
   "source": [
    "Task-14 Convert the NaN’s to 0.0. See Where"
   ]
  },
  {
   "cell_type": "code",
   "execution_count": 34,
   "metadata": {},
   "outputs": [
    {
     "name": "stdout",
     "output_type": "stream",
     "text": [
      "Before Replacing Nan:  [ 1. nan  5.]\n",
      "After Replacing Nan:  [1. 0. 5.]\n"
     ]
    }
   ],
   "source": [
    "arr=np.array([1, nan , 5])\n",
    "print(\"Before Replacing Nan: \" , arr)\n",
    "arr[np.isnan(arr)] = 0\n",
    "print(\"After Replacing Nan: \" , arr)"
   ]
  },
  {
   "cell_type": "markdown",
   "metadata": {},
   "source": [
    "Task-15 Save the array and load it again."
   ]
  },
  {
   "cell_type": "code",
   "execution_count": 35,
   "metadata": {},
   "outputs": [],
   "source": [
    "arr = np.random.randint(1,10,10)\n",
    "np.save('array' , arr)"
   ]
  },
  {
   "cell_type": "code",
   "execution_count": 36,
   "metadata": {},
   "outputs": [
    {
     "data": {
      "text/plain": [
       "array([8, 6, 2, 1, 7, 8, 9, 5, 6, 7])"
      ]
     },
     "execution_count": 36,
     "metadata": {},
     "output_type": "execute_result"
    }
   ],
   "source": [
    "np.load('array.npy')"
   ]
  },
  {
   "cell_type": "code",
   "execution_count": null,
   "metadata": {},
   "outputs": [],
   "source": []
  }
 ],
 "metadata": {
  "kernelspec": {
   "display_name": "Python 3 (ipykernel)",
   "language": "python",
   "name": "python3"
  },
  "language_info": {
   "codemirror_mode": {
    "name": "ipython",
    "version": 3
   },
   "file_extension": ".py",
   "mimetype": "text/x-python",
   "name": "python",
   "nbconvert_exporter": "python",
   "pygments_lexer": "ipython3",
   "version": "3.9.7"
  }
 },
 "nbformat": 4,
 "nbformat_minor": 1
}
