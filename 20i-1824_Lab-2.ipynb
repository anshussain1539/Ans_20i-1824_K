{
 "cells": [
  {
   "cell_type": "markdown",
   "id": "4ec1fa4f",
   "metadata": {},
   "source": [
    "# Ans Hussain\n",
    "# 20i-1824\n",
    "# AI(K)\n",
    "# Lab-2"
   ]
  },
  {
   "cell_type": "code",
   "execution_count": 96,
   "id": "c3e865ca",
   "metadata": {},
   "outputs": [],
   "source": [
    "import pandas as pd\n",
    "import numpy as np\n",
    "import matplotlib.pyplot as plt"
   ]
  },
  {
   "cell_type": "markdown",
   "id": "382e9b55",
   "metadata": {},
   "source": [
    "# Task-1\n",
    "# Parent Class"
   ]
  },
  {
   "cell_type": "code",
   "execution_count": 2,
   "id": "b7c90581",
   "metadata": {},
   "outputs": [],
   "source": [
    "class university:\n",
    "    campus = 5\n",
    "    _camp = 5\n",
    "    __campuses = 5\n",
    "    def __init__(self,name, location):\n",
    "        self.uname = name\n",
    "        self.location = location\n",
    "        \n",
    "    def display(self):\n",
    "#         print(\"Name is\" , self.name + \" Location is\" , self.location)\n",
    "        print(f\"Name is {self.uname} and location is {self.location}\")        "
   ]
  },
  {
   "cell_type": "code",
   "execution_count": 3,
   "id": "b158beec",
   "metadata": {},
   "outputs": [
    {
     "name": "stdout",
     "output_type": "stream",
     "text": [
      "Name is FAST and location is ISLAMABAD\n"
     ]
    }
   ],
   "source": [
    "obj1 = university(\"FAST\" , \"ISLAMABAD\")\n",
    "obj1.display()"
   ]
  },
  {
   "cell_type": "code",
   "execution_count": 4,
   "id": "ded53220",
   "metadata": {},
   "outputs": [
    {
     "name": "stdout",
     "output_type": "stream",
     "text": [
      "6\n",
      "5\n"
     ]
    }
   ],
   "source": [
    "obj2 = university(\"FAST\" , \"KUNRI\")\n",
    "obj1.campus = 6\n",
    "print(obj1.campus)\n",
    "print(obj2.campus)\n"
   ]
  },
  {
   "cell_type": "markdown",
   "id": "e74e99e3",
   "metadata": {},
   "source": [
    "# Child Class"
   ]
  },
  {
   "cell_type": "code",
   "execution_count": 5,
   "id": "64a109c2",
   "metadata": {},
   "outputs": [],
   "source": [
    "class Department(university):\n",
    "    def __init__(self, name , programs, u_name , u_locations):\n",
    "        super().__init__(u_name , u_locations)\n",
    "        self.name = name \n",
    "        self.programs = programs\n",
    "        \n",
    "    def display1(self):\n",
    "        self.display()\n",
    "        print(f\"Department Name is {self.name} and programs are {self.programs}\")        "
   ]
  },
  {
   "cell_type": "code",
   "execution_count": 6,
   "id": "9a3b287b",
   "metadata": {},
   "outputs": [
    {
     "name": "stdout",
     "output_type": "stream",
     "text": [
      "Name is Fast and location is Isb\n",
      "DEpartment Name is AI and programs are 5\n"
     ]
    }
   ],
   "source": [
    "objd = Department (\"AI\" , \"5\" , \"Fast\" , \"Isb\")\n",
    "objd.display1()"
   ]
  },
  {
   "cell_type": "markdown",
   "id": "7e975905",
   "metadata": {},
   "source": [
    "# Task-2\n",
    "# Enumertae"
   ]
  },
  {
   "cell_type": "code",
   "execution_count": 81,
   "id": "9e60b271",
   "metadata": {},
   "outputs": [],
   "source": [
    "def fun(list):\n",
    "    for i,j in enumerate (list):\n",
    "        print(i , j)"
   ]
  },
  {
   "cell_type": "code",
   "execution_count": 82,
   "id": "c90ccf21",
   "metadata": {},
   "outputs": [
    {
     "name": "stdout",
     "output_type": "stream",
     "text": [
      "0 a\n",
      "1 z\n",
      "2 v\n",
      "3 d\n"
     ]
    }
   ],
   "source": [
    "list1 = ['a', 'z', 'v', 'd']\n",
    "fun (list1)"
   ]
  },
  {
   "cell_type": "markdown",
   "id": "91187ad2",
   "metadata": {},
   "source": [
    "# Task-4"
   ]
  },
  {
   "cell_type": "markdown",
   "id": "a1b9e283",
   "metadata": {},
   "source": [
    "# (i)"
   ]
  },
  {
   "cell_type": "code",
   "execution_count": 27,
   "id": "d7e669c5",
   "metadata": {},
   "outputs": [],
   "source": [
    "def fun1(strings):\n",
    "    count = 0\n",
    "    for i in strings:\n",
    "        x = len(i.split(\" \"))\n",
    "        if i[0] == i[-1] and x >= 2:\n",
    "            count+=1\n",
    "    return count\n",
    "    "
   ]
  },
  {
   "cell_type": "code",
   "execution_count": 28,
   "id": "b7254d55",
   "metadata": {},
   "outputs": [
    {
     "data": {
      "text/plain": [
       "1"
      ]
     },
     "execution_count": 28,
     "metadata": {},
     "output_type": "execute_result"
    }
   ],
   "source": [
    "fun= [\"My name is Ans\" , \"why\" , \"May Allah Bless M\" , \"whw\"]\n",
    "fun1(fun)"
   ]
  },
  {
   "cell_type": "markdown",
   "id": "f9d745e8",
   "metadata": {},
   "source": [
    "# (ii)"
   ]
  },
  {
   "cell_type": "code",
   "execution_count": 61,
   "id": "111adbda",
   "metadata": {},
   "outputs": [],
   "source": [
    "def fun2(list_string):\n",
    "    count=0\n",
    "    list2=[]\n",
    "    for i in list_string:\n",
    "        if i[0]=='x' or i[0]=='X':\n",
    "            list2.append(i)\n",
    "            list_string.pop(count)  \n",
    "        count+=1\n",
    "        \n",
    "    list_string.sort()\n",
    "    final=list_string+list2\n",
    "    print(final)\n",
    "    "
   ]
  },
  {
   "cell_type": "code",
   "execution_count": 62,
   "id": "e3f78fd2",
   "metadata": {},
   "outputs": [
    {
     "name": "stdout",
     "output_type": "stream",
     "text": [
      "['May Allah Bless M', 'My name is Ans', 'xhy', 'Xhw']\n"
     ]
    }
   ],
   "source": [
    "fun= [\"My name is Ans\" , \"xhy\" , \"May Allah Bless M\" , \"Xhw\"]\n",
    "fun2(fun)"
   ]
  },
  {
   "cell_type": "markdown",
   "id": "fd52537c",
   "metadata": {},
   "source": [
    "# (iii)"
   ]
  },
  {
   "cell_type": "code",
   "execution_count": 64,
   "id": "673f07eb",
   "metadata": {},
   "outputs": [],
   "source": [
    "def sort_list_last(tuples):\n",
    "    x = (sorted(tuples, key=lambda x:x[-1]))\n",
    "    print(x)"
   ]
  },
  {
   "cell_type": "code",
   "execution_count": 66,
   "id": "27dbd61a",
   "metadata": {},
   "outputs": [
    {
     "name": "stdout",
     "output_type": "stream",
     "text": [
      "[(2, 1), (4, 2), (2, 2), (2, 5), (3, 6)]\n"
     ]
    }
   ],
   "source": [
    "sort_list_last([(3, 6), (4, 2), (2, 1), (2, 2), (2, 5)])"
   ]
  },
  {
   "cell_type": "markdown",
   "id": "f159b3e2",
   "metadata": {},
   "source": [
    "# (iv)\n"
   ]
  },
  {
   "cell_type": "code",
   "execution_count": 39,
   "id": "e1ac62b7",
   "metadata": {},
   "outputs": [],
   "source": [
    "def fun4(list1):\n",
    "    list2=[]\n",
    "    for i in range(len(list1)):\n",
    "        if i==0:\n",
    "            list2.append(list1[0])\n",
    "            \n",
    "        else:\n",
    "            if list1[i] != list1[i-1]:\n",
    "                list2.append(list1[i])\n",
    "    print(list2)"
   ]
  },
  {
   "cell_type": "code",
   "execution_count": 42,
   "id": "6c80ef50",
   "metadata": {},
   "outputs": [
    {
     "name": "stdout",
     "output_type": "stream",
     "text": [
      "[1, 2, 3, 4, 3, 5]\n"
     ]
    }
   ],
   "source": [
    "listing = [1,2,2,2,3,4,4,3,5]\n",
    "fun4(listing)"
   ]
  },
  {
   "cell_type": "markdown",
   "id": "8f5cd849",
   "metadata": {},
   "source": [
    "# (v)\n"
   ]
  },
  {
   "cell_type": "code",
   "execution_count": 31,
   "id": "17eb370b",
   "metadata": {},
   "outputs": [],
   "source": [
    "def fun5(list1 , list2):\n",
    "    list3 = list1 + list2\n",
    "    list3.sort()\n",
    "    print(list3)  \n",
    "    "
   ]
  },
  {
   "cell_type": "code",
   "execution_count": 32,
   "id": "ecf5b986",
   "metadata": {},
   "outputs": [
    {
     "name": "stdout",
     "output_type": "stream",
     "text": [
      "[1, 1, 3, 4, 5, 7]\n"
     ]
    }
   ],
   "source": [
    "l1=[1,5,4]\n",
    "l2=[1,3,7]\n",
    "fun5(l1 , l2)\n"
   ]
  },
  {
   "cell_type": "markdown",
   "id": "bd63f59b",
   "metadata": {},
   "source": [
    "# Pandas Task\n",
    "# Task-3"
   ]
  },
  {
   "cell_type": "code",
   "execution_count": 83,
   "id": "4a398a0c",
   "metadata": {},
   "outputs": [],
   "source": [
    "df = pd.read_csv(\"drinks.csv\")\n",
    "df"
   ]
  },
  {
   "cell_type": "markdown",
   "id": "dbbabfb3",
   "metadata": {},
   "source": [
    "# (i)"
   ]
  },
  {
   "cell_type": "code",
   "execution_count": 87,
   "id": "4b9e640e",
   "metadata": {},
   "outputs": [
    {
     "name": "stdout",
     "output_type": "stream",
     "text": [
      "The number of rows in dataframe are:  193\n"
     ]
    }
   ],
   "source": [
    "rows = df.shape[0]\n",
    "print(\"The number of rows in dataframe are: \", rows )"
   ]
  },
  {
   "cell_type": "markdown",
   "id": "c3e103e0",
   "metadata": {},
   "source": [
    "# (ii)"
   ]
  },
  {
   "cell_type": "code",
   "execution_count": 90,
   "id": "0f5cd9a9",
   "metadata": {},
   "outputs": [
    {
     "data": {
      "text/html": [
       "<div>\n",
       "<style scoped>\n",
       "    .dataframe tbody tr th:only-of-type {\n",
       "        vertical-align: middle;\n",
       "    }\n",
       "\n",
       "    .dataframe tbody tr th {\n",
       "        vertical-align: top;\n",
       "    }\n",
       "\n",
       "    .dataframe thead th {\n",
       "        text-align: right;\n",
       "    }\n",
       "</style>\n",
       "<table border=\"1\" class=\"dataframe\">\n",
       "  <thead>\n",
       "    <tr style=\"text-align: right;\">\n",
       "      <th></th>\n",
       "      <th>country</th>\n",
       "      <th>beer_servings</th>\n",
       "      <th>spirit_servings</th>\n",
       "      <th>wine_servings</th>\n",
       "      <th>total_litres_of_pure_alcohol</th>\n",
       "      <th>continent</th>\n",
       "    </tr>\n",
       "  </thead>\n",
       "  <tbody>\n",
       "    <tr>\n",
       "      <th>0</th>\n",
       "      <td>Afghanistan</td>\n",
       "      <td>0</td>\n",
       "      <td>0</td>\n",
       "      <td>0</td>\n",
       "      <td>0.0</td>\n",
       "      <td>AS</td>\n",
       "    </tr>\n",
       "    <tr>\n",
       "      <th>1</th>\n",
       "      <td>Albania</td>\n",
       "      <td>89</td>\n",
       "      <td>132</td>\n",
       "      <td>54</td>\n",
       "      <td>4.9</td>\n",
       "      <td>EU</td>\n",
       "    </tr>\n",
       "    <tr>\n",
       "      <th>2</th>\n",
       "      <td>Algeria</td>\n",
       "      <td>25</td>\n",
       "      <td>0</td>\n",
       "      <td>14</td>\n",
       "      <td>0.7</td>\n",
       "      <td>AF</td>\n",
       "    </tr>\n",
       "    <tr>\n",
       "      <th>3</th>\n",
       "      <td>Andorra</td>\n",
       "      <td>245</td>\n",
       "      <td>138</td>\n",
       "      <td>312</td>\n",
       "      <td>12.4</td>\n",
       "      <td>EU</td>\n",
       "    </tr>\n",
       "    <tr>\n",
       "      <th>4</th>\n",
       "      <td>Angola</td>\n",
       "      <td>217</td>\n",
       "      <td>57</td>\n",
       "      <td>45</td>\n",
       "      <td>5.9</td>\n",
       "      <td>AF</td>\n",
       "    </tr>\n",
       "    <tr>\n",
       "      <th>...</th>\n",
       "      <td>...</td>\n",
       "      <td>...</td>\n",
       "      <td>...</td>\n",
       "      <td>...</td>\n",
       "      <td>...</td>\n",
       "      <td>...</td>\n",
       "    </tr>\n",
       "    <tr>\n",
       "      <th>188</th>\n",
       "      <td>Venezuela</td>\n",
       "      <td>333</td>\n",
       "      <td>100</td>\n",
       "      <td>3</td>\n",
       "      <td>7.7</td>\n",
       "      <td>SA</td>\n",
       "    </tr>\n",
       "    <tr>\n",
       "      <th>189</th>\n",
       "      <td>Vietnam</td>\n",
       "      <td>111</td>\n",
       "      <td>2</td>\n",
       "      <td>1</td>\n",
       "      <td>2.0</td>\n",
       "      <td>AS</td>\n",
       "    </tr>\n",
       "    <tr>\n",
       "      <th>190</th>\n",
       "      <td>Yemen</td>\n",
       "      <td>6</td>\n",
       "      <td>0</td>\n",
       "      <td>0</td>\n",
       "      <td>0.1</td>\n",
       "      <td>AS</td>\n",
       "    </tr>\n",
       "    <tr>\n",
       "      <th>191</th>\n",
       "      <td>Zambia</td>\n",
       "      <td>32</td>\n",
       "      <td>19</td>\n",
       "      <td>4</td>\n",
       "      <td>2.5</td>\n",
       "      <td>AF</td>\n",
       "    </tr>\n",
       "    <tr>\n",
       "      <th>192</th>\n",
       "      <td>Zimbabwe</td>\n",
       "      <td>64</td>\n",
       "      <td>18</td>\n",
       "      <td>4</td>\n",
       "      <td>4.7</td>\n",
       "      <td>AF</td>\n",
       "    </tr>\n",
       "  </tbody>\n",
       "</table>\n",
       "<p>170 rows × 6 columns</p>\n",
       "</div>"
      ],
      "text/plain": [
       "         country  beer_servings  spirit_servings  wine_servings  \\\n",
       "0    Afghanistan              0                0              0   \n",
       "1        Albania             89              132             54   \n",
       "2        Algeria             25                0             14   \n",
       "3        Andorra            245              138            312   \n",
       "4         Angola            217               57             45   \n",
       "..           ...            ...              ...            ...   \n",
       "188    Venezuela            333              100              3   \n",
       "189      Vietnam            111                2              1   \n",
       "190        Yemen              6                0              0   \n",
       "191       Zambia             32               19              4   \n",
       "192     Zimbabwe             64               18              4   \n",
       "\n",
       "     total_litres_of_pure_alcohol continent  \n",
       "0                             0.0        AS  \n",
       "1                             4.9        EU  \n",
       "2                             0.7        AF  \n",
       "3                            12.4        EU  \n",
       "4                             5.9        AF  \n",
       "..                            ...       ...  \n",
       "188                           7.7        SA  \n",
       "189                           2.0        AS  \n",
       "190                           0.1        AS  \n",
       "191                           2.5        AF  \n",
       "192                           4.7        AF  \n",
       "\n",
       "[170 rows x 6 columns]"
      ]
     },
     "execution_count": 90,
     "metadata": {},
     "output_type": "execute_result"
    }
   ],
   "source": [
    "df = df.dropna()\n",
    "df"
   ]
  },
  {
   "cell_type": "markdown",
   "id": "c3a9a7c1",
   "metadata": {},
   "source": [
    "# (iii)"
   ]
  },
  {
   "cell_type": "code",
   "execution_count": 91,
   "id": "87feb613",
   "metadata": {},
   "outputs": [],
   "source": [
    "def fun_1(column_name):\n",
    "    return df[column_name]"
   ]
  },
  {
   "cell_type": "code",
   "execution_count": 94,
   "id": "f2ce3ecf",
   "metadata": {},
   "outputs": [
    {
     "data": {
      "text/plain": [
       "0      Afghanistan\n",
       "1          Albania\n",
       "2          Algeria\n",
       "3          Andorra\n",
       "4           Angola\n",
       "          ...     \n",
       "188      Venezuela\n",
       "189        Vietnam\n",
       "190          Yemen\n",
       "191         Zambia\n",
       "192       Zimbabwe\n",
       "Name: country, Length: 170, dtype: object"
      ]
     },
     "execution_count": 94,
     "metadata": {},
     "output_type": "execute_result"
    }
   ],
   "source": [
    "umm = 'country'\n",
    "col = fun_1(umm)\n",
    "col"
   ]
  },
  {
   "cell_type": "markdown",
   "id": "e5327129",
   "metadata": {},
   "source": [
    "# (iv)\n",
    "# Plot histograms of data"
   ]
  },
  {
   "cell_type": "code",
   "execution_count": 108,
   "id": "5f4abbfd",
   "metadata": {},
   "outputs": [
    {
     "name": "stdout",
     "output_type": "stream",
     "text": [
      "0\n",
      "376\n"
     ]
    },
    {
     "data": {
      "image/png": "[encoded data removed]",
      "text/plain": [
       "<Figure size 432x288 with 1 Axes>"
      ]
     },
     "metadata": {
      "needs_background": "light"
     },
     "output_type": "display_data"
    }
   ],
   "source": [
    "print(df['beer_servings'].min())\n",
    "print(df['beer_servings'].max())\n",
    "beer_servings = df['beer_servings']\n",
    "\n",
    "plt.hist(beer_servings,  rwidth=0.8, histtype = \"bar\",\n",
    "         orientation='vertical', color = \"b\" , label = \"ML Student\")\n",
    "\n",
    "plt.title(\"Beer serving in different countries.\")\n",
    "plt.xlabel(\"Beer serving\")\n",
    "plt.ylabel(\"No.of countries\")\n",
    "plt.legend()\n",
    "plt.show()"
   ]
  },
  {
   "cell_type": "markdown",
   "id": "d83987d0",
   "metadata": {},
   "source": [
    "# (v)\n",
    "# Plot a scatter plot in 2d and 3d"
   ]
  },
  {
   "cell_type": "code",
   "execution_count": 125,
   "id": "297e4093",
   "metadata": {},
   "outputs": [
    {
     "data": {
      "image/png": "[encoded data removed]",
      "text/plain": [
       "<Figure size 432x288 with 1 Axes>"
      ]
     },
     "metadata": {
      "needs_background": "light"
     },
     "output_type": "display_data"
    },
    {
     "data": {
      "image/png": "[encoded data removed]",
      "text/plain": [
       "<Figure size 432x288 with 1 Axes>"
      ]
     },
     "metadata": {
      "needs_background": "light"
     },
     "output_type": "display_data"
    }
   ],
   "source": [
    "x=df['beer_servings']\n",
    "y=df['wine_servings']\n",
    "\n",
    "import matplotlib.pyplot as plt\n",
    "\n",
    "plt.scatter(x, y ,c=\"r\")\n",
    "\n",
    "plt.title('beer and wine comparison')\n",
    "plt.xlabel('x')\n",
    "plt.ylabel('y')\n",
    "plt.show()\n",
    "\n",
    "#########################################\n",
    "\n",
    "fig = plt.figure()\n",
    "ax = fig.add_subplot(projection='3d')\n",
    "ax.scatter(df[\"beer_servings\"], df[\"wine_servings\"], df[\"spirit_servings\"])\n",
    "ax.set_xlabel('beer_servings')\n",
    "ax.set_ylabel('wine_servings')\n",
    "ax.set_zlabel('spirit_servings')\n",
    "# plt.legend(s.legend_elements()[0], list(set(df[\"target\"])))\n",
    "plt.show()"
   ]
  },
  {
   "cell_type": "markdown",
   "id": "68ea00c8",
   "metadata": {},
   "source": [
    "# (vi)\n",
    "# (Pie and Bar Chart)"
   ]
  },
  {
   "cell_type": "code",
   "execution_count": 134,
   "id": "b49476ec",
   "metadata": {},
   "outputs": [
    {
     "name": "stdout",
     "output_type": "stream",
     "text": [
      "Ratio of beer, wine and spirit in universe\n"
     ]
    },
    {
     "data": {
      "image/png": "[encoded data removed]",
      "text/plain": [
       "<Figure size 360x360 with 1 Axes>"
      ]
     },
     "metadata": {},
     "output_type": "display_data"
    },
    {
     "data": {
      "text/plain": [
       "<BarContainer object of 170 artists>"
      ]
     },
     "execution_count": 134,
     "metadata": {},
     "output_type": "execute_result"
    },
    {
     "data": {
      "image/png": "[encoded data removed]",
      "text/plain": [
       "<Figure size 432x288 with 1 Axes>"
      ]
     },
     "metadata": {
      "needs_background": "light"
     },
     "output_type": "display_data"
    }
   ],
   "source": [
    "beer_servings = df['beer_servings'].mean()\n",
    "wine_servings = df['wine_servings'].mean()\n",
    "spirit_servings = df['spirit_servings'].mean()\n",
    "print(\"Ratio of beer, wine and spirit in universe\")\n",
    "plt.figure(figsize=(5,5))\n",
    "plt.pie([beer_servings,wine_servings,spirit_servings])\n",
    "# plt.savefig(\"pie_char\")\n",
    "plt.show()\n",
    "\n",
    "##################################\n",
    "\n",
    "x = df['wine_servings']\n",
    "y = df['beer_servings']\n",
    "z = df['spirit_servings']\n",
    "a = np.arange(len(df))\n",
    "\n",
    "width = 0.2\n",
    "\n",
    "plt.barh(a, x, width , color = \"b\",\n",
    "        label =\"Wine Servings\") \n",
    "\n",
    "\n"
   ]
  },
  {
   "cell_type": "markdown",
   "id": "ea4abff6",
   "metadata": {},
   "source": [
    "# (vii)"
   ]
  },
  {
   "cell_type": "code",
   "execution_count": 133,
   "id": "b6448fd7",
   "metadata": {},
   "outputs": [
    {
     "data": {
      "text/plain": [
       "<BarContainer object of 170 artists>"
      ]
     },
     "execution_count": 133,
     "metadata": {},
     "output_type": "execute_result"
    },
    {
     "data": {
      "image/png": "[encoded data removed]",
      "text/plain": [
       "<Figure size 432x288 with 1 Axes>"
      ]
     },
     "metadata": {
      "needs_background": "light"
     },
     "output_type": "display_data"
    }
   ],
   "source": [
    "x = df['wine_servings']\n",
    "y = df['beer_servings']\n",
    "z = df['spirit_servings']\n",
    "a = np.arange(len(df))\n",
    "\n",
    "width = 0.2\n",
    "\n",
    "plt.barh(a, x, width , color = \"b\",\n",
    "        label =\"Wine Servings\") \n",
    "\n",
    "plt.barh(a + width, y, width , color = \"g\",\n",
    "        label =\"beer Servings\") \n",
    "\n",
    "plt.barh(a + width + width, z, width , color = \"y\",\n",
    "        label =\"Spirit Servings\") "
   ]
  },
  {
   "cell_type": "code",
   "execution_count": null,
   "id": "6efbc9b7",
   "metadata": {},
   "outputs": [],
   "source": []
  }
 ],
 "metadata": {
  "kernelspec": {
   "display_name": "Python 3 (ipykernel)",
   "language": "python",
   "name": "python3"
  },
  "language_info": {
   "codemirror_mode": {
    "name": "ipython",
    "version": 3
   },
   "file_extension": ".py",
   "mimetype": "text/x-python",
   "name": "python",
   "nbconvert_exporter": "python",
   "pygments_lexer": "ipython3",
   "version": "3.9.7"
  }
 },
 "nbformat": 4,
 "nbformat_minor": 5
}
