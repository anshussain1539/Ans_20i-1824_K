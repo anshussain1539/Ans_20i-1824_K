{
 "cells": [
  {
   "cell_type": "markdown",
   "id": "7f047c5a",
   "metadata": {},
   "source": [
    "# Task-1"
   ]
  },
  {
   "cell_type": "code",
   "execution_count": 1,
   "id": "e0d4421f",
   "metadata": {},
   "outputs": [
    {
     "data": {
      "text/plain": [
       "27"
      ]
     },
     "execution_count": 1,
     "metadata": {},
     "output_type": "execute_result"
    }
   ],
   "source": [
    "array = ['w','r','b']\n",
    "\n",
    "list1=[]\n",
    "for i in array:\n",
    "    for j in array:\n",
    "        for k in array:\n",
    "            if i not in list1:\n",
    "                list1.append(i+j+k)\n",
    "            \n",
    "len(list1)"
   ]
  },
  {
   "cell_type": "code",
   "execution_count": 2,
   "id": "ce9f3ed5",
   "metadata": {},
   "outputs": [],
   "source": [
    "r=4\n",
    "w=6\n",
    "b=6\n",
    "\n",
    "p_r = 4/15\n",
    "p_w = 6/15\n",
    "p_b = 5/15"
   ]
  },
  {
   "cell_type": "code",
   "execution_count": 3,
   "id": "f9193fd0",
   "metadata": {},
   "outputs": [
    {
     "name": "stdout",
     "output_type": "stream",
     "text": [
      "Combination:  wrb\n",
      "Probability:  0.26373626373626374\n"
     ]
    }
   ],
   "source": [
    "def fact(x):\n",
    "    fact1=1\n",
    "    for i in range(1,x+1):\n",
    "        fact1*=i\n",
    "    return fact1\n",
    "\n",
    "def combination(n,r):\n",
    "    return fact(n)/(fact(r)*fact(n-r))\n",
    "\n",
    "total_prob=[]\n",
    "for i in list1:\n",
    "    r1=0\n",
    "    r2=0\n",
    "    r3=0\n",
    "    for j in i:\n",
    "        if j=='w':\n",
    "            r1+=1\n",
    "        if j=='r':\n",
    "            r2+=1\n",
    "        if j=='b':\n",
    "            r3+=1\n",
    "        \n",
    "    temp1=combination(6,r1)\n",
    "    temp2=combination(4,r2)\n",
    "    temp3=combination(5,r3)\n",
    "    temp4=combination(15,3)\n",
    "    \n",
    "    total_prob.append(temp1*temp2*temp3/temp4)\n",
    "            \n",
    "\n",
    "max_value = max(total_prob)\n",
    "max_index = total_prob.index(max_value)\n",
    "print(\"Combination: \" , list1[max_index])       \n",
    "print(\"Probability: \" , total_prob[max_index])            "
   ]
  },
  {
   "cell_type": "markdown",
   "id": "ad8a5701",
   "metadata": {},
   "source": [
    "# Task-2&3"
   ]
  },
  {
   "cell_type": "code",
   "execution_count": 17,
   "id": "c69dd8eb",
   "metadata": {},
   "outputs": [],
   "source": [
    "import pandas as pd\n",
    "import numpy as np\n",
    "from sklearn.naive_bayes import GaussianNB\n",
    "from sklearn.model_selection import train_test_split\n",
    "from sklearn.metrics import classification_report\n",
    "from sklearn.preprocessing import LabelEncoder\n",
    "from sklearn.metrics import accuracy_score\n",
    "from sklearn.metrics import f1_score"
   ]
  },
  {
   "cell_type": "code",
   "execution_count": 5,
   "id": "45add4be",
   "metadata": {},
   "outputs": [
    {
     "data": {
      "text/html": [
       "<div>\n",
       "<style scoped>\n",
       "    .dataframe tbody tr th:only-of-type {\n",
       "        vertical-align: middle;\n",
       "    }\n",
       "\n",
       "    .dataframe tbody tr th {\n",
       "        vertical-align: top;\n",
       "    }\n",
       "\n",
       "    .dataframe thead th {\n",
       "        text-align: right;\n",
       "    }\n",
       "</style>\n",
       "<table border=\"1\" class=\"dataframe\">\n",
       "  <thead>\n",
       "    <tr style=\"text-align: right;\">\n",
       "      <th></th>\n",
       "      <th>SepalLengthCm</th>\n",
       "      <th>SepalWidthCm</th>\n",
       "      <th>PetalLengthCm</th>\n",
       "      <th>PetalWidthCm</th>\n",
       "      <th>Species</th>\n",
       "    </tr>\n",
       "  </thead>\n",
       "  <tbody>\n",
       "    <tr>\n",
       "      <th>0</th>\n",
       "      <td>5.1</td>\n",
       "      <td>3.5</td>\n",
       "      <td>1.4</td>\n",
       "      <td>0.2</td>\n",
       "      <td>Iris-setosa</td>\n",
       "    </tr>\n",
       "    <tr>\n",
       "      <th>1</th>\n",
       "      <td>4.9</td>\n",
       "      <td>3.0</td>\n",
       "      <td>1.4</td>\n",
       "      <td>0.2</td>\n",
       "      <td>Iris-setosa</td>\n",
       "    </tr>\n",
       "    <tr>\n",
       "      <th>2</th>\n",
       "      <td>4.7</td>\n",
       "      <td>3.2</td>\n",
       "      <td>1.3</td>\n",
       "      <td>0.2</td>\n",
       "      <td>Iris-setosa</td>\n",
       "    </tr>\n",
       "    <tr>\n",
       "      <th>3</th>\n",
       "      <td>4.6</td>\n",
       "      <td>3.1</td>\n",
       "      <td>1.5</td>\n",
       "      <td>0.2</td>\n",
       "      <td>Iris-setosa</td>\n",
       "    </tr>\n",
       "    <tr>\n",
       "      <th>4</th>\n",
       "      <td>5.0</td>\n",
       "      <td>3.6</td>\n",
       "      <td>1.4</td>\n",
       "      <td>0.2</td>\n",
       "      <td>Iris-setosa</td>\n",
       "    </tr>\n",
       "    <tr>\n",
       "      <th>...</th>\n",
       "      <td>...</td>\n",
       "      <td>...</td>\n",
       "      <td>...</td>\n",
       "      <td>...</td>\n",
       "      <td>...</td>\n",
       "    </tr>\n",
       "    <tr>\n",
       "      <th>145</th>\n",
       "      <td>6.7</td>\n",
       "      <td>3.0</td>\n",
       "      <td>5.2</td>\n",
       "      <td>2.3</td>\n",
       "      <td>Iris-virginica</td>\n",
       "    </tr>\n",
       "    <tr>\n",
       "      <th>146</th>\n",
       "      <td>6.3</td>\n",
       "      <td>2.5</td>\n",
       "      <td>5.0</td>\n",
       "      <td>1.9</td>\n",
       "      <td>Iris-virginica</td>\n",
       "    </tr>\n",
       "    <tr>\n",
       "      <th>147</th>\n",
       "      <td>6.5</td>\n",
       "      <td>3.0</td>\n",
       "      <td>5.2</td>\n",
       "      <td>2.0</td>\n",
       "      <td>Iris-virginica</td>\n",
       "    </tr>\n",
       "    <tr>\n",
       "      <th>148</th>\n",
       "      <td>6.2</td>\n",
       "      <td>3.4</td>\n",
       "      <td>5.4</td>\n",
       "      <td>2.3</td>\n",
       "      <td>Iris-virginica</td>\n",
       "    </tr>\n",
       "    <tr>\n",
       "      <th>149</th>\n",
       "      <td>5.9</td>\n",
       "      <td>3.0</td>\n",
       "      <td>5.1</td>\n",
       "      <td>1.8</td>\n",
       "      <td>Iris-virginica</td>\n",
       "    </tr>\n",
       "  </tbody>\n",
       "</table>\n",
       "<p>150 rows × 5 columns</p>\n",
       "</div>"
      ],
      "text/plain": [
       "     SepalLengthCm  SepalWidthCm  PetalLengthCm  PetalWidthCm         Species\n",
       "0              5.1           3.5            1.4           0.2     Iris-setosa\n",
       "1              4.9           3.0            1.4           0.2     Iris-setosa\n",
       "2              4.7           3.2            1.3           0.2     Iris-setosa\n",
       "3              4.6           3.1            1.5           0.2     Iris-setosa\n",
       "4              5.0           3.6            1.4           0.2     Iris-setosa\n",
       "..             ...           ...            ...           ...             ...\n",
       "145            6.7           3.0            5.2           2.3  Iris-virginica\n",
       "146            6.3           2.5            5.0           1.9  Iris-virginica\n",
       "147            6.5           3.0            5.2           2.0  Iris-virginica\n",
       "148            6.2           3.4            5.4           2.3  Iris-virginica\n",
       "149            5.9           3.0            5.1           1.8  Iris-virginica\n",
       "\n",
       "[150 rows x 5 columns]"
      ]
     },
     "execution_count": 5,
     "metadata": {},
     "output_type": "execute_result"
    }
   ],
   "source": [
    "df = pd.read_csv(\"Iris.csv\")\n",
    "df = df.drop('Id' , axis=1)\n",
    "df"
   ]
  },
  {
   "cell_type": "code",
   "execution_count": 6,
   "id": "5f073bd1",
   "metadata": {},
   "outputs": [
    {
     "name": "stderr",
     "output_type": "stream",
     "text": [
      "C:\\Users\\anshu\\anaconda3\\lib\\site-packages\\pandas\\core\\frame.py:4906: SettingWithCopyWarning: \n",
      "A value is trying to be set on a copy of a slice from a DataFrame\n",
      "\n",
      "See the caveats in the documentation: https://pandas.pydata.org/pandas-docs/stable/user_guide/indexing.html#returning-a-view-versus-a-copy\n",
      "  return super().drop(\n"
     ]
    }
   ],
   "source": [
    "data=[]\n",
    "for i in df['Species'].unique():\n",
    "    data.append(df[df['Species']==i])\n",
    "for i in data:\n",
    "    i.drop('Species',axis=1,inplace=True)\n"
   ]
  },
  {
   "cell_type": "code",
   "execution_count": 7,
   "id": "d813d556",
   "metadata": {},
   "outputs": [
    {
     "data": {
      "text/plain": [
       "array([[5.006, 3.418, 1.464, 0.244],\n",
       "       [5.936, 2.77 , 4.26 , 1.326],\n",
       "       [6.588, 2.974, 5.552, 2.026]])"
      ]
     },
     "execution_count": 7,
     "metadata": {},
     "output_type": "execute_result"
    }
   ],
   "source": [
    "data = np.array(data)\n",
    "mean_vector = np.mean(data , axis=1)\n",
    "mean_vector"
   ]
  },
  {
   "cell_type": "code",
   "execution_count": 8,
   "id": "c0ad7838",
   "metadata": {},
   "outputs": [
    {
     "data": {
      "text/plain": [
       "[               SepalLengthCm  SepalWidthCm  PetalLengthCm  PetalWidthCm\n",
       " SepalLengthCm       0.124249      0.100298       0.016139      0.010547\n",
       " SepalWidthCm        0.100298      0.145180       0.011682      0.011437\n",
       " PetalLengthCm       0.016139      0.011682       0.030106      0.005698\n",
       " PetalWidthCm        0.010547      0.011437       0.005698      0.011494,\n",
       "                SepalLengthCm  SepalWidthCm  PetalLengthCm  PetalWidthCm\n",
       " SepalLengthCm       0.266433      0.085184       0.182898      0.055780\n",
       " SepalWidthCm        0.085184      0.098469       0.082653      0.041204\n",
       " PetalLengthCm       0.182898      0.082653       0.220816      0.073102\n",
       " PetalWidthCm        0.055780      0.041204       0.073102      0.039106,\n",
       "                SepalLengthCm  SepalWidthCm  PetalLengthCm  PetalWidthCm\n",
       " SepalLengthCm       0.404343      0.093763       0.303290      0.049094\n",
       " SepalWidthCm        0.093763      0.104004       0.071380      0.047629\n",
       " PetalLengthCm       0.303290      0.071380       0.304588      0.048824\n",
       " PetalWidthCm        0.049094      0.047629       0.048824      0.075433]"
      ]
     },
     "execution_count": 8,
     "metadata": {},
     "output_type": "execute_result"
    }
   ],
   "source": [
    "co_var=[]\n",
    "for i in df['Species'].unique():\n",
    "    co_var.append(df[df['Species']==i].cov())\n",
    "    \n",
    "co_var"
   ]
  },
  {
   "cell_type": "code",
   "execution_count": 9,
   "id": "bb8f3ef3",
   "metadata": {},
   "outputs": [
    {
     "data": {
      "text/plain": [
       "array([[[0.12424898, 0.        , 0.        , 0.        ],\n",
       "        [0.        , 0.14517959, 0.        , 0.        ],\n",
       "        [0.        , 0.        , 0.03010612, 0.        ],\n",
       "        [0.        , 0.        , 0.        , 0.01149388]],\n",
       "\n",
       "       [[0.26643265, 0.        , 0.        , 0.        ],\n",
       "        [0.        , 0.09846939, 0.        , 0.        ],\n",
       "        [0.        , 0.        , 0.22081633, 0.        ],\n",
       "        [0.        , 0.        , 0.        , 0.03910612]],\n",
       "\n",
       "       [[0.40434286, 0.        , 0.        , 0.        ],\n",
       "        [0.        , 0.10400408, 0.        , 0.        ],\n",
       "        [0.        , 0.        , 0.30458776, 0.        ],\n",
       "        [0.        , 0.        , 0.        , 0.07543265]]])"
      ]
     },
     "execution_count": 9,
     "metadata": {},
     "output_type": "execute_result"
    }
   ],
   "source": [
    "co_vari = np.array(co_var)\n",
    "\n",
    "for k in range(3):\n",
    "    for i in range(4):\n",
    "        for j in range(4):\n",
    "            if i!=j:\n",
    "                co_vari[k][i][j]=0\n",
    "                \n",
    "                \n",
    "co_vari\n",
    "                "
   ]
  },
  {
   "cell_type": "code",
   "execution_count": 10,
   "id": "0cfdbcf7",
   "metadata": {},
   "outputs": [
    {
     "data": {
      "text/plain": [
       "array([6.24194290e-06, 2.26550291e-04, 9.66211009e-04])"
      ]
     },
     "execution_count": 10,
     "metadata": {},
     "output_type": "execute_result"
    }
   ],
   "source": [
    "det = np.linalg.det(co_vari)\n",
    "det"
   ]
  },
  {
   "cell_type": "code",
   "execution_count": 11,
   "id": "788fedca",
   "metadata": {},
   "outputs": [
    {
     "data": {
      "text/plain": [
       "array([[[ 8.04835584,  0.        ,  0.        ,  0.        ],\n",
       "        [ 0.        ,  6.88802047,  0.        ,  0.        ],\n",
       "        [ 0.        ,  0.        , 33.21583514,  0.        ],\n",
       "        [ 0.        ,  0.        ,  0.        , 87.00284091]],\n",
       "\n",
       "       [[ 3.75329371,  0.        ,  0.        ,  0.        ],\n",
       "        [ 0.        , 10.15544041,  0.        ,  0.        ],\n",
       "        [ 0.        ,  0.        ,  4.52865065,  0.        ],\n",
       "        [ 0.        ,  0.        ,  0.        , 25.57144348]],\n",
       "\n",
       "       [[ 2.47314867,  0.        ,  0.        ,  0.        ],\n",
       "        [ 0.        ,  9.61500726,  0.        ,  0.        ],\n",
       "        [ 0.        ,  0.        ,  3.28312607,  0.        ],\n",
       "        [ 0.        ,  0.        ,  0.        , 13.2568584 ]]])"
      ]
     },
     "execution_count": 11,
     "metadata": {},
     "output_type": "execute_result"
    }
   ],
   "source": [
    "inverse_co_var = np.linalg.inv(co_vari)\n",
    "inverse_co_var"
   ]
  },
  {
   "cell_type": "code",
   "execution_count": 12,
   "id": "919ebd69",
   "metadata": {},
   "outputs": [],
   "source": [
    "input_list=[6.7,3.0,5.2,2.3]\n",
    "input1 = np.array(input_list)"
   ]
  },
  {
   "cell_type": "code",
   "execution_count": 13,
   "id": "dd349406",
   "metadata": {},
   "outputs": [],
   "source": [
    "def calcu(det1 , x , mean1 , inverse_co_var1):\n",
    "    \n",
    "    temp1 = 1/((2*3.14)**4)*det1\n",
    "    temp1 = temp1**(1/2)\n",
    "    \n",
    "    temp2 = (x - mean1).T\n",
    "    temp2 = (-0.5) * temp2\n",
    "    \n",
    "    \n",
    "    temp3 = np.dot((inverse_co_var1),(x-mean1))\n",
    "    temp3.reshape(4,1)\n",
    "    \n",
    "    temp4 = np.dot(temp2.T , temp3)\n",
    "    temp5 = 2.718**temp4\n",
    "        \n",
    "    return temp1 * temp5\n"
   ]
  },
  {
   "cell_type": "code",
   "execution_count": 14,
   "id": "208522e3",
   "metadata": {},
   "outputs": [
    {
     "data": {
      "text/plain": [
       "3.4153826884887703e-191"
      ]
     },
     "execution_count": 14,
     "metadata": {},
     "output_type": "execute_result"
    }
   ],
   "source": [
    "\n",
    "prob1 = calcu(det[0] , input1 , mean_vector[0] , inverse_co_var[0])\n",
    "prob1 *= 1/3\n",
    "prob2 = calcu(det[1] , input1 , mean_vector[1] , inverse_co_var[1])\n",
    "prob2*=1/3\n",
    "prob3 = calcu(det[2] , input1 , mean_vector[2] , inverse_co_var[2])\n",
    "prob3*=1/3"
   ]
  },
  {
   "cell_type": "code",
   "execution_count": null,
   "id": "c07c441f",
   "metadata": {},
   "outputs": [],
   "source": [
    "if prob1>prob2 and prob1>prob3:\n",
    "    check_list.append(0)\n",
    "    \n",
    "if prob2>prob1 and prob2>prob3:\n",
    "    check_list.append(1)\n",
    "    \n",
    "if prob3>prob1 and prob3>prob2:\n",
    "    check_list.append(2)"
   ]
  },
  {
   "cell_type": "markdown",
   "id": "a0ef2188",
   "metadata": {},
   "source": [
    "# Build-in Gaussian Function"
   ]
  },
  {
   "cell_type": "code",
   "execution_count": 23,
   "id": "0e0e95cc",
   "metadata": {},
   "outputs": [],
   "source": [
    "df = pd.read_csv(\"Iris.csv\")\n",
    "df = df.drop('Id' , axis=1)"
   ]
  },
  {
   "cell_type": "code",
   "execution_count": 24,
   "id": "c7059cd2",
   "metadata": {},
   "outputs": [],
   "source": [
    "labels = df['Species']\n",
    "le = LabelEncoder()\n",
    "\n",
    "X = df.drop(\"Species\", axis = 1)\n",
    "y = le.fit_transform(labels)"
   ]
  },
  {
   "cell_type": "code",
   "execution_count": 25,
   "id": "bcbaaa5e",
   "metadata": {},
   "outputs": [],
   "source": [
    "X_train, X_test, y_train, y_test = train_test_split(X, y, test_size = 0.3, random_state = 52)"
   ]
  },
  {
   "cell_type": "code",
   "execution_count": 33,
   "id": "fc965fd9",
   "metadata": {},
   "outputs": [
    {
     "data": {
      "text/plain": [
       "0.9111111111111111"
      ]
     },
     "execution_count": 33,
     "metadata": {},
     "output_type": "execute_result"
    }
   ],
   "source": [
    "clf1 = GaussianNB()\n",
    "clf1.fit(X_train, y_train)\n",
    "predict = clf1.predict(X_test)\n",
    "re = clf1.score(X_test,y_test)\n",
    "re"
   ]
  },
  {
   "cell_type": "code",
   "execution_count": null,
   "id": "587f6738",
   "metadata": {},
   "outputs": [],
   "source": [
    "xx_test = np.array(X_test)\n",
    "xx_test[0]"
   ]
  },
  {
   "cell_type": "code",
   "execution_count": 45,
   "id": "d4529c6a",
   "metadata": {},
   "outputs": [],
   "source": [
    "check_list=[]\n",
    "n = 149*(0.3)\n",
    "for i in range(0,int(n)+1):\n",
    "    prob1 = calcu(det[0] , xx_test[i] , mean_vector[0] , inverse_co_var[0])\n",
    "    prob1 *= 1/3\n",
    "    prob2 = calcu(det[1] , xx_test[i] , mean_vector[1] , inverse_co_var[1])\n",
    "    prob2*=1/3\n",
    "    prob3 = calcu(det[2] , xx_test[i] , mean_vector[2] , inverse_co_var[2])\n",
    "    prob3*=1/3\n",
    "    \n",
    "    if prob1>prob2 and prob1>prob3:\n",
    "        check_list.append(0)\n",
    "    \n",
    "    if prob2>prob1 and prob2>prob3:\n",
    "        check_list.append(1)\n",
    "\n",
    "    if prob3>prob1 and prob3>prob2:\n",
    "        check_list.append(2)\n",
    "    "
   ]
  },
  {
   "cell_type": "code",
   "execution_count": 52,
   "id": "60cefbcf",
   "metadata": {},
   "outputs": [],
   "source": [
    "count=0\n",
    "for i in range(0,45):\n",
    "    if check_list[i]==y_test[i]:\n",
    "        count+=1\n",
    "    "
   ]
  },
  {
   "cell_type": "code",
   "execution_count": 53,
   "id": "970857da",
   "metadata": {},
   "outputs": [
    {
     "data": {
      "text/plain": [
       "0.8888888888888888"
      ]
     },
     "execution_count": 53,
     "metadata": {},
     "output_type": "execute_result"
    }
   ],
   "source": [
    "accu = count/len(y_test)\n",
    "accu"
   ]
  },
  {
   "cell_type": "code",
   "execution_count": 54,
   "id": "4353fe9c",
   "metadata": {},
   "outputs": [
    {
     "name": "stdout",
     "output_type": "stream",
     "text": [
      "Accuracy of build in function:  91.11111111111111\n",
      "Accuracy of My MOdel:  88.88888888888889\n"
     ]
    }
   ],
   "source": [
    "print(\"Accuracy of build in function: \" , re*100)\n",
    "print(\"Accuracy of My MOdel: \" , accu*100)"
   ]
  },
  {
   "cell_type": "code",
   "execution_count": 55,
   "id": "86a63172",
   "metadata": {},
   "outputs": [],
   "source": [
    "# The accuracy of build in function is greater than my model. \n",
    "# Hence, we can conclude that build in function is better than my created model.\n"
   ]
  },
  {
   "cell_type": "markdown",
   "id": "9091a535",
   "metadata": {},
   "source": [
    "# Task-4"
   ]
  },
  {
   "cell_type": "code",
   "execution_count": 56,
   "id": "62a5160b",
   "metadata": {},
   "outputs": [
    {
     "data": {
      "text/plain": [
       "201.152"
      ]
     },
     "execution_count": 56,
     "metadata": {},
     "output_type": "execute_result"
    }
   ],
   "source": [
    "pi = 3.143\n",
    "r1 = 8\n",
    "\n",
    "# 8 inch pizza\n",
    "area1 = pi*(r1**2)\n",
    "area1"
   ]
  },
  {
   "cell_type": "code",
   "execution_count": 58,
   "id": "c82c5692",
   "metadata": {},
   "outputs": [
    {
     "data": {
      "text/plain": [
       "157.14999999999998"
      ]
     },
     "execution_count": 58,
     "metadata": {},
     "output_type": "execute_result"
    }
   ],
   "source": [
    "# 2 five inch pizz\n",
    "r2 = 5\n",
    "area2 = pi*(r2**2)\n",
    "area2 *= 2\n",
    "area2"
   ]
  },
  {
   "cell_type": "code",
   "execution_count": 59,
   "id": "b50f4220",
   "metadata": {},
   "outputs": [],
   "source": [
    "#As we can clearly see the results and conclude that 8 inch pizz has greater area than 2 five inch pizza..\n"
   ]
  },
  {
   "cell_type": "code",
   "execution_count": null,
   "id": "9359027e",
   "metadata": {},
   "outputs": [],
   "source": []
  }
 ],
 "metadata": {
  "kernelspec": {
   "display_name": "Python 3 (ipykernel)",
   "language": "python",
   "name": "python3"
  },
  "language_info": {
   "codemirror_mode": {
    "name": "ipython",
    "version": 3
   },
   "file_extension": ".py",
   "mimetype": "text/x-python",
   "name": "python",
   "nbconvert_exporter": "python",
   "pygments_lexer": "ipython3",
   "version": "3.9.7"
  }
 },
 "nbformat": 4,
 "nbformat_minor": 5
}
