{
 "cells": [
  {
   "cell_type": "markdown",
   "id": "b8018be2",
   "metadata": {},
   "source": [
    "# Task-1"
   ]
  },
  {
   "cell_type": "code",
   "execution_count": 1,
   "id": "3a6f12aa",
   "metadata": {},
   "outputs": [],
   "source": [
    "import pandas as pd"
   ]
  },
  {
   "cell_type": "code",
   "execution_count": 2,
   "id": "fdb94f8b",
   "metadata": {},
   "outputs": [],
   "source": [
    "df = pd.read_csv(\"play_tennis.csv\")\n",
    "df = df.drop(\"day\" , axis=1)"
   ]
  },
  {
   "cell_type": "markdown",
   "id": "5ea454e2",
   "metadata": {},
   "source": [
    "# Naive Bayes Self Made Classifier :)"
   ]
  },
  {
   "cell_type": "code",
   "execution_count": 3,
   "id": "663d4bb6",
   "metadata": {},
   "outputs": [],
   "source": [
    "def fit( df , plays , outlooks , temps , humiditys, winds):\n",
    "    prob1 = 0\n",
    "    prob2 = 0\n",
    "    prob3 = 0\n",
    "    prob4 = 0\n",
    "    main_prob=0\n",
    "    \n",
    "    \n",
    "    for i in range(len(df['play'])):\n",
    "        \n",
    "        if df['play'][i] == plays:\n",
    "            main_prob+=1\n",
    "        \n",
    "        if df['outlook'][i] == outlooks and df['play'][i] == plays:\n",
    "            prob1+=1\n",
    "            \n",
    "        if df['temp'][i] == temps and df['play'][i] == plays:\n",
    "            prob2+=1\n",
    "            \n",
    "        if df['humidity'][i] == humiditys and df['play'][i] == plays:\n",
    "            prob3+=1\n",
    "            \n",
    "        if df['wind'][i] == winds and df['play'][i] == plays:\n",
    "            prob4+=1\n",
    "    \n",
    "    prob1 = prob1/main_prob\n",
    "    prob2 = prob2/main_prob\n",
    "    prob3 = prob3/main_prob\n",
    "    prob4 = prob4/main_prob\n",
    "    \n",
    "    main_prob=main_prob/len(df['play'])\n",
    "    return main_prob * prob1 * prob2 * prob3 * prob4"
   ]
  },
  {
   "cell_type": "code",
   "execution_count": 4,
   "id": "58370904",
   "metadata": {},
   "outputs": [],
   "source": [
    "def calc(a,b,c,d):\n",
    "    \n",
    "    yes_prob = (fit(df , 'Yes' , a, b, c, d))\n",
    "    no_prob  = (fit(df  , 'No'  , a, b, c, d))\n",
    "\n",
    "    if yes_prob > no_prob :\n",
    "        print('Yes')\n",
    "    else:\n",
    "        print('No')\n",
    "    "
   ]
  },
  {
   "cell_type": "markdown",
   "id": "2f744640",
   "metadata": {},
   "source": [
    "# Accuracy Of given dataframe"
   ]
  },
  {
   "cell_type": "code",
   "execution_count": 5,
   "id": "3d5ef66d",
   "metadata": {},
   "outputs": [],
   "source": [
    "yes_prob=[]\n",
    "no_prob=[]\n",
    "list1=[]\n",
    "for i in range(len(df['play'])):\n",
    "    yes_prob.append(fit(df , 'Yes' , df['outlook'][i] , df['temp'][i] , df['humidity'][i] , df['wind'][i]))\n",
    "    no_prob.append(fit(df  , 'No' , df['outlook'][i] , df['temp'][i] , df['humidity'][i] , df['wind'][i]))\n",
    "\n",
    "\n",
    "for i in range(len(yes_prob)):\n",
    "    if yes_prob[i]>no_prob[i]:\n",
    "        list1.append('Yes')\n",
    "    else:\n",
    "        list1.append('No')\n",
    " \n"
   ]
  },
  {
   "cell_type": "code",
   "execution_count": 6,
   "id": "c64b9864",
   "metadata": {},
   "outputs": [
    {
     "data": {
      "text/plain": [
       "92.85714285714286"
      ]
     },
     "execution_count": 6,
     "metadata": {},
     "output_type": "execute_result"
    }
   ],
   "source": [
    "count=0\n",
    "for i in range(len(yes_prob)):\n",
    "    if df['play'][i] == list1[i]:\n",
    "        count+=1\n",
    "    \n",
    "acc = count/len(df['play'])\n",
    "acc *= 100\n",
    "acc"
   ]
  },
  {
   "cell_type": "markdown",
   "id": "936e8b4f",
   "metadata": {},
   "source": [
    "# Predict Class on any input"
   ]
  },
  {
   "cell_type": "code",
   "execution_count": 7,
   "id": "116c6118",
   "metadata": {},
   "outputs": [
    {
     "name": "stdout",
     "output_type": "stream",
     "text": [
      "No\n"
     ]
    }
   ],
   "source": [
    "x = calc('Sunny' , 'Hot' , 'High' , 'Weak')\n",
    "x"
   ]
  },
  {
   "cell_type": "markdown",
   "id": "0e979eb6",
   "metadata": {},
   "source": [
    "# Task-2"
   ]
  },
  {
   "cell_type": "markdown",
   "id": "d20a4afc",
   "metadata": {},
   "source": [
    "# Naive Bais Sentence Prediction"
   ]
  },
  {
   "cell_type": "code",
   "execution_count": 8,
   "id": "1d8fef6c",
   "metadata": {},
   "outputs": [],
   "source": [
    "def cal2(positive , negative, test):\n",
    "    positive = positive.lower()\n",
    "    negative = negative.lower()\n",
    "    \n",
    "    split_pos = positive.split()\n",
    "    split_neg = negative.split()\n",
    "    \n",
    "    test = test.lower()\n",
    "    tester = test.split()\n",
    "    \n",
    "    list1 = []\n",
    "    list2 = []\n",
    "    count=0\n",
    "    \n",
    "    for j in range(len(tester)):\n",
    "        count=0\n",
    "        for i in range(len(split_pos)):\n",
    "            if tester[j] == split_pos[i]:\n",
    "                count+=1\n",
    "\n",
    "        if count==0:\n",
    "            count=0.00000001\n",
    "        count=count/len(split_pos)\n",
    "        list1.append(count)\n",
    "    \n",
    "\n",
    "    for j in range(len(tester)):\n",
    "        count=0\n",
    "        for i in range(len(split_neg)):\n",
    "            if tester[j] == split_neg[i]:\n",
    "                count+=1\n",
    "\n",
    "        if count==0:\n",
    "            count=0.00000001\n",
    "        count=count/len(split_neg)\n",
    "        \n",
    "        list2.append(count)\n",
    "        \n",
    "\n",
    "    x=1\n",
    "    y=1\n",
    "    for i in range(len(list1)):\n",
    "        x*=list1[i]\n",
    "        y*=list2[i]\n",
    "    \n",
    "    x*=(6/11)\n",
    "    y*=(5/11)\n",
    "\n",
    "    \n",
    "    if x>y:\n",
    "        print(\"Positive\")\n",
    "    else:\n",
    "        print(\"Negative\")\n",
    "        \n",
    "def q2(test):\n",
    "    positive = \"I love Mangoes mangoes are a lot tastier than other fruits I like mangoes because they are good Apples are good too but I prefer mangoes People say mango is the king of fruit so that is why mangoes are good mangoes are good because they are juicy\"\n",
    "    negative = \"Eating too many Mangoes can have a negative impact on your health mangoes are good but not too good, I like apples more than mangoes I don’t like mangoes because they are expensive Mangoes are not good I don’t like mangoes\"\n",
    "    cal2(positive , negative , test)"
   ]
  },
  {
   "cell_type": "code",
   "execution_count": 9,
   "id": "981f6942",
   "metadata": {},
   "outputs": [
    {
     "name": "stdout",
     "output_type": "stream",
     "text": [
      "Negative\n",
      "Positive\n"
     ]
    }
   ],
   "source": [
    "test  = \"Mangoes are not good\"\n",
    "test1 = \"Mangoes are good\"\n",
    "\n",
    "q2(test)\n",
    "q2(test1)"
   ]
  },
  {
   "cell_type": "markdown",
   "id": "713d21a9",
   "metadata": {},
   "source": [
    "# Task-3"
   ]
  },
  {
   "cell_type": "code",
   "execution_count": 10,
   "id": "39547d31",
   "metadata": {},
   "outputs": [],
   "source": [
    "def calc3(positive , negative , test):\n",
    "    positive = positive.lower()\n",
    "    negative = negative.lower()\n",
    "    \n",
    "    split_pos = positive.split()\n",
    "    split_neg = negative.split()\n",
    "    \n",
    "    test = test.lower()\n",
    "    tester = test.split()\n",
    "    list1=[0.00001]*3\n",
    "    list2=[0.00001]*3\n",
    "    \n",
    "    for i in range(len(split_pos)-3):\n",
    "        if(tester[0]==split_pos[i]):      \n",
    "            list1[0]+=1\n",
    "        if(tester[0]==split_pos[i]) and (tester[1]==split_pos[i+1]):       \n",
    "            list1[1]=1\n",
    "        if((tester[0]==split_pos[i]) and (tester[1]==split_pos[i+1]) and (tester[2]==split_pos[i+2])):       \n",
    "            list1[2]+=1\n",
    "\n",
    "    for i in range(len(split_neg)-3):\n",
    "        if(tester[0]==split_neg[i]):      \n",
    "            list2[0]+=1\n",
    "        if(tester[0]==split_neg[i]) and (tester[1]==split_neg[i+1]):       \n",
    "            list2[1]+=1\n",
    "        if((tester[0]==split_neg[i]) and (tester[1]==split_neg[i+1]) and (tester[2]==split_neg[i+2])):       \n",
    "            list2[2]+=1\n",
    "            \n",
    "    x=1\n",
    "    y=1\n",
    "    for i in range(len(list1)):\n",
    "        x*=list1[i]\n",
    "        y*=list2[i]\n",
    "    \n",
    "    x*=(6/11)\n",
    "    y*=(5/11)\n",
    "\n",
    "\n",
    "    if x>y:\n",
    "        print(\"Positive\")\n",
    "    else:\n",
    "        print(\"Negative\")\n",
    "    \n",
    "    "
   ]
  },
  {
   "cell_type": "code",
   "execution_count": 11,
   "id": "b6789327",
   "metadata": {},
   "outputs": [],
   "source": [
    "def q3(test):\n",
    "    positive = \"I love Mangoes mangoes are a lot tastier than other fruits I like mangoes because they are good Apples are good too but I prefer mangoes People say mango is the king of fruit so that is why mangoes are good mangoes are good because they are juicy\"\n",
    "    negative = \"Eating too many Mangoes can have a negative impact on your health mangoes are good but not too good, I like apples more than mangoes I don’t like mangoes because they are expensive Mangoes are not good I don’t like mangoes\"\n",
    "    calc3(positive , negative , test)"
   ]
  },
  {
   "cell_type": "code",
   "execution_count": 12,
   "id": "17032d71",
   "metadata": {},
   "outputs": [
    {
     "name": "stdout",
     "output_type": "stream",
     "text": [
      "Negative\n",
      "Positive\n"
     ]
    }
   ],
   "source": [
    "test  = \"Mangoes are not good\"\n",
    "test1 = \"Mangoes are good\"\n",
    "\n",
    "q3(test)\n",
    "q3(test1)"
   ]
  },
  {
   "cell_type": "code",
   "execution_count": null,
   "id": "0407b944",
   "metadata": {},
   "outputs": [],
   "source": []
  }
 ],
 "metadata": {
  "kernelspec": {
   "display_name": "Python 3 (ipykernel)",
   "language": "python",
   "name": "python3"
  },
  "language_info": {
   "codemirror_mode": {
    "name": "ipython",
    "version": 3
   },
   "file_extension": ".py",
   "mimetype": "text/x-python",
   "name": "python",
   "nbconvert_exporter": "python",
   "pygments_lexer": "ipython3",
   "version": "3.9.7"
  }
 },
 "nbformat": 4,
 "nbformat_minor": 5
}
