{
 "cells": [
  {
   "cell_type": "code",
   "execution_count": 1,
   "id": "a5f937bf",
   "metadata": {},
   "outputs": [],
   "source": [
    "from collections import defaultdict \n",
    "from collections import Counter"
   ]
  },
  {
   "cell_type": "code",
   "execution_count": 2,
   "id": "d15fdb4f",
   "metadata": {},
   "outputs": [],
   "source": [
    "positive1 = \"I love mangoes Mangoes are a lot tastier than other fruits I like mangoes because they are good Apples are good too but I prefer mangoes People say mango is the king of fruit so that is why mangoes are good Mangoes are good because they are juicy\"\n",
    "negative1 = \"Eating too many mangoes can have a negative impact on your health Mangoes are good but not too good I like apples more than mangoes I don’t like mangoes because they are expensive Mangoes are not good I don’t like mangoes\"\n"
   ]
  },
  {
   "cell_type": "markdown",
   "id": "0565fc06",
   "metadata": {},
   "source": [
    "# Training and Testing Function"
   ]
  },
  {
   "cell_type": "code",
   "execution_count": 3,
   "id": "2aa6a1da",
   "metadata": {},
   "outputs": [],
   "source": [
    "\n",
    "################# lower and spliting ################\n",
    "\n",
    "positive = positive1.lower().split()\n",
    "negative = negative1.lower().split()\n",
    "\n",
    "################# unique words and thier frequencies ##############\n",
    "\n",
    "temp1 = Counter(positive)\n",
    "temp2 = Counter(negative)\n",
    "\n",
    "##################################################################\n",
    "\n",
    "def fun1():\n",
    "    return (0+1)/(vocab_size+len(positive))\n",
    "\n",
    "def fun2():\n",
    "    return (0+1)/(vocab_size+len(negative))\n",
    "\n",
    "def fun3(freq , vocab_size , c):\n",
    "    return (freq+1)/(vocab_size+c)\n",
    "\n",
    "#################### default dictionaries #######################\n",
    "\n",
    "pos_dict1 = defaultdict (fun1)\n",
    "neg_dict1 = defaultdict (fun2)\n",
    "\n",
    "############## vocab size #########################################\n",
    "\n",
    "vocab_size = len(Counter((positive1 + ' ' + negative1).lower().split()))\n",
    "\n",
    "\n",
    "\n",
    "\n",
    "\n",
    "def train():\n",
    "    for i,j in temp1.items():\n",
    "        pos_dict1[i] = fun3(j , vocab_size , len(positive))\n",
    "    \n",
    "    for i,j in temp2.items():\n",
    "        neg_dict1[i] = fun3(j , vocab_size , len(negative))\n",
    "    "
   ]
  },
  {
   "cell_type": "code",
   "execution_count": 4,
   "id": "92a1bfad",
   "metadata": {},
   "outputs": [],
   "source": [
    "def test(sen):\n",
    "    sen = sen.lower()\n",
    "    sen = sen.split()\n",
    "    res_pos = 6/11\n",
    "    res_neg = 5/11\n",
    "    \n",
    "    for i in sen:\n",
    "        res_pos *= pos_dict1[i]\n",
    "        res_neg *= neg_dict1[i]\n",
    "      \n",
    "    print(res_pos)\n",
    "    print(res_neg)\n",
    "    if res_pos > res_neg:\n",
    "        print(\"Positive\")\n",
    "    else:\n",
    "        print(\"Negative\")"
   ]
  },
  {
   "cell_type": "code",
   "execution_count": 5,
   "id": "f99f711e",
   "metadata": {},
   "outputs": [
    {
     "name": "stdout",
     "output_type": "stream",
     "text": [
      "2.8953053950034998e-06\n",
      "7.669012771053587e-07\n",
      "Positive\n"
     ]
    }
   ],
   "source": [
    "train() \n",
    "test('Mango love hai')"
   ]
  },
  {
   "cell_type": "code",
   "execution_count": 6,
   "id": "11a6b2e9",
   "metadata": {},
   "outputs": [
    {
     "name": "stdout",
     "output_type": "stream",
     "text": [
      "1.0133568882512249e-05\n",
      "5.368308939737511e-06\n",
      "Positive\n"
     ]
    }
   ],
   "source": [
    "test('Ans love mangoes')"
   ]
  },
  {
   "cell_type": "code",
   "execution_count": 7,
   "id": "eaff05b6",
   "metadata": {},
   "outputs": [
    {
     "name": "stdout",
     "output_type": "stream",
     "text": [
      "0.00046107738415430727\n",
      "0.0009018759018759018\n",
      "Negative\n"
     ]
    }
   ],
   "source": [
    "test('negative mangoes')"
   ]
  },
  {
   "cell_type": "code",
   "execution_count": 8,
   "id": "4be4f123",
   "metadata": {},
   "outputs": [
    {
     "name": "stdout",
     "output_type": "stream",
     "text": [
      "0.005994005994005994\n",
      "0.005411255411255411\n",
      "Positive\n"
     ]
    }
   ],
   "source": [
    "test(\"addan\")"
   ]
  },
  {
   "cell_type": "code",
   "execution_count": null,
   "id": "ed0227cc",
   "metadata": {},
   "outputs": [],
   "source": []
  }
 ],
 "metadata": {
  "kernelspec": {
   "display_name": "Python 3 (ipykernel)",
   "language": "python",
   "name": "python3"
  },
  "language_info": {
   "codemirror_mode": {
    "name": "ipython",
    "version": 3
   },
   "file_extension": ".py",
   "mimetype": "text/x-python",
   "name": "python",
   "nbconvert_exporter": "python",
   "pygments_lexer": "ipython3",
   "version": "3.9.7"
  }
 },
 "nbformat": 4,
 "nbformat_minor": 5
}
