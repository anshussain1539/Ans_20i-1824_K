{
 "cells": [
  {
   "cell_type": "markdown",
   "id": "55990bc3",
   "metadata": {},
   "source": [
    "# 20i-1824\n",
    "# Ans Hussain\n",
    "# AI(K)\n",
    "# Lab-8"
   ]
  },
  {
   "cell_type": "markdown",
   "id": "3530951d",
   "metadata": {},
   "source": [
    "# Task-1"
   ]
  },
  {
   "cell_type": "code",
   "execution_count": 1,
   "id": "35c791d5",
   "metadata": {},
   "outputs": [],
   "source": [
    "import numpy as np\n",
    "import pandas as pd\n",
    "import math"
   ]
  },
  {
   "cell_type": "code",
   "execution_count": 2,
   "id": "76f9706b",
   "metadata": {},
   "outputs": [
    {
     "data": {
      "text/html": [
       "<div>\n",
       "<style scoped>\n",
       "    .dataframe tbody tr th:only-of-type {\n",
       "        vertical-align: middle;\n",
       "    }\n",
       "\n",
       "    .dataframe tbody tr th {\n",
       "        vertical-align: top;\n",
       "    }\n",
       "\n",
       "    .dataframe thead th {\n",
       "        text-align: right;\n",
       "    }\n",
       "</style>\n",
       "<table border=\"1\" class=\"dataframe\">\n",
       "  <thead>\n",
       "    <tr style=\"text-align: right;\">\n",
       "      <th></th>\n",
       "      <th>outlook</th>\n",
       "      <th>temp</th>\n",
       "      <th>humidity</th>\n",
       "      <th>wind</th>\n",
       "      <th>play</th>\n",
       "    </tr>\n",
       "  </thead>\n",
       "  <tbody>\n",
       "    <tr>\n",
       "      <th>0</th>\n",
       "      <td>Sunny</td>\n",
       "      <td>Hot</td>\n",
       "      <td>High</td>\n",
       "      <td>Weak</td>\n",
       "      <td>No</td>\n",
       "    </tr>\n",
       "    <tr>\n",
       "      <th>1</th>\n",
       "      <td>Sunny</td>\n",
       "      <td>Hot</td>\n",
       "      <td>High</td>\n",
       "      <td>Strong</td>\n",
       "      <td>No</td>\n",
       "    </tr>\n",
       "    <tr>\n",
       "      <th>2</th>\n",
       "      <td>Overcast</td>\n",
       "      <td>Hot</td>\n",
       "      <td>High</td>\n",
       "      <td>Weak</td>\n",
       "      <td>Yes</td>\n",
       "    </tr>\n",
       "    <tr>\n",
       "      <th>3</th>\n",
       "      <td>Rain</td>\n",
       "      <td>Mild</td>\n",
       "      <td>High</td>\n",
       "      <td>Weak</td>\n",
       "      <td>Yes</td>\n",
       "    </tr>\n",
       "    <tr>\n",
       "      <th>4</th>\n",
       "      <td>Rain</td>\n",
       "      <td>Cool</td>\n",
       "      <td>Normal</td>\n",
       "      <td>Weak</td>\n",
       "      <td>Yes</td>\n",
       "    </tr>\n",
       "    <tr>\n",
       "      <th>5</th>\n",
       "      <td>Rain</td>\n",
       "      <td>Cool</td>\n",
       "      <td>Normal</td>\n",
       "      <td>Strong</td>\n",
       "      <td>No</td>\n",
       "    </tr>\n",
       "    <tr>\n",
       "      <th>6</th>\n",
       "      <td>Overcast</td>\n",
       "      <td>Cool</td>\n",
       "      <td>Normal</td>\n",
       "      <td>Strong</td>\n",
       "      <td>Yes</td>\n",
       "    </tr>\n",
       "    <tr>\n",
       "      <th>7</th>\n",
       "      <td>Sunny</td>\n",
       "      <td>Mild</td>\n",
       "      <td>High</td>\n",
       "      <td>Weak</td>\n",
       "      <td>No</td>\n",
       "    </tr>\n",
       "    <tr>\n",
       "      <th>8</th>\n",
       "      <td>Sunny</td>\n",
       "      <td>Cool</td>\n",
       "      <td>Normal</td>\n",
       "      <td>Weak</td>\n",
       "      <td>Yes</td>\n",
       "    </tr>\n",
       "    <tr>\n",
       "      <th>9</th>\n",
       "      <td>Rain</td>\n",
       "      <td>Mild</td>\n",
       "      <td>Normal</td>\n",
       "      <td>Weak</td>\n",
       "      <td>Yes</td>\n",
       "    </tr>\n",
       "    <tr>\n",
       "      <th>10</th>\n",
       "      <td>Sunny</td>\n",
       "      <td>Mild</td>\n",
       "      <td>Normal</td>\n",
       "      <td>Strong</td>\n",
       "      <td>Yes</td>\n",
       "    </tr>\n",
       "    <tr>\n",
       "      <th>11</th>\n",
       "      <td>Overcast</td>\n",
       "      <td>Mild</td>\n",
       "      <td>High</td>\n",
       "      <td>Strong</td>\n",
       "      <td>Yes</td>\n",
       "    </tr>\n",
       "    <tr>\n",
       "      <th>12</th>\n",
       "      <td>Overcast</td>\n",
       "      <td>Hot</td>\n",
       "      <td>Normal</td>\n",
       "      <td>Weak</td>\n",
       "      <td>Yes</td>\n",
       "    </tr>\n",
       "    <tr>\n",
       "      <th>13</th>\n",
       "      <td>Rain</td>\n",
       "      <td>Mild</td>\n",
       "      <td>High</td>\n",
       "      <td>Strong</td>\n",
       "      <td>No</td>\n",
       "    </tr>\n",
       "  </tbody>\n",
       "</table>\n",
       "</div>"
      ],
      "text/plain": [
       "     outlook  temp humidity    wind play\n",
       "0      Sunny   Hot     High    Weak   No\n",
       "1      Sunny   Hot     High  Strong   No\n",
       "2   Overcast   Hot     High    Weak  Yes\n",
       "3       Rain  Mild     High    Weak  Yes\n",
       "4       Rain  Cool   Normal    Weak  Yes\n",
       "5       Rain  Cool   Normal  Strong   No\n",
       "6   Overcast  Cool   Normal  Strong  Yes\n",
       "7      Sunny  Mild     High    Weak   No\n",
       "8      Sunny  Cool   Normal    Weak  Yes\n",
       "9       Rain  Mild   Normal    Weak  Yes\n",
       "10     Sunny  Mild   Normal  Strong  Yes\n",
       "11  Overcast  Mild     High  Strong  Yes\n",
       "12  Overcast   Hot   Normal    Weak  Yes\n",
       "13      Rain  Mild     High  Strong   No"
      ]
     },
     "execution_count": 2,
     "metadata": {},
     "output_type": "execute_result"
    }
   ],
   "source": [
    "df = pd.read_csv(\"play_tennis.csv\")\n",
    "df = df.drop('day' , axis=1)\n",
    "df"
   ]
  },
  {
   "cell_type": "markdown",
   "id": "5544763c",
   "metadata": {},
   "source": [
    "Entropy of data or label column"
   ]
  },
  {
   "cell_type": "code",
   "execution_count": 3,
   "id": "66f7642c",
   "metadata": {},
   "outputs": [],
   "source": [
    "def Entropy(x):\n",
    "    unique , counts = np.unique(x , return_counts=True)\n",
    "    \n",
    "    sum = 0\n",
    "    \n",
    "    for i in counts:\n",
    "        sum += i/(len(x)) * math.log2(i/(len(x)))\n",
    "    \n",
    "    sum *= (-1)\n",
    "    return sum"
   ]
  },
  {
   "cell_type": "markdown",
   "id": "3361032c",
   "metadata": {},
   "source": [
    "Entropy of every column w.r.t to predicting column"
   ]
  },
  {
   "cell_type": "code",
   "execution_count": 4,
   "id": "a06dc02b",
   "metadata": {},
   "outputs": [],
   "source": [
    "def entropy(x,y):\n",
    "    \n",
    "    unique_y , counts_y = np.unique(y , return_counts=True)\n",
    "    unique_x , counts_x = np.unique(x , return_counts=True)\n",
    "    label_en = Entropy(y)\n",
    "    \n",
    "    yes = []\n",
    "    no  = []\n",
    "    \n",
    "    for j in unique_x: \n",
    "        yes_cnt = 0\n",
    "        no_cnt  = 0\n",
    "         \n",
    "        for count in range(len(x)):\n",
    "            if j == x[count]:\n",
    "                if  df['play'][count] == 'Yes':\n",
    "                    yes_cnt +=1\n",
    "\n",
    "\n",
    "                else:\n",
    "                    no_cnt+=1\n",
    "\n",
    "\n",
    "        yes.append(yes_cnt)\n",
    "        no.append(no_cnt)\n",
    "        \n",
    "    sum=0\n",
    "    list1=[]\n",
    "    for i in range(0,len(unique_x)):\n",
    "        sum=0\n",
    "        \n",
    "        if (yes[i]==0):\n",
    "            sum += -(no[i]/(counts_x[i]) *  math.log2(no[i]/(counts_x[i])))\n",
    "        elif (no[i]==0):\n",
    "            sum += -(yes[i]/(counts_x[i]) *  math.log2(yes[i]/(counts_x[i])))\n",
    "            \n",
    "        else:\n",
    "            sum += -(yes[i]/(counts_x[i]) *  math.log2(yes[i]/(counts_x[i])))\n",
    "            sum += -(no[i]/(counts_x[i]) *  math.log2(no[i]/(counts_x[i])))\n",
    "        \n",
    "        list1.append(sum)\n",
    "    \n",
    "#     print(list1)\n",
    "    \n",
    "    total=0\n",
    "    for i in range(len(counts_x)):\n",
    "        total += list1[i] * counts_x[i]/len(y)\n",
    "    \n",
    "    ig = label_en - total\n",
    "    \n",
    "    print(\"Information Gain:\" , ig)\n",
    "    \n",
    "    return ig\n",
    "            \n",
    "            \n",
    "        \n",
    "    "
   ]
  },
  {
   "cell_type": "markdown",
   "id": "0d45739c",
   "metadata": {},
   "source": [
    "Information gain for the root node"
   ]
  },
  {
   "cell_type": "code",
   "execution_count": 5,
   "id": "4871a81b",
   "metadata": {},
   "outputs": [
    {
     "name": "stdout",
     "output_type": "stream",
     "text": [
      "Information Gain: 0.24674981977443922\n",
      "Information Gain: 0.02922256565895487\n",
      "Information Gain: 0.15183550136234159\n",
      "Information Gain: 0.04812703040826949\n"
     ]
    }
   ],
   "source": [
    "ig1 = entropy(np.array(df['outlook']) , np.array(df['play']))\n",
    "ig2 = entropy(np.array(df['temp']) , np.array(df['play']))\n",
    "ig3 = entropy(np.array(df['humidity']) , np.array(df['play']))\n",
    "ig4 = entropy(np.array(df['wind']) , np.array(df['play']))"
   ]
  },
  {
   "cell_type": "markdown",
   "id": "e4118680",
   "metadata": {},
   "source": [
    "Spliting of dataset "
   ]
  },
  {
   "cell_type": "code",
   "execution_count": 6,
   "id": "61184d36",
   "metadata": {},
   "outputs": [],
   "source": [
    "data=[]\n",
    "for i in df['outlook'].unique():\n",
    "    data.append(df[df['outlook']==i])    "
   ]
  },
  {
   "cell_type": "code",
   "execution_count": 7,
   "id": "41148849",
   "metadata": {},
   "outputs": [],
   "source": [
    "df1 = pd.DataFrame(data[0])\n",
    "df2 = pd.DataFrame(data[1])\n",
    "df3 = pd.DataFrame(data[2])"
   ]
  },
  {
   "cell_type": "markdown",
   "id": "6ccd556e",
   "metadata": {},
   "source": [
    "Information gain of child node"
   ]
  },
  {
   "cell_type": "code",
   "execution_count": 8,
   "id": "28bc496d",
   "metadata": {},
   "outputs": [
    {
     "name": "stdout",
     "output_type": "stream",
     "text": [
      "Information Gain: 0.9709505944546686\n",
      "Information Gain: 0.4199730940219748\n",
      "Information Gain: 0.01997309402197478\n"
     ]
    }
   ],
   "source": [
    "ig2 = entropy(np.array(df1['temp']) , np.array(df1['play']))\n",
    "ig3 = entropy(np.array(df1['humidity']) , np.array(df1['play']))\n",
    "ig4 = entropy(np.array(df1['wind']) , np.array(df1['play']))"
   ]
  },
  {
   "cell_type": "markdown",
   "id": "4d0d6cd6",
   "metadata": {},
   "source": [
    "Splitting of dataset "
   ]
  },
  {
   "cell_type": "code",
   "execution_count": 9,
   "id": "6b9db193",
   "metadata": {},
   "outputs": [],
   "source": [
    "data=[]\n",
    "for i in df1['temp'].unique():\n",
    "    data.append(df1[df1['temp']==i]) "
   ]
  },
  {
   "cell_type": "code",
   "execution_count": 10,
   "id": "c4e5895e",
   "metadata": {},
   "outputs": [],
   "source": [
    "df4 = pd.DataFrame(data[0])\n",
    "df5 = pd.DataFrame(data[1])\n",
    "df6 = pd.DataFrame(data[2])"
   ]
  },
  {
   "cell_type": "code",
   "execution_count": 11,
   "id": "e88aefa4",
   "metadata": {},
   "outputs": [
    {
     "name": "stdout",
     "output_type": "stream",
     "text": [
      "Information Gain: 0.01997309402197478\n",
      "Information Gain: 0.01997309402197478\n",
      "Information Gain: 0.4199730940219748\n"
     ]
    }
   ],
   "source": [
    "ig2 = entropy(np.array(df3['temp']) , np.array(df3['play']))\n",
    "ig3 = entropy(np.array(df3['humidity']) , np.array(df3['play']))\n",
    "ig4 = entropy(np.array(df3['wind']) , np.array(df3['play']))"
   ]
  },
  {
   "cell_type": "code",
   "execution_count": 12,
   "id": "670145b9",
   "metadata": {},
   "outputs": [],
   "source": [
    "data=[]\n",
    "for i in df3['wind'].unique():\n",
    "    data.append(df3[df3['wind']==i]) "
   ]
  },
  {
   "cell_type": "code",
   "execution_count": 13,
   "id": "7b2013fc",
   "metadata": {},
   "outputs": [],
   "source": [
    "df7 = pd.DataFrame(data[0])\n",
    "df8 = pd.DataFrame(data[1])"
   ]
  },
  {
   "cell_type": "markdown",
   "id": "54db3d3c",
   "metadata": {},
   "source": [
    "Test Function of different rules which are learnt from dataset"
   ]
  },
  {
   "cell_type": "code",
   "execution_count": 14,
   "id": "2ca647a9",
   "metadata": {},
   "outputs": [],
   "source": [
    "def test (x):\n",
    "    val = 0\n",
    "    if x[0]=='Overcast':\n",
    "        val = 'Yes'\n",
    "    elif x[0] == 'Rain':\n",
    "        if x[3] == 'Weak':\n",
    "            val='Yes'\n",
    "        elif x[3] == 'Strong':\n",
    "            val='No'\n",
    "    elif x[0] == 'Sunny':\n",
    "        if x[2] == 'High':\n",
    "            val = 'No'\n",
    "        elif x[2] == 'Normal':\n",
    "            val = 'Yes'\n",
    "                \n",
    "    return val        \n",
    " "
   ]
  },
  {
   "cell_type": "markdown",
   "id": "4456ff52",
   "metadata": {},
   "source": [
    "Prediction Of dataset"
   ]
  },
  {
   "cell_type": "code",
   "execution_count": 15,
   "id": "3f1fd9d7",
   "metadata": {},
   "outputs": [
    {
     "data": {
      "text/plain": [
       "'No'"
      ]
     },
     "execution_count": 15,
     "metadata": {},
     "output_type": "execute_result"
    }
   ],
   "source": [
    "arr=['Rain' , 'Hot' , 'High' , 'Strong']\n",
    "(test(arr))"
   ]
  },
  {
   "cell_type": "code",
   "execution_count": 18,
   "id": "687440e5",
   "metadata": {},
   "outputs": [
    {
     "data": {
      "text/plain": [
       "'Yes'"
      ]
     },
     "execution_count": 18,
     "metadata": {},
     "output_type": "execute_result"
    }
   ],
   "source": [
    "arr=['Overcast' , 'Cool' , 'High' , 'Weak']\n",
    "test(arr)"
   ]
  },
  {
   "cell_type": "markdown",
   "id": "636790e7",
   "metadata": {},
   "source": [
    "Tree of dataset"
   ]
  },
  {
   "cell_type": "code",
   "execution_count": 17,
   "id": "bd82f9d5",
   "metadata": {},
   "outputs": [],
   "source": [
    "# outlook = overcast ========== play yes\n",
    "# outlook = sunny check humidity\n",
    "# humidity = high =========== play no\n",
    "# humidity = normal ======== play yes\n",
    "# outlook = rain check wind\n",
    "# wind = strong ============== play yes\n",
    "# wind = weak =============== play no "
   ]
  },
  {
   "cell_type": "markdown",
   "id": "fdb518a8",
   "metadata": {},
   "source": [
    "# Task-2"
   ]
  },
  {
   "cell_type": "markdown",
   "id": "2616989c",
   "metadata": {},
   "source": [
    "The Naive Bayes is a classification algorithm that is suitable for binary and multiclass classification. Naïve Bayes performs well in cases of categorical input variables compared to numerical variables. It is useful for making predictions and forecasting data based on historical results"
   ]
  },
  {
   "cell_type": "markdown",
   "id": "b289cb76",
   "metadata": {},
   "source": [
    "Decision Tree can be used for both nukmeric and categorical data.Decision trees help you to evaluate your options. Decision Trees are excellent tools for helping you to choose between several courses of action."
   ]
  },
  {
   "cell_type": "code",
   "execution_count": null,
   "id": "956dbebb",
   "metadata": {},
   "outputs": [],
   "source": []
  }
 ],
 "metadata": {
  "kernelspec": {
   "display_name": "Python 3 (ipykernel)",
   "language": "python",
   "name": "python3"
  },
  "language_info": {
   "codemirror_mode": {
    "name": "ipython",
    "version": 3
   },
   "file_extension": ".py",
   "mimetype": "text/x-python",
   "name": "python",
   "nbconvert_exporter": "python",
   "pygments_lexer": "ipython3",
   "version": "3.9.7"
  }
 },
 "nbformat": 4,
 "nbformat_minor": 5
}
