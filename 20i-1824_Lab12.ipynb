{
 "cells": [
  {
   "cell_type": "markdown",
   "id": "719683be",
   "metadata": {},
   "source": [
    "# Ans Hussain\n",
    "# 20i-1824\n",
    "# AI(K)\n",
    "# Lab-12"
   ]
  },
  {
   "cell_type": "code",
   "execution_count": 1,
   "id": "5f53eb6a",
   "metadata": {},
   "outputs": [],
   "source": [
    "import pandas as pd\n",
    "import numpy as np\n"
   ]
  },
  {
   "cell_type": "markdown",
   "id": "99729536",
   "metadata": {},
   "source": [
    "# Gradient Descent From Scratch"
   ]
  },
  {
   "cell_type": "code",
   "execution_count": 2,
   "id": "1901d32d",
   "metadata": {},
   "outputs": [],
   "source": [
    "def hypothesis(X1,thetas1):\n",
    "    return np.dot(X1,thetas1)"
   ]
  },
  {
   "cell_type": "code",
   "execution_count": 3,
   "id": "f0da10d8",
   "metadata": {},
   "outputs": [],
   "source": [
    "def loss_fun(y_act,y_pred):\n",
    "    return np.mean((y_act-y_pred)**2)"
   ]
  },
  {
   "cell_type": "code",
   "execution_count": 4,
   "id": "aac7351d",
   "metadata": {},
   "outputs": [],
   "source": [
    "def gradient_descent(alpha,thetas2,g_thetas):\n",
    "    return (thetas2-alpha*g_thetas)"
   ]
  },
  {
   "cell_type": "code",
   "execution_count": 5,
   "id": "65bdfde1",
   "metadata": {},
   "outputs": [],
   "source": [
    "def der_loss_fun(x,y,thetas3):\n",
    "    hp=hypothesis(x,thetas3)\n",
    "    diff = (y-hp).T\n",
    "    f1=np.dot(diff,X)\n",
    "    f1=-2*f1/float(x.shape[0])\n",
    "    return f1"
   ]
  },
  {
   "cell_type": "markdown",
   "id": "7e5b4237",
   "metadata": {},
   "source": [
    "# Task-1\n",
    "# Reading Csv File"
   ]
  },
  {
   "cell_type": "code",
   "execution_count": 6,
   "id": "0f8e9188",
   "metadata": {},
   "outputs": [
    {
     "data": {
      "text/html": [
       "<div>\n",
       "<style scoped>\n",
       "    .dataframe tbody tr th:only-of-type {\n",
       "        vertical-align: middle;\n",
       "    }\n",
       "\n",
       "    .dataframe tbody tr th {\n",
       "        vertical-align: top;\n",
       "    }\n",
       "\n",
       "    .dataframe thead th {\n",
       "        text-align: right;\n",
       "    }\n",
       "</style>\n",
       "<table border=\"1\" class=\"dataframe\">\n",
       "  <thead>\n",
       "    <tr style=\"text-align: right;\">\n",
       "      <th></th>\n",
       "      <th>TV</th>\n",
       "      <th>radio</th>\n",
       "      <th>newspaper</th>\n",
       "      <th>sales</th>\n",
       "    </tr>\n",
       "  </thead>\n",
       "  <tbody>\n",
       "    <tr>\n",
       "      <th>0</th>\n",
       "      <td>230.1</td>\n",
       "      <td>37.8</td>\n",
       "      <td>69.2</td>\n",
       "      <td>22.1</td>\n",
       "    </tr>\n",
       "    <tr>\n",
       "      <th>1</th>\n",
       "      <td>44.5</td>\n",
       "      <td>39.3</td>\n",
       "      <td>45.1</td>\n",
       "      <td>10.4</td>\n",
       "    </tr>\n",
       "    <tr>\n",
       "      <th>2</th>\n",
       "      <td>17.2</td>\n",
       "      <td>45.9</td>\n",
       "      <td>69.3</td>\n",
       "      <td>9.3</td>\n",
       "    </tr>\n",
       "    <tr>\n",
       "      <th>3</th>\n",
       "      <td>151.5</td>\n",
       "      <td>41.3</td>\n",
       "      <td>58.5</td>\n",
       "      <td>18.5</td>\n",
       "    </tr>\n",
       "    <tr>\n",
       "      <th>4</th>\n",
       "      <td>180.8</td>\n",
       "      <td>10.8</td>\n",
       "      <td>58.4</td>\n",
       "      <td>12.9</td>\n",
       "    </tr>\n",
       "    <tr>\n",
       "      <th>...</th>\n",
       "      <td>...</td>\n",
       "      <td>...</td>\n",
       "      <td>...</td>\n",
       "      <td>...</td>\n",
       "    </tr>\n",
       "    <tr>\n",
       "      <th>195</th>\n",
       "      <td>38.2</td>\n",
       "      <td>3.7</td>\n",
       "      <td>13.8</td>\n",
       "      <td>7.6</td>\n",
       "    </tr>\n",
       "    <tr>\n",
       "      <th>196</th>\n",
       "      <td>94.2</td>\n",
       "      <td>4.9</td>\n",
       "      <td>8.1</td>\n",
       "      <td>9.7</td>\n",
       "    </tr>\n",
       "    <tr>\n",
       "      <th>197</th>\n",
       "      <td>177.0</td>\n",
       "      <td>9.3</td>\n",
       "      <td>6.4</td>\n",
       "      <td>12.8</td>\n",
       "    </tr>\n",
       "    <tr>\n",
       "      <th>198</th>\n",
       "      <td>283.6</td>\n",
       "      <td>42.0</td>\n",
       "      <td>66.2</td>\n",
       "      <td>25.5</td>\n",
       "    </tr>\n",
       "    <tr>\n",
       "      <th>199</th>\n",
       "      <td>232.1</td>\n",
       "      <td>8.6</td>\n",
       "      <td>8.7</td>\n",
       "      <td>13.4</td>\n",
       "    </tr>\n",
       "  </tbody>\n",
       "</table>\n",
       "<p>200 rows × 4 columns</p>\n",
       "</div>"
      ],
      "text/plain": [
       "        TV  radio  newspaper  sales\n",
       "0    230.1   37.8       69.2   22.1\n",
       "1     44.5   39.3       45.1   10.4\n",
       "2     17.2   45.9       69.3    9.3\n",
       "3    151.5   41.3       58.5   18.5\n",
       "4    180.8   10.8       58.4   12.9\n",
       "..     ...    ...        ...    ...\n",
       "195   38.2    3.7       13.8    7.6\n",
       "196   94.2    4.9        8.1    9.7\n",
       "197  177.0    9.3        6.4   12.8\n",
       "198  283.6   42.0       66.2   25.5\n",
       "199  232.1    8.6        8.7   13.4\n",
       "\n",
       "[200 rows x 4 columns]"
      ]
     },
     "execution_count": 6,
     "metadata": {},
     "output_type": "execute_result"
    }
   ],
   "source": [
    "df = pd.read_csv (\"Advertising.csv\")\n",
    "df = df.iloc[: , 1:]\n",
    "df"
   ]
  },
  {
   "cell_type": "markdown",
   "id": "952d61a3",
   "metadata": {},
   "source": [
    "\n",
    "\n",
    "# Preparing for applying functions"
   ]
  },
  {
   "cell_type": "code",
   "execution_count": 7,
   "id": "bc909653",
   "metadata": {},
   "outputs": [
    {
     "name": "stdout",
     "output_type": "stream",
     "text": [
      "X Shape:  (200, 4)\n",
      "Y Shape:  (200, 1)\n",
      "Thetas Shape:  (4, 1)\n"
     ]
    }
   ],
   "source": [
    "one = np.ones(200)\n",
    "X = df.iloc[: , :-1]\n",
    "X['One'] = one\n",
    "X = np.array(X)\n",
    "Y = df.iloc[:,-1:]\n",
    "Y = np.array(Y)\n",
    "thetas = np.array([[100] , [50] , [75] , [1]])\n",
    "print(\"X Shape: \" , X.shape)\n",
    "print(\"Y Shape: \" , Y.shape)\n",
    "print(\"Thetas Shape: \" , thetas.shape)\n",
    "alpha = 0.0001"
   ]
  },
  {
   "cell_type": "markdown",
   "id": "25e288e0",
   "metadata": {},
   "source": [
    "# Applying Functions"
   ]
  },
  {
   "cell_type": "code",
   "execution_count": 8,
   "id": "680c5d3e",
   "metadata": {},
   "outputs": [
    {
     "data": {
      "text/plain": [
       "(200, 1)"
      ]
     },
     "execution_count": 8,
     "metadata": {},
     "output_type": "execute_result"
    }
   ],
   "source": [
    "y_pred = hypothesis(X , thetas)\n",
    "y_pred.shape"
   ]
  },
  {
   "cell_type": "code",
   "execution_count": 9,
   "id": "560b8c65",
   "metadata": {},
   "outputs": [
    {
     "data": {
      "text/plain": [
       "408872809.05125"
      ]
     },
     "execution_count": 9,
     "metadata": {},
     "output_type": "execute_result"
    }
   ],
   "source": [
    "MSE = loss_fun(Y , y_pred)\n",
    "MSE"
   ]
  },
  {
   "cell_type": "code",
   "execution_count": 10,
   "id": "d194a087",
   "metadata": {},
   "outputs": [
    {
     "data": {
      "text/plain": [
       "(4, 1)"
      ]
     },
     "execution_count": 10,
     "metadata": {},
     "output_type": "execute_result"
    }
   ],
   "source": [
    "g_thetas = der_loss_fun(X , Y , thetas)\n",
    "g_thetas = g_thetas.T\n",
    "g_thetas.shape"
   ]
  },
  {
   "cell_type": "code",
   "execution_count": 11,
   "id": "fa6758e5",
   "metadata": {},
   "outputs": [
    {
     "data": {
      "text/plain": [
       "array([[-582.53413416],\n",
       "       [ -39.71310866],\n",
       "       [ -46.20737077],\n",
       "       [  -2.6291955 ]])"
      ]
     },
     "execution_count": 11,
     "metadata": {},
     "output_type": "execute_result"
    }
   ],
   "source": [
    "n_thetas = gradient_descent (alpha , thetas , g_thetas)\n",
    "n_thetas"
   ]
  },
  {
   "cell_type": "markdown",
   "id": "903c66ec",
   "metadata": {},
   "source": [
    "# Gradient Descent 100 Times"
   ]
  },
  {
   "cell_type": "code",
   "execution_count": 12,
   "id": "66257ac7",
   "metadata": {},
   "outputs": [
    {
     "name": "stdout",
     "output_type": "stream",
     "text": [
      "10245565150.43966\n",
      "258935092657.69727\n",
      "6545610952253.798\n",
      "165467377974489.84\n",
      "4182872848598497.5\n",
      "1.0573942473738133e+17\n",
      "2.6730016307310413e+18\n",
      "6.757118015031614e+19\n",
      "1.7081412650160958e+21\n",
      "4.318034071271358e+22\n",
      "1.0915618410801986e+24\n",
      "2.759374366287891e+25\n",
      "6.975460855055007e+26\n",
      "1.7633364553524404e+28\n",
      "4.457562760920101e+29\n",
      "1.126833492679661e+31\n",
      "2.8485380651433575e+32\n",
      "7.200859010034219e+33\n",
      "1.820315168573372e+35\n",
      "4.601600042885104e+36\n",
      "1.1632448776041003e+38\n",
      "2.940582911729522e+39\n",
      "7.433540458450756e+40\n",
      "1.879135035676455e+42\n",
      "4.750291603367001e+43\n",
      "1.2008328240708863e+45\n",
      "3.035602004609513e+46\n",
      "7.673740545457749e+47\n",
      "1.93985554989041e+49\n",
      "4.9037878361264775e+50\n",
      "1.2396353503280435e+52\n",
      "3.133691450641499e+53\n",
      "7.921702220919208e+54\n",
      "2.002538126849408e+56\n",
      "5.062243994599702e+57\n",
      "1.2796917031077256e+59\n",
      "3.234950462185783e+60\n",
      "8.177676285141208e+61\n",
      "2.0672461667117898e+63\n",
      "5.225820348929103e+64\n",
      "1.3210423973222382e+66\n",
      "3.339481457452914e+67\n",
      "8.441921642543259e+68\n",
      "2.1340451182860077e+70\n",
      "5.394682348068244e+71\n",
      "1.3637292570427617e+73\n",
      "3.447390164094377e+74\n",
      "8.714705563526678e+75\n",
      "2.2030025452286956e+77\n",
      "5.569000787124819e+78\n",
      "1.40779545780222e+80\n",
      "3.5587857261406057e+81\n",
      "8.996303954804641e+82\n",
      "2.274188194381781e+84\n",
      "5.748951980111011e+85\n",
      "1.453285570265077e+87\n",
      "3.673780814394464e+88\n",
      "9.287001638467434e+89\n",
      "2.3476740663177775e+91\n",
      "5.934717938275909e+92\n",
      "1.5002456053082468e+94\n",
      "3.792491740391908e+95\n",
      "9.5870926400652e+96\n",
      "2.423534488164613e+98\n",
      "6.126486554200407e+99\n",
      "1.54872306055869e+101\n",
      "3.9150385740450195e+102\n",
      "9.89688048599933e+103\n",
      "2.5018461887836335e+105\n",
      "6.324451791840721e+106\n",
      "1.598766968434784e+108\n",
      "4.041545265086468e+109\n",
      "1.0216678510523749e+111\n",
      "2.5826883763768634e+112\n",
      "6.528813882712863e+113\n",
      "1.650427945740068e+115\n",
      "4.172139768438211e+116\n",
      "1.054681017266603e+118\n",
      "2.6661428186019552e+119\n",
      "6.73977952841635e+120\n",
      "1.703758244859494e+122\n",
      "4.306954173631216e+123\n",
      "1.088760938338945e+125\n",
      "2.752293925275926e+126\n",
      "6.957562109702113e+127\n",
      "1.7588118066099902e+129\n",
      "4.446124838407145e+130\n",
      "1.1239420843326437e+132\n",
      "2.841228833751271e+133\n",
      "7.1823819022959735e+134\n",
      "1.815644314798785e+136\n",
      "4.589792526637082e+137\n",
      "1.1602600391425363e+139\n",
      "2.9330374970508663e+140\n",
      "7.414466299696094e+141\n",
      "1.874313252544678e+143\n",
      "4.7381025506968756e+144\n",
      "1.1977515364863013e+146\n",
      "3.0278127748507555e+147\n",
      "7.654050043169597e+148\n"
     ]
    }
   ],
   "source": [
    "for i in range(100):\n",
    "    y_pred = hypothesis(X , n_thetas)\n",
    "    g_thetas = der_loss_fun(X , Y , n_thetas)\n",
    "    g_thetas = g_thetas.T\n",
    "    n_thetas = gradient_descent (alpha , n_thetas , g_thetas)\n",
    "    print(loss_fun(Y , y_pred))"
   ]
  },
  {
   "cell_type": "code",
   "execution_count": 13,
   "id": "5a8c3e1f",
   "metadata": {},
   "outputs": [
    {
     "name": "stdout",
     "output_type": "stream",
     "text": [
      "[[9.41034181e+76]\n",
      " [1.16123904e+76]\n",
      " [1.53927734e+76]\n",
      " [4.83694180e+74]]\n"
     ]
    }
   ],
   "source": [
    "print(g_thetas)  # final thetas"
   ]
  },
  {
   "cell_type": "code",
   "execution_count": 14,
   "id": "4b44eb33",
   "metadata": {},
   "outputs": [
    {
     "name": "stdout",
     "output_type": "stream",
     "text": [
      "[[100]\n",
      " [ 50]\n",
      " [ 75]\n",
      " [  1]]\n"
     ]
    }
   ],
   "source": [
    "print(thetas)  # inital thetas\n"
   ]
  },
  {
   "cell_type": "code",
   "execution_count": 15,
   "id": "25adec14",
   "metadata": {},
   "outputs": [],
   "source": [
    "# By looking at the inital thetas and final thetas we can see the linear relationship between features and outputs"
   ]
  },
  {
   "cell_type": "code",
   "execution_count": null,
   "id": "61d65a8e",
   "metadata": {},
   "outputs": [],
   "source": []
  },
  {
   "cell_type": "markdown",
   "id": "e76f1f41",
   "metadata": {},
   "source": [
    "# Task-2"
   ]
  },
  {
   "cell_type": "code",
   "execution_count": 16,
   "id": "3aa13f3f",
   "metadata": {},
   "outputs": [],
   "source": [
    "X = np.array([[1,2,3,4,5] , [1,1,1,1,1]]).T\n",
    "Y = np.array([[1],[4],[9],[16],[25]])\n",
    "n_thetas = np.array([[10] , [1]])\n",
    "thetas = n_thetas\n",
    "alpha = 0.08"
   ]
  },
  {
   "cell_type": "code",
   "execution_count": 17,
   "id": "da66619b",
   "metadata": {},
   "outputs": [
    {
     "name": "stdout",
     "output_type": "stream",
     "text": [
      "434.8\n",
      "348.3744000000001\n",
      "279.4023475200002\n",
      "224.35029243494427\n",
      "180.40054056289597\n",
      "145.3062043758643\n",
      "117.27554546336822\n",
      "94.87975294182503\n",
      "76.97940886346149\n",
      "62.6658539855077\n",
      "51.214434569329626\n",
      "42.04722270357208\n",
      "34.70329049209911\n",
      "28.815007438891495\n",
      "24.089140529766155\n",
      "20.29178382733688\n",
      "17.236341596959303\n",
      "14.773946222648524\n",
      "12.785817550483078\n",
      "11.177170269350121\n",
      "9.872355653254125\n",
      "8.810987550801286\n",
      "7.944853189061253\n",
      "7.235449770705344\n",
      "6.652020066179821\n",
      "6.169985896044296\n",
      "5.769698885599036\n",
      "5.435444209540042\n",
      "5.154646069834654\n",
      "4.9172340360606315\n",
      "4.715137658935371\n",
      "4.541883371139287\n",
      "4.392272954852356\n",
      "4.262127053814067\n",
      "4.1480805553806634\n",
      "4.04741933737741\n",
      "3.9579500029822148\n",
      "3.8778959240326216\n",
      "3.80581426641388\n",
      "3.7405297502447596\n",
      "3.6810817579939212\n",
      "3.6266820897368177\n",
      "3.5766812118283644\n",
      "3.530541281488044\n",
      "3.487814577631601\n",
      "3.4481262456475106\n",
      "3.4111604849850083\n",
      "3.3766494847823743\n",
      "3.344364553396858\n",
      "3.314108999841305\n",
      "3.2857124145596863\n",
      "3.259026068286927\n",
      "3.2339192046078926\n",
      "3.2102760471828327\n",
      "3.1879933787747206\n",
      "3.1669785780594255\n",
      "3.147148023205477\n",
      "3.128425789559003\n",
      "3.1107425834059774\n",
      "3.094034865458281\n",
      "3.078244127024088\n",
      "3.0633162892535024\n",
      "3.0492012017792582\n",
      "3.035852221803558\n",
      "3.0232258584582734\n",
      "3.01128147028004\n",
      "2.999981006048544\n",
      "2.989288781158332\n",
      "2.9791712832299644\n",
      "2.96959700189353\n",
      "2.9605362786582936\n",
      "2.951961173567122\n",
      "2.943845345962199\n",
      "2.9361639471914294\n",
      "2.928893523488146\n",
      "2.9220119275797805\n",
      "2.9154982378413274\n",
      "2.909332684017754\n",
      "2.903496578708007\n",
      "2.8979722539388932\n",
      "2.8927430022666094\n",
      "2.887793021932795\n",
      "2.883107365674008\n",
      "2.8786718928423825\n",
      "2.874473224543378\n",
      "2.8704987015359826\n",
      "2.8667363446732743\n",
      "2.863174817688278\n",
      "2.859803392152501\n",
      "2.8566119144533024\n",
      "2.8535907746522535\n",
      "2.850730877100053\n",
      "2.8480236126949614\n",
      "2.8454608326819\n",
      "2.8430348238977228\n",
      "2.8407382853757412\n",
      "2.838564306229258\n",
      "2.8365063447396595\n",
      "2.8345582085798475\n",
      "2.832714036108482\n"
     ]
    }
   ],
   "source": [
    "\n",
    "for i in range(100):\n",
    "    y_pred = hypothesis(X , n_thetas)\n",
    "    g_thetas = der_loss_fun(X , Y , n_thetas)\n",
    "    g_thetas = g_thetas.T\n",
    "    n_thetas = gradient_descent (alpha , n_thetas , g_thetas)\n",
    "    print(loss_fun(Y , y_pred))"
   ]
  },
  {
   "cell_type": "code",
   "execution_count": 18,
   "id": "07bf2d1b",
   "metadata": {},
   "outputs": [
    {
     "data": {
      "text/plain": [
       "array([[ 5.88581987],\n",
       "       [-6.58750195]])"
      ]
     },
     "execution_count": 18,
     "metadata": {},
     "output_type": "execute_result"
    }
   ],
   "source": [
    "n_thetas # old thetas"
   ]
  },
  {
   "cell_type": "code",
   "execution_count": 19,
   "id": "d0b26d30",
   "metadata": {},
   "outputs": [
    {
     "data": {
      "text/plain": [
       "array([[10],\n",
       "       [ 1]])"
      ]
     },
     "execution_count": 19,
     "metadata": {},
     "output_type": "execute_result"
    }
   ],
   "source": [
    "thetas  # initial thetas"
   ]
  },
  {
   "cell_type": "markdown",
   "id": "635c5447",
   "metadata": {},
   "source": [
    "# Task-3"
   ]
  },
  {
   "cell_type": "markdown",
   "id": "543bf2cc",
   "metadata": {},
   "source": [
    "Question: Is linear regression good for classification? If yes, then why, and if no, then why?"
   ]
  },
  {
   "cell_type": "markdown",
   "id": "e8e8deb1",
   "metadata": {},
   "source": [
    "Answer:\n",
    "Linear regression is not suitable because it only works for continuos values whereas classification problems mandate discrete values. "
   ]
  },
  {
   "cell_type": "markdown",
   "id": "cdba9cb0",
   "metadata": {},
   "source": [
    "# Task-4"
   ]
  },
  {
   "cell_type": "markdown",
   "id": "e8723534",
   "metadata": {},
   "source": [
    "Question: Why do we use mse (mean squared error) over squared error? What is the benefit of mse?"
   ]
  },
  {
   "cell_type": "markdown",
   "id": "7be3450a",
   "metadata": {},
   "source": [
    "Answer: MSE calculates the average squared difference between the observed and predicted values. When a model has no error, the MSE equals zero. As model error increases, its value increases."
   ]
  },
  {
   "cell_type": "markdown",
   "id": "d293b53b",
   "metadata": {},
   "source": [
    "# Task-5"
   ]
  },
  {
   "cell_type": "markdown",
   "id": "b5911a6e",
   "metadata": {},
   "source": [
    "Question: Can you find a better estimator than mse?"
   ]
  },
  {
   "cell_type": "markdown",
   "id": "2421f23c",
   "metadata": {},
   "source": [
    "Answer: MSE is a function of the parameter, there will not be one “best” estimator in terms of MSE."
   ]
  },
  {
   "cell_type": "code",
   "execution_count": null,
   "id": "c7affefb",
   "metadata": {},
   "outputs": [],
   "source": []
  }
 ],
 "metadata": {
  "kernelspec": {
   "display_name": "Python 3 (ipykernel)",
   "language": "python",
   "name": "python3"
  },
  "language_info": {
   "codemirror_mode": {
    "name": "ipython",
    "version": 3
   },
   "file_extension": ".py",
   "mimetype": "text/x-python",
   "name": "python",
   "nbconvert_exporter": "python",
   "pygments_lexer": "ipython3",
   "version": "3.9.7"
  }
 },
 "nbformat": 4,
 "nbformat_minor": 5
}
