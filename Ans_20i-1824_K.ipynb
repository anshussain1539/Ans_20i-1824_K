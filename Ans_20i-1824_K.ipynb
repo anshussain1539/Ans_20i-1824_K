{
 "cells": [
  {
   "cell_type": "code",
   "execution_count": 1,
   "id": "a8268ee7",
   "metadata": {},
   "outputs": [],
   "source": [
    "import pandas as pd\n",
    "import numpy as np\n",
    "import warnings\n",
    "from sklearn.model_selection import cross_val_score\n",
    "from sklearn.linear_model import LogisticRegression\n",
    "from sklearn.metrics import accuracy_score\n",
    "from sklearn.model_selection import train_test_split\n",
    "warnings.simplefilter(\"ignore\")"
   ]
  },
  {
   "cell_type": "markdown",
   "id": "17b1cb72",
   "metadata": {},
   "source": [
    "# Reading DataFrames"
   ]
  },
  {
   "cell_type": "code",
   "execution_count": 2,
   "id": "9c2cc35e",
   "metadata": {},
   "outputs": [],
   "source": [
    "df= pd.read_csv(\"ECG200_TRAIN.csv\",delimiter=\"  \")"
   ]
  },
  {
   "cell_type": "markdown",
   "id": "85828ee3",
   "metadata": {},
   "source": [
    "# Renaming Columns"
   ]
  },
  {
   "cell_type": "code",
   "execution_count": 3,
   "id": "ac8c440d",
   "metadata": {},
   "outputs": [],
   "source": [
    "column_names=[]\n",
    "for i in range(97):\n",
    "    column_names.append(i)"
   ]
  },
  {
   "cell_type": "code",
   "execution_count": 4,
   "id": "0cd4f0cc",
   "metadata": {},
   "outputs": [],
   "source": [
    "df.set_axis(column_names, axis = 'columns' , inplace = True)"
   ]
  },
  {
   "cell_type": "code",
   "execution_count": 5,
   "id": "27ce7bf2",
   "metadata": {},
   "outputs": [
    {
     "data": {
      "text/html": [
       "<div>\n",
       "<style scoped>\n",
       "    .dataframe tbody tr th:only-of-type {\n",
       "        vertical-align: middle;\n",
       "    }\n",
       "\n",
       "    .dataframe tbody tr th {\n",
       "        vertical-align: top;\n",
       "    }\n",
       "\n",
       "    .dataframe thead th {\n",
       "        text-align: right;\n",
       "    }\n",
       "</style>\n",
       "<table border=\"1\" class=\"dataframe\">\n",
       "  <thead>\n",
       "    <tr style=\"text-align: right;\">\n",
       "      <th></th>\n",
       "      <th>Predict_Label</th>\n",
       "      <th>1</th>\n",
       "      <th>2</th>\n",
       "      <th>3</th>\n",
       "      <th>4</th>\n",
       "      <th>5</th>\n",
       "      <th>6</th>\n",
       "      <th>7</th>\n",
       "      <th>8</th>\n",
       "      <th>9</th>\n",
       "      <th>...</th>\n",
       "      <th>87</th>\n",
       "      <th>88</th>\n",
       "      <th>89</th>\n",
       "      <th>90</th>\n",
       "      <th>91</th>\n",
       "      <th>92</th>\n",
       "      <th>93</th>\n",
       "      <th>94</th>\n",
       "      <th>95</th>\n",
       "      <th>96</th>\n",
       "    </tr>\n",
       "  </thead>\n",
       "  <tbody>\n",
       "    <tr>\n",
       "      <th>0</th>\n",
       "      <td>1.0</td>\n",
       "      <td>0.147647</td>\n",
       "      <td>0.804668</td>\n",
       "      <td>0.367771</td>\n",
       "      <td>0.243894</td>\n",
       "      <td>0.026614</td>\n",
       "      <td>-0.274402</td>\n",
       "      <td>0.096731</td>\n",
       "      <td>-0.747731</td>\n",
       "      <td>-1.609777</td>\n",
       "      <td>...</td>\n",
       "      <td>-0.533503</td>\n",
       "      <td>-0.400228</td>\n",
       "      <td>0.176084</td>\n",
       "      <td>1.111768</td>\n",
       "      <td>2.438428</td>\n",
       "      <td>2.734889</td>\n",
       "      <td>1.736054</td>\n",
       "      <td>0.036857</td>\n",
       "      <td>-1.265074</td>\n",
       "      <td>-0.208024</td>\n",
       "    </tr>\n",
       "    <tr>\n",
       "      <th>1</th>\n",
       "      <td>-1.0</td>\n",
       "      <td>0.316646</td>\n",
       "      <td>0.243199</td>\n",
       "      <td>0.370471</td>\n",
       "      <td>1.063738</td>\n",
       "      <td>1.678187</td>\n",
       "      <td>1.759558</td>\n",
       "      <td>1.697717</td>\n",
       "      <td>1.612159</td>\n",
       "      <td>1.168188</td>\n",
       "      <td>...</td>\n",
       "      <td>0.764229</td>\n",
       "      <td>0.610621</td>\n",
       "      <td>0.552900</td>\n",
       "      <td>0.566786</td>\n",
       "      <td>0.604002</td>\n",
       "      <td>0.777068</td>\n",
       "      <td>0.812345</td>\n",
       "      <td>0.748848</td>\n",
       "      <td>0.818042</td>\n",
       "      <td>0.539347</td>\n",
       "    </tr>\n",
       "    <tr>\n",
       "      <th>2</th>\n",
       "      <td>-1.0</td>\n",
       "      <td>1.168874</td>\n",
       "      <td>2.075901</td>\n",
       "      <td>1.760141</td>\n",
       "      <td>1.606446</td>\n",
       "      <td>1.949046</td>\n",
       "      <td>1.302842</td>\n",
       "      <td>0.459332</td>\n",
       "      <td>0.516412</td>\n",
       "      <td>0.852180</td>\n",
       "      <td>...</td>\n",
       "      <td>0.419006</td>\n",
       "      <td>0.723888</td>\n",
       "      <td>1.323947</td>\n",
       "      <td>2.136488</td>\n",
       "      <td>1.746597</td>\n",
       "      <td>1.470220</td>\n",
       "      <td>1.893512</td>\n",
       "      <td>1.256949</td>\n",
       "      <td>0.800407</td>\n",
       "      <td>0.731540</td>\n",
       "    </tr>\n",
       "    <tr>\n",
       "      <th>3</th>\n",
       "      <td>1.0</td>\n",
       "      <td>0.648658</td>\n",
       "      <td>0.752026</td>\n",
       "      <td>2.636231</td>\n",
       "      <td>3.455716</td>\n",
       "      <td>2.118157</td>\n",
       "      <td>0.520620</td>\n",
       "      <td>-0.188627</td>\n",
       "      <td>0.780818</td>\n",
       "      <td>0.933775</td>\n",
       "      <td>...</td>\n",
       "      <td>-0.097869</td>\n",
       "      <td>-0.136787</td>\n",
       "      <td>-0.340237</td>\n",
       "      <td>-0.089441</td>\n",
       "      <td>-0.080297</td>\n",
       "      <td>-0.192584</td>\n",
       "      <td>-0.304704</td>\n",
       "      <td>-0.454556</td>\n",
       "      <td>0.314590</td>\n",
       "      <td>0.582190</td>\n",
       "    </tr>\n",
       "    <tr>\n",
       "      <th>4</th>\n",
       "      <td>1.0</td>\n",
       "      <td>0.404733</td>\n",
       "      <td>1.280859</td>\n",
       "      <td>2.515148</td>\n",
       "      <td>1.299519</td>\n",
       "      <td>1.453432</td>\n",
       "      <td>0.474275</td>\n",
       "      <td>-1.396562</td>\n",
       "      <td>-0.647081</td>\n",
       "      <td>0.431945</td>\n",
       "      <td>...</td>\n",
       "      <td>0.376469</td>\n",
       "      <td>0.277811</td>\n",
       "      <td>0.225676</td>\n",
       "      <td>0.159091</td>\n",
       "      <td>0.408354</td>\n",
       "      <td>0.540015</td>\n",
       "      <td>-0.027791</td>\n",
       "      <td>0.203476</td>\n",
       "      <td>0.346964</td>\n",
       "      <td>0.339185</td>\n",
       "    </tr>\n",
       "    <tr>\n",
       "      <th>...</th>\n",
       "      <td>...</td>\n",
       "      <td>...</td>\n",
       "      <td>...</td>\n",
       "      <td>...</td>\n",
       "      <td>...</td>\n",
       "      <td>...</td>\n",
       "      <td>...</td>\n",
       "      <td>...</td>\n",
       "      <td>...</td>\n",
       "      <td>...</td>\n",
       "      <td>...</td>\n",
       "      <td>...</td>\n",
       "      <td>...</td>\n",
       "      <td>...</td>\n",
       "      <td>...</td>\n",
       "      <td>...</td>\n",
       "      <td>...</td>\n",
       "      <td>...</td>\n",
       "      <td>...</td>\n",
       "      <td>...</td>\n",
       "      <td>...</td>\n",
       "    </tr>\n",
       "    <tr>\n",
       "      <th>94</th>\n",
       "      <td>1.0</td>\n",
       "      <td>0.581277</td>\n",
       "      <td>0.876188</td>\n",
       "      <td>1.042767</td>\n",
       "      <td>1.796120</td>\n",
       "      <td>2.541399</td>\n",
       "      <td>2.246653</td>\n",
       "      <td>1.500387</td>\n",
       "      <td>1.031521</td>\n",
       "      <td>0.382672</td>\n",
       "      <td>...</td>\n",
       "      <td>1.002770</td>\n",
       "      <td>0.907869</td>\n",
       "      <td>0.916457</td>\n",
       "      <td>0.923975</td>\n",
       "      <td>0.767357</td>\n",
       "      <td>0.656223</td>\n",
       "      <td>0.762357</td>\n",
       "      <td>0.501373</td>\n",
       "      <td>-0.333336</td>\n",
       "      <td>-0.524546</td>\n",
       "    </tr>\n",
       "    <tr>\n",
       "      <th>95</th>\n",
       "      <td>-1.0</td>\n",
       "      <td>2.689017</td>\n",
       "      <td>2.708703</td>\n",
       "      <td>2.008381</td>\n",
       "      <td>2.235800</td>\n",
       "      <td>1.516982</td>\n",
       "      <td>0.029916</td>\n",
       "      <td>-0.561346</td>\n",
       "      <td>-0.793702</td>\n",
       "      <td>-0.979371</td>\n",
       "      <td>...</td>\n",
       "      <td>-0.136610</td>\n",
       "      <td>-0.072176</td>\n",
       "      <td>-0.082738</td>\n",
       "      <td>-0.138468</td>\n",
       "      <td>-0.120396</td>\n",
       "      <td>-0.089411</td>\n",
       "      <td>-0.243141</td>\n",
       "      <td>-0.119710</td>\n",
       "      <td>0.124042</td>\n",
       "      <td>0.273463</td>\n",
       "    </tr>\n",
       "    <tr>\n",
       "      <th>96</th>\n",
       "      <td>-1.0</td>\n",
       "      <td>0.197677</td>\n",
       "      <td>0.455417</td>\n",
       "      <td>0.973110</td>\n",
       "      <td>1.935956</td>\n",
       "      <td>2.259463</td>\n",
       "      <td>1.741341</td>\n",
       "      <td>1.158296</td>\n",
       "      <td>0.418241</td>\n",
       "      <td>-0.071605</td>\n",
       "      <td>...</td>\n",
       "      <td>0.482452</td>\n",
       "      <td>0.325569</td>\n",
       "      <td>0.247991</td>\n",
       "      <td>0.184127</td>\n",
       "      <td>0.050358</td>\n",
       "      <td>0.241988</td>\n",
       "      <td>0.331451</td>\n",
       "      <td>-0.120006</td>\n",
       "      <td>0.042423</td>\n",
       "      <td>0.343293</td>\n",
       "    </tr>\n",
       "    <tr>\n",
       "      <th>97</th>\n",
       "      <td>1.0</td>\n",
       "      <td>0.179500</td>\n",
       "      <td>1.038409</td>\n",
       "      <td>1.946421</td>\n",
       "      <td>2.705141</td>\n",
       "      <td>1.670706</td>\n",
       "      <td>-0.101167</td>\n",
       "      <td>-1.578876</td>\n",
       "      <td>-0.750906</td>\n",
       "      <td>0.175310</td>\n",
       "      <td>...</td>\n",
       "      <td>0.324323</td>\n",
       "      <td>0.330489</td>\n",
       "      <td>0.111953</td>\n",
       "      <td>0.448948</td>\n",
       "      <td>0.567132</td>\n",
       "      <td>0.136757</td>\n",
       "      <td>0.444768</td>\n",
       "      <td>0.151050</td>\n",
       "      <td>0.193378</td>\n",
       "      <td>0.451709</td>\n",
       "    </tr>\n",
       "    <tr>\n",
       "      <th>98</th>\n",
       "      <td>1.0</td>\n",
       "      <td>0.073124</td>\n",
       "      <td>0.776054</td>\n",
       "      <td>2.181336</td>\n",
       "      <td>3.440325</td>\n",
       "      <td>2.168475</td>\n",
       "      <td>0.497315</td>\n",
       "      <td>-0.924284</td>\n",
       "      <td>-1.499227</td>\n",
       "      <td>-0.679328</td>\n",
       "      <td>...</td>\n",
       "      <td>-0.058935</td>\n",
       "      <td>-0.130638</td>\n",
       "      <td>-0.347235</td>\n",
       "      <td>-0.177933</td>\n",
       "      <td>-0.060332</td>\n",
       "      <td>-0.347634</td>\n",
       "      <td>-0.447443</td>\n",
       "      <td>-0.066689</td>\n",
       "      <td>-0.178448</td>\n",
       "      <td>-0.256052</td>\n",
       "    </tr>\n",
       "  </tbody>\n",
       "</table>\n",
       "<p>99 rows × 97 columns</p>\n",
       "</div>"
      ],
      "text/plain": [
       "    Predict_Label         1         2         3         4         5         6  \\\n",
       "0             1.0  0.147647  0.804668  0.367771  0.243894  0.026614 -0.274402   \n",
       "1            -1.0  0.316646  0.243199  0.370471  1.063738  1.678187  1.759558   \n",
       "2            -1.0  1.168874  2.075901  1.760141  1.606446  1.949046  1.302842   \n",
       "3             1.0  0.648658  0.752026  2.636231  3.455716  2.118157  0.520620   \n",
       "4             1.0  0.404733  1.280859  2.515148  1.299519  1.453432  0.474275   \n",
       "..            ...       ...       ...       ...       ...       ...       ...   \n",
       "94            1.0  0.581277  0.876188  1.042767  1.796120  2.541399  2.246653   \n",
       "95           -1.0  2.689017  2.708703  2.008381  2.235800  1.516982  0.029916   \n",
       "96           -1.0  0.197677  0.455417  0.973110  1.935956  2.259463  1.741341   \n",
       "97            1.0  0.179500  1.038409  1.946421  2.705141  1.670706 -0.101167   \n",
       "98            1.0  0.073124  0.776054  2.181336  3.440325  2.168475  0.497315   \n",
       "\n",
       "           7         8         9  ...        87        88        89        90  \\\n",
       "0   0.096731 -0.747731 -1.609777  ... -0.533503 -0.400228  0.176084  1.111768   \n",
       "1   1.697717  1.612159  1.168188  ...  0.764229  0.610621  0.552900  0.566786   \n",
       "2   0.459332  0.516412  0.852180  ...  0.419006  0.723888  1.323947  2.136488   \n",
       "3  -0.188627  0.780818  0.933775  ... -0.097869 -0.136787 -0.340237 -0.089441   \n",
       "4  -1.396562 -0.647081  0.431945  ...  0.376469  0.277811  0.225676  0.159091   \n",
       "..       ...       ...       ...  ...       ...       ...       ...       ...   \n",
       "94  1.500387  1.031521  0.382672  ...  1.002770  0.907869  0.916457  0.923975   \n",
       "95 -0.561346 -0.793702 -0.979371  ... -0.136610 -0.072176 -0.082738 -0.138468   \n",
       "96  1.158296  0.418241 -0.071605  ...  0.482452  0.325569  0.247991  0.184127   \n",
       "97 -1.578876 -0.750906  0.175310  ...  0.324323  0.330489  0.111953  0.448948   \n",
       "98 -0.924284 -1.499227 -0.679328  ... -0.058935 -0.130638 -0.347235 -0.177933   \n",
       "\n",
       "          91        92        93        94        95        96  \n",
       "0   2.438428  2.734889  1.736054  0.036857 -1.265074 -0.208024  \n",
       "1   0.604002  0.777068  0.812345  0.748848  0.818042  0.539347  \n",
       "2   1.746597  1.470220  1.893512  1.256949  0.800407  0.731540  \n",
       "3  -0.080297 -0.192584 -0.304704 -0.454556  0.314590  0.582190  \n",
       "4   0.408354  0.540015 -0.027791  0.203476  0.346964  0.339185  \n",
       "..       ...       ...       ...       ...       ...       ...  \n",
       "94  0.767357  0.656223  0.762357  0.501373 -0.333336 -0.524546  \n",
       "95 -0.120396 -0.089411 -0.243141 -0.119710  0.124042  0.273463  \n",
       "96  0.050358  0.241988  0.331451 -0.120006  0.042423  0.343293  \n",
       "97  0.567132  0.136757  0.444768  0.151050  0.193378  0.451709  \n",
       "98 -0.060332 -0.347634 -0.447443 -0.066689 -0.178448 -0.256052  \n",
       "\n",
       "[99 rows x 97 columns]"
      ]
     },
     "execution_count": 5,
     "metadata": {},
     "output_type": "execute_result"
    }
   ],
   "source": [
    "df.rename(columns={ df.columns[0]: \"Predict_Label\" })"
   ]
  },
  {
   "cell_type": "markdown",
   "id": "1506e2e9",
   "metadata": {},
   "source": [
    "# Describe Function"
   ]
  },
  {
   "cell_type": "code",
   "execution_count": 6,
   "id": "c2ce3e2f",
   "metadata": {},
   "outputs": [
    {
     "data": {
      "text/html": [
       "<div>\n",
       "<style scoped>\n",
       "    .dataframe tbody tr th:only-of-type {\n",
       "        vertical-align: middle;\n",
       "    }\n",
       "\n",
       "    .dataframe tbody tr th {\n",
       "        vertical-align: top;\n",
       "    }\n",
       "\n",
       "    .dataframe thead th {\n",
       "        text-align: right;\n",
       "    }\n",
       "</style>\n",
       "<table border=\"1\" class=\"dataframe\">\n",
       "  <thead>\n",
       "    <tr style=\"text-align: right;\">\n",
       "      <th></th>\n",
       "      <th>0</th>\n",
       "      <th>1</th>\n",
       "      <th>2</th>\n",
       "      <th>3</th>\n",
       "      <th>4</th>\n",
       "      <th>5</th>\n",
       "      <th>6</th>\n",
       "      <th>7</th>\n",
       "      <th>8</th>\n",
       "      <th>9</th>\n",
       "      <th>...</th>\n",
       "      <th>87</th>\n",
       "      <th>88</th>\n",
       "      <th>89</th>\n",
       "      <th>90</th>\n",
       "      <th>91</th>\n",
       "      <th>92</th>\n",
       "      <th>93</th>\n",
       "      <th>94</th>\n",
       "      <th>95</th>\n",
       "      <th>96</th>\n",
       "    </tr>\n",
       "  </thead>\n",
       "  <tbody>\n",
       "    <tr>\n",
       "      <th>count</th>\n",
       "      <td>99.000000</td>\n",
       "      <td>99.000000</td>\n",
       "      <td>99.000000</td>\n",
       "      <td>99.000000</td>\n",
       "      <td>99.000000</td>\n",
       "      <td>99.000000</td>\n",
       "      <td>99.000000</td>\n",
       "      <td>99.000000</td>\n",
       "      <td>99.000000</td>\n",
       "      <td>99.000000</td>\n",
       "      <td>...</td>\n",
       "      <td>99.000000</td>\n",
       "      <td>99.000000</td>\n",
       "      <td>99.000000</td>\n",
       "      <td>99.000000</td>\n",
       "      <td>99.000000</td>\n",
       "      <td>99.000000</td>\n",
       "      <td>99.000000</td>\n",
       "      <td>99.000000</td>\n",
       "      <td>99.000000</td>\n",
       "      <td>99.000000</td>\n",
       "    </tr>\n",
       "    <tr>\n",
       "      <th>mean</th>\n",
       "      <td>0.393939</td>\n",
       "      <td>0.710522</td>\n",
       "      <td>1.431040</td>\n",
       "      <td>2.052450</td>\n",
       "      <td>2.133501</td>\n",
       "      <td>1.545708</td>\n",
       "      <td>0.746908</td>\n",
       "      <td>0.265944</td>\n",
       "      <td>0.322162</td>\n",
       "      <td>0.366550</td>\n",
       "      <td>...</td>\n",
       "      <td>0.182931</td>\n",
       "      <td>0.169882</td>\n",
       "      <td>0.200725</td>\n",
       "      <td>0.282462</td>\n",
       "      <td>0.410739</td>\n",
       "      <td>0.457547</td>\n",
       "      <td>0.386633</td>\n",
       "      <td>0.278600</td>\n",
       "      <td>0.177466</td>\n",
       "      <td>0.172248</td>\n",
       "    </tr>\n",
       "    <tr>\n",
       "      <th>std</th>\n",
       "      <td>0.923814</td>\n",
       "      <td>0.596165</td>\n",
       "      <td>0.928406</td>\n",
       "      <td>1.043681</td>\n",
       "      <td>1.102072</td>\n",
       "      <td>0.957754</td>\n",
       "      <td>0.955651</td>\n",
       "      <td>1.089434</td>\n",
       "      <td>0.874545</td>\n",
       "      <td>0.762903</td>\n",
       "      <td>...</td>\n",
       "      <td>0.398854</td>\n",
       "      <td>0.433959</td>\n",
       "      <td>0.454579</td>\n",
       "      <td>0.591501</td>\n",
       "      <td>0.775839</td>\n",
       "      <td>0.875285</td>\n",
       "      <td>0.835922</td>\n",
       "      <td>0.667561</td>\n",
       "      <td>0.620616</td>\n",
       "      <td>0.414917</td>\n",
       "    </tr>\n",
       "    <tr>\n",
       "      <th>min</th>\n",
       "      <td>-1.000000</td>\n",
       "      <td>-0.706305</td>\n",
       "      <td>-1.100715</td>\n",
       "      <td>-1.321589</td>\n",
       "      <td>-1.076313</td>\n",
       "      <td>-1.247922</td>\n",
       "      <td>-1.482391</td>\n",
       "      <td>-1.598712</td>\n",
       "      <td>-1.508060</td>\n",
       "      <td>-1.609777</td>\n",
       "      <td>...</td>\n",
       "      <td>-0.533503</td>\n",
       "      <td>-0.691436</td>\n",
       "      <td>-0.516631</td>\n",
       "      <td>-0.574304</td>\n",
       "      <td>-0.559178</td>\n",
       "      <td>-0.530917</td>\n",
       "      <td>-0.738019</td>\n",
       "      <td>-0.970796</td>\n",
       "      <td>-1.862314</td>\n",
       "      <td>-1.238622</td>\n",
       "    </tr>\n",
       "    <tr>\n",
       "      <th>25%</th>\n",
       "      <td>-1.000000</td>\n",
       "      <td>0.317978</td>\n",
       "      <td>0.791786</td>\n",
       "      <td>1.597707</td>\n",
       "      <td>1.520715</td>\n",
       "      <td>0.934032</td>\n",
       "      <td>0.016851</td>\n",
       "      <td>-0.610085</td>\n",
       "      <td>-0.477833</td>\n",
       "      <td>-0.079104</td>\n",
       "      <td>...</td>\n",
       "      <td>-0.131964</td>\n",
       "      <td>-0.143701</td>\n",
       "      <td>-0.122133</td>\n",
       "      <td>-0.149562</td>\n",
       "      <td>-0.073084</td>\n",
       "      <td>-0.099097</td>\n",
       "      <td>-0.111797</td>\n",
       "      <td>-0.119858</td>\n",
       "      <td>-0.131257</td>\n",
       "      <td>-0.048432</td>\n",
       "    </tr>\n",
       "    <tr>\n",
       "      <th>50%</th>\n",
       "      <td>1.000000</td>\n",
       "      <td>0.581277</td>\n",
       "      <td>1.237034</td>\n",
       "      <td>2.154536</td>\n",
       "      <td>2.235800</td>\n",
       "      <td>1.735496</td>\n",
       "      <td>0.560727</td>\n",
       "      <td>0.104841</td>\n",
       "      <td>0.352575</td>\n",
       "      <td>0.453166</td>\n",
       "      <td>...</td>\n",
       "      <td>0.082941</td>\n",
       "      <td>0.086670</td>\n",
       "      <td>0.103960</td>\n",
       "      <td>0.119056</td>\n",
       "      <td>0.163330</td>\n",
       "      <td>0.201845</td>\n",
       "      <td>0.101325</td>\n",
       "      <td>0.134269</td>\n",
       "      <td>0.124042</td>\n",
       "      <td>0.147889</td>\n",
       "    </tr>\n",
       "    <tr>\n",
       "      <th>75%</th>\n",
       "      <td>1.000000</td>\n",
       "      <td>0.996409</td>\n",
       "      <td>2.095711</td>\n",
       "      <td>2.708055</td>\n",
       "      <td>2.872853</td>\n",
       "      <td>2.165062</td>\n",
       "      <td>1.473131</td>\n",
       "      <td>1.223463</td>\n",
       "      <td>1.008394</td>\n",
       "      <td>0.964301</td>\n",
       "      <td>...</td>\n",
       "      <td>0.428192</td>\n",
       "      <td>0.435691</td>\n",
       "      <td>0.466163</td>\n",
       "      <td>0.590219</td>\n",
       "      <td>0.585567</td>\n",
       "      <td>0.599490</td>\n",
       "      <td>0.553665</td>\n",
       "      <td>0.541536</td>\n",
       "      <td>0.523024</td>\n",
       "      <td>0.414425</td>\n",
       "    </tr>\n",
       "    <tr>\n",
       "      <th>max</th>\n",
       "      <td>1.000000</td>\n",
       "      <td>2.689017</td>\n",
       "      <td>3.535038</td>\n",
       "      <td>3.850263</td>\n",
       "      <td>4.199145</td>\n",
       "      <td>3.720899</td>\n",
       "      <td>3.026452</td>\n",
       "      <td>2.454195</td>\n",
       "      <td>2.220327</td>\n",
       "      <td>2.122435</td>\n",
       "      <td>...</td>\n",
       "      <td>1.376751</td>\n",
       "      <td>1.497244</td>\n",
       "      <td>1.436900</td>\n",
       "      <td>2.190151</td>\n",
       "      <td>3.047309</td>\n",
       "      <td>3.269882</td>\n",
       "      <td>3.332053</td>\n",
       "      <td>2.653741</td>\n",
       "      <td>1.930880</td>\n",
       "      <td>1.372607</td>\n",
       "    </tr>\n",
       "  </tbody>\n",
       "</table>\n",
       "<p>8 rows × 97 columns</p>\n",
       "</div>"
      ],
      "text/plain": [
       "              0          1          2          3          4          5   \\\n",
       "count  99.000000  99.000000  99.000000  99.000000  99.000000  99.000000   \n",
       "mean    0.393939   0.710522   1.431040   2.052450   2.133501   1.545708   \n",
       "std     0.923814   0.596165   0.928406   1.043681   1.102072   0.957754   \n",
       "min    -1.000000  -0.706305  -1.100715  -1.321589  -1.076313  -1.247922   \n",
       "25%    -1.000000   0.317978   0.791786   1.597707   1.520715   0.934032   \n",
       "50%     1.000000   0.581277   1.237034   2.154536   2.235800   1.735496   \n",
       "75%     1.000000   0.996409   2.095711   2.708055   2.872853   2.165062   \n",
       "max     1.000000   2.689017   3.535038   3.850263   4.199145   3.720899   \n",
       "\n",
       "              6          7          8          9   ...         87         88  \\\n",
       "count  99.000000  99.000000  99.000000  99.000000  ...  99.000000  99.000000   \n",
       "mean    0.746908   0.265944   0.322162   0.366550  ...   0.182931   0.169882   \n",
       "std     0.955651   1.089434   0.874545   0.762903  ...   0.398854   0.433959   \n",
       "min    -1.482391  -1.598712  -1.508060  -1.609777  ...  -0.533503  -0.691436   \n",
       "25%     0.016851  -0.610085  -0.477833  -0.079104  ...  -0.131964  -0.143701   \n",
       "50%     0.560727   0.104841   0.352575   0.453166  ...   0.082941   0.086670   \n",
       "75%     1.473131   1.223463   1.008394   0.964301  ...   0.428192   0.435691   \n",
       "max     3.026452   2.454195   2.220327   2.122435  ...   1.376751   1.497244   \n",
       "\n",
       "              89         90         91         92         93         94  \\\n",
       "count  99.000000  99.000000  99.000000  99.000000  99.000000  99.000000   \n",
       "mean    0.200725   0.282462   0.410739   0.457547   0.386633   0.278600   \n",
       "std     0.454579   0.591501   0.775839   0.875285   0.835922   0.667561   \n",
       "min    -0.516631  -0.574304  -0.559178  -0.530917  -0.738019  -0.970796   \n",
       "25%    -0.122133  -0.149562  -0.073084  -0.099097  -0.111797  -0.119858   \n",
       "50%     0.103960   0.119056   0.163330   0.201845   0.101325   0.134269   \n",
       "75%     0.466163   0.590219   0.585567   0.599490   0.553665   0.541536   \n",
       "max     1.436900   2.190151   3.047309   3.269882   3.332053   2.653741   \n",
       "\n",
       "              95         96  \n",
       "count  99.000000  99.000000  \n",
       "mean    0.177466   0.172248  \n",
       "std     0.620616   0.414917  \n",
       "min    -1.862314  -1.238622  \n",
       "25%    -0.131257  -0.048432  \n",
       "50%     0.124042   0.147889  \n",
       "75%     0.523024   0.414425  \n",
       "max     1.930880   1.372607  \n",
       "\n",
       "[8 rows x 97 columns]"
      ]
     },
     "execution_count": 6,
     "metadata": {},
     "output_type": "execute_result"
    }
   ],
   "source": [
    "df.describe()"
   ]
  },
  {
   "cell_type": "markdown",
   "id": "2d04bbee",
   "metadata": {},
   "source": [
    "# Converting Dataframe into numpy"
   ]
  },
  {
   "cell_type": "code",
   "execution_count": 7,
   "id": "c5e695d5",
   "metadata": {},
   "outputs": [
    {
     "data": {
      "text/plain": [
       "array([[ 1.        ,  0.1476469 ,  0.8046684 , ...,  0.03685655,\n",
       "        -1.2650744 , -0.20802439],\n",
       "       [-1.        ,  0.31664616,  0.24319908, ...,  0.74884814,\n",
       "         0.81804204,  0.53934704],\n",
       "       [-1.        ,  1.1688741 ,  2.0759008 , ...,  1.2569493 ,\n",
       "         0.80040658,  0.73153981],\n",
       "       ...,\n",
       "       [-1.        ,  0.19767692,  0.45541658, ..., -0.1200061 ,\n",
       "         0.04242264,  0.34329344],\n",
       "       [ 1.        ,  0.17950028,  1.0384092 , ...,  0.15104997,\n",
       "         0.19337751,  0.45170853],\n",
       "       [ 1.        ,  0.07312418,  0.77605406, ..., -0.06668896,\n",
       "        -0.17844792, -0.25605159]])"
      ]
     },
     "execution_count": 7,
     "metadata": {},
     "output_type": "execute_result"
    }
   ],
   "source": [
    "arr = df.to_numpy()\n",
    "arr"
   ]
  },
  {
   "cell_type": "markdown",
   "id": "91e116df",
   "metadata": {},
   "source": [
    "# Train Test Split Using Numpy"
   ]
  },
  {
   "cell_type": "code",
   "execution_count": 8,
   "id": "532d29bf",
   "metadata": {},
   "outputs": [
    {
     "name": "stdout",
     "output_type": "stream",
     "text": [
      "49\n",
      "21\n",
      "20\n",
      "9\n"
     ]
    }
   ],
   "source": [
    "count=0\n",
    "counter1 = 1\n",
    "counter2 = 1\n",
    "list1=[]\n",
    "list2=[]\n",
    "list3=[]\n",
    "list4=[]\n",
    "\n",
    "for i in range(len(arr)):\n",
    "    i=arr[count][0]\n",
    "    \n",
    "    if i==1 and counter1 <=49:    \n",
    "        list1.append(arr[count])\n",
    "        counter1+=1\n",
    "    \n",
    "    elif i==1 and counter1 > 49:    \n",
    "        list3.append(arr[count])\n",
    "        counter1+=1\n",
    "        \n",
    "        \n",
    "    if i==-1 and counter2 <=21:    \n",
    "        list2.append(arr[count])\n",
    "        counter2+=1\n",
    "        \n",
    "    \n",
    "        \n",
    "    elif i==-1 and counter2 > 21:    \n",
    "        list4.append(arr[count])\n",
    "        counter2+=1\n",
    "        \n",
    "    count+=1\n",
    "        \n",
    "        \n",
    "        \n",
    "print(len(list1))\n",
    "print(len(list2))\n",
    "print(len(list3))\n",
    "print(len(list4))       "
   ]
  },
  {
   "cell_type": "code",
   "execution_count": 9,
   "id": "59424d09",
   "metadata": {},
   "outputs": [
    {
     "name": "stdout",
     "output_type": "stream",
     "text": [
      "70\n",
      "29\n"
     ]
    }
   ],
   "source": [
    "training_list = list1 + list2\n",
    "testing_list = list3 + list4\n",
    "\n",
    "print(len(training_list))\n",
    "print(len(testing_list))"
   ]
  },
  {
   "cell_type": "markdown",
   "id": "aa792099",
   "metadata": {},
   "source": [
    "# Classifier on Train Test Split (Numpy)"
   ]
  },
  {
   "cell_type": "code",
   "execution_count": 10,
   "id": "a32a114f",
   "metadata": {},
   "outputs": [],
   "source": [
    "df1 = pd.DataFrame(training_list)\n",
    "df2 = pd.DataFrame(testing_list)\n",
    "x_train = df1.iloc[: , 1:]\n",
    "x_test  = df2.iloc[: , 1:]\n",
    "y_train = df1.iloc[: , 0:1]\n",
    "y_test = df2.iloc[: , 0:1]"
   ]
  },
  {
   "cell_type": "code",
   "execution_count": 11,
   "id": "05fc17a1",
   "metadata": {},
   "outputs": [
    {
     "data": {
      "text/plain": [
       "0.7241379310344828"
      ]
     },
     "execution_count": 11,
     "metadata": {},
     "output_type": "execute_result"
    }
   ],
   "source": [
    "clf=LogisticRegression()\n",
    "clf.fit(x_train,y_train)\n",
    "\n",
    "y_pred=clf.predict(x_test)\n",
    "\n",
    "acc = accuracy_score(y_test , y_pred)\n",
    "acc"
   ]
  },
  {
   "cell_type": "markdown",
   "id": "18e8e08d",
   "metadata": {},
   "source": [
    "# Train Test Split (Build-in)"
   ]
  },
  {
   "cell_type": "code",
   "execution_count": 12,
   "id": "65afe31c",
   "metadata": {},
   "outputs": [],
   "source": [
    "X = df.iloc[: , 1:]\n",
    "y = df.iloc[: , 0:1]\n",
    "x_train, x_test, y_train, y_test = train_test_split(X, y, test_size=0.3, random_state=42)"
   ]
  },
  {
   "cell_type": "code",
   "execution_count": 13,
   "id": "3873701f",
   "metadata": {},
   "outputs": [
    {
     "data": {
      "text/plain": [
       "0.9333333333333333"
      ]
     },
     "execution_count": 13,
     "metadata": {},
     "output_type": "execute_result"
    }
   ],
   "source": [
    "clf=LogisticRegression()\n",
    "clf.fit(x_train,y_train)\n",
    "\n",
    "y_pred=clf.predict(x_test)\n",
    "\n",
    "acc1 = accuracy_score(y_test , y_pred)\n",
    "acc1"
   ]
  },
  {
   "cell_type": "markdown",
   "id": "52e3305d",
   "metadata": {},
   "source": [
    "# K-Fold Cross Validation Using Numpy"
   ]
  },
  {
   "cell_type": "code",
   "execution_count": 14,
   "id": "a33a0590",
   "metadata": {},
   "outputs": [
    {
     "name": "stdout",
     "output_type": "stream",
     "text": [
      "17\n",
      "18\n",
      "18\n",
      "16\n",
      "7\n",
      "8\n",
      "8\n",
      "7\n"
     ]
    }
   ],
   "source": [
    "count=0\n",
    "counter1 = 1\n",
    "counter2 = 1\n",
    "list11=[]\n",
    "list22=[]\n",
    "list33=[]\n",
    "list44=[]\n",
    "list55=[]\n",
    "list66=[]\n",
    "list77=[]\n",
    "list88=[]\n",
    "\n",
    "\n",
    "for i in range(len(arr)):\n",
    "    i=arr[count][0]\n",
    "    \n",
    "    if i==1 and counter1 < 18:    \n",
    "        list11.append(arr[count])\n",
    "        counter1+=1\n",
    "        \n",
    "        \n",
    "    elif i==1 and counter1 >= 18 and counter1<36:    \n",
    "        list22.append(arr[count])\n",
    "        counter1+=1\n",
    "       \n",
    "        \n",
    "    elif i==1 and counter1 >= 36 and counter1<54:    \n",
    "        list33.append(arr[count])\n",
    "        counter1+=1\n",
    "        \n",
    "        \n",
    "    elif i==1 and counter1 >= 54:    \n",
    "        list44.append(arr[count])\n",
    "        counter1+=1\n",
    "   \n",
    "        \n",
    "        \n",
    "        \n",
    "    if i==-1 and counter2 <8:    \n",
    "        list55.append(arr[count])\n",
    "        counter2+=1\n",
    "        \n",
    "    elif i==-1 and counter2 >= 8 and counter2<16:    \n",
    "        list66.append(arr[count])\n",
    "        counter2+=1\n",
    "        \n",
    "    elif i==-1 and counter2 >=16 and counter2<24:    \n",
    "        list77.append(arr[count])\n",
    "        counter2+=1\n",
    "            \n",
    "    elif i==-1 and counter2 >= 24:    \n",
    "        list88.append(arr[count])\n",
    "        counter2+=1\n",
    "        \n",
    "    count+=1\n",
    "    \n",
    "print(len(list11))\n",
    "print(len(list22))\n",
    "print(len(list33))\n",
    "print(len(list44))\n",
    "print(len(list55))\n",
    "print(len(list66))\n",
    "print(len(list77))\n",
    "print(len(list88))"
   ]
  },
  {
   "cell_type": "markdown",
   "id": "f0b2ef62",
   "metadata": {},
   "source": [
    "# Making All Combinations OF K-Fold Cross Validation"
   ]
  },
  {
   "cell_type": "code",
   "execution_count": 15,
   "id": "1cdab6c1",
   "metadata": {},
   "outputs": [],
   "source": [
    "dff1 = list11 + list55\n",
    "dff2 = list22 + list66\n",
    "dff3 = list33 + list77\n",
    "dff4 = list44 + list88\n",
    "\n",
    "testing_list1   = dff4\n",
    "training_list1  = dff1 + dff2 + dff3\n",
    "\n",
    "testing_list2   = dff3\n",
    "training_list2  = dff1 + dff2 + dff4\n",
    "\n",
    "testing_list3   = dff2\n",
    "training_list3  = dff1 + dff3 + dff4\n",
    "\n",
    "testing_list4   = dff1\n",
    "training_list4  = dff2 + dff3 + dff4\n",
    "\n"
   ]
  },
  {
   "cell_type": "code",
   "execution_count": 16,
   "id": "fff6b686",
   "metadata": {},
   "outputs": [],
   "source": [
    "df1 = pd.DataFrame(training_list1)\n",
    "df2 = pd.DataFrame(testing_list1)\n",
    "x_train = df1.iloc[: , 1:]\n",
    "x_test  = df2.iloc[: , 1:]\n",
    "y_train = df1.iloc[: , 0:1]\n",
    "y_test = df2.iloc[: , 0:1]"
   ]
  },
  {
   "cell_type": "markdown",
   "id": "487044d8",
   "metadata": {},
   "source": [
    "# Logistic Regression Classifier"
   ]
  },
  {
   "cell_type": "markdown",
   "id": "5cfe900b",
   "metadata": {},
   "source": [
    "# Combination-1"
   ]
  },
  {
   "cell_type": "code",
   "execution_count": 17,
   "id": "22b014d8",
   "metadata": {},
   "outputs": [
    {
     "data": {
      "text/plain": [
       "0.7391304347826086"
      ]
     },
     "execution_count": 17,
     "metadata": {},
     "output_type": "execute_result"
    }
   ],
   "source": [
    "clf=LogisticRegression()\n",
    "clf.fit(x_train,y_train)\n",
    "\n",
    "y_pred=clf.predict(x_test)\n",
    "\n",
    "score1 = accuracy_score(y_test , y_pred)\n",
    "score1"
   ]
  },
  {
   "cell_type": "markdown",
   "id": "f0f9981b",
   "metadata": {},
   "source": [
    "# Combination-2"
   ]
  },
  {
   "cell_type": "code",
   "execution_count": 18,
   "id": "621e4bfb",
   "metadata": {},
   "outputs": [],
   "source": [
    "df1 = pd.DataFrame(training_list2)\n",
    "df2 = pd.DataFrame(testing_list2)\n",
    "x_train = df1.iloc[: , 1:]\n",
    "x_test  = df2.iloc[: , 1:]\n",
    "y_train = df1.iloc[: , 0:1]\n",
    "y_test = df2.iloc[: , 0:1]"
   ]
  },
  {
   "cell_type": "code",
   "execution_count": 19,
   "id": "80f14edc",
   "metadata": {},
   "outputs": [
    {
     "data": {
      "text/plain": [
       "0.8076923076923077"
      ]
     },
     "execution_count": 19,
     "metadata": {},
     "output_type": "execute_result"
    }
   ],
   "source": [
    "clf=LogisticRegression()\n",
    "clf.fit(x_train,y_train)\n",
    "\n",
    "y_pred=clf.predict(x_test)\n",
    "\n",
    "score2 = accuracy_score(y_test , y_pred)\n",
    "score2"
   ]
  },
  {
   "cell_type": "markdown",
   "id": "9ea1248a",
   "metadata": {},
   "source": [
    "# Combination-3"
   ]
  },
  {
   "cell_type": "code",
   "execution_count": 20,
   "id": "25ef0d17",
   "metadata": {},
   "outputs": [],
   "source": [
    "df1 = pd.DataFrame(training_list3)\n",
    "df2 = pd.DataFrame(testing_list3)\n",
    "x_train = df1.iloc[: , 1:]\n",
    "x_test  = df2.iloc[: , 1:]\n",
    "y_train = df1.iloc[: , 0:1]\n",
    "y_test = df2.iloc[: , 0:1]"
   ]
  },
  {
   "cell_type": "code",
   "execution_count": 21,
   "id": "196540d1",
   "metadata": {},
   "outputs": [
    {
     "data": {
      "text/plain": [
       "0.8461538461538461"
      ]
     },
     "execution_count": 21,
     "metadata": {},
     "output_type": "execute_result"
    }
   ],
   "source": [
    "clf=LogisticRegression()\n",
    "clf.fit(x_train,y_train)\n",
    "\n",
    "y_pred=clf.predict(x_test)\n",
    "\n",
    "score3 = accuracy_score(y_test , y_pred)\n",
    "score3"
   ]
  },
  {
   "cell_type": "markdown",
   "id": "23ed9d58",
   "metadata": {},
   "source": [
    "# Combination-4"
   ]
  },
  {
   "cell_type": "code",
   "execution_count": 22,
   "id": "1ac74392",
   "metadata": {},
   "outputs": [],
   "source": [
    "df1 = pd.DataFrame(training_list4)\n",
    "df2 = pd.DataFrame(testing_list4)\n",
    "x_train = df1.iloc[: , 1:]\n",
    "x_test  = df2.iloc[: , 1:]\n",
    "y_train = df1.iloc[: , 0:1]\n",
    "y_test = df2.iloc[: , 0:1]"
   ]
  },
  {
   "cell_type": "code",
   "execution_count": 23,
   "id": "f90eaff6",
   "metadata": {},
   "outputs": [
    {
     "data": {
      "text/plain": [
       "0.8333333333333334"
      ]
     },
     "execution_count": 23,
     "metadata": {},
     "output_type": "execute_result"
    }
   ],
   "source": [
    "clf=LogisticRegression()\n",
    "clf.fit(x_train,y_train)\n",
    "\n",
    "y_pred=clf.predict(x_test)\n",
    "\n",
    "score4 = accuracy_score(y_test , y_pred)\n",
    "score4"
   ]
  },
  {
   "cell_type": "markdown",
   "id": "fb005d73",
   "metadata": {},
   "source": [
    "### Build-in K fold Cross Validation"
   ]
  },
  {
   "cell_type": "code",
   "execution_count": 24,
   "id": "b9569692",
   "metadata": {},
   "outputs": [
    {
     "data": {
      "text/plain": [
       "array([0.84, 0.84, 0.8 , 0.75])"
      ]
     },
     "execution_count": 24,
     "metadata": {},
     "output_type": "execute_result"
    }
   ],
   "source": [
    "X = df.iloc[: , 1:]\n",
    "y = df.iloc[: , 0:1]\n",
    "\n",
    "clf=LogisticRegression()\n",
    "scores = cross_val_score(clf, X, y, cv=4)\n",
    "scores"
   ]
  },
  {
   "cell_type": "code",
   "execution_count": 25,
   "id": "a280af89",
   "metadata": {},
   "outputs": [],
   "source": [
    "avg_acc  = (score1+score2+score3+score4)/4\n",
    "avg_acc1 = (scores[0]+scores[1]+scores[2]+scores[3])/4"
   ]
  },
  {
   "cell_type": "markdown",
   "id": "59a2b3ec",
   "metadata": {},
   "source": [
    "# Numpy vs Build-in"
   ]
  },
  {
   "cell_type": "code",
   "execution_count": 26,
   "id": "0270fa08",
   "metadata": {},
   "outputs": [
    {
     "name": "stdout",
     "output_type": "stream",
     "text": [
      "Accuracy by train test split(Numpy) 0.7241379310344828\n",
      "Accuracy by train test split(Build-in) 0.9333333333333333\n",
      "Average Accuracy by K-Fold Cross Validation(Numpy) 0.806577480490524\n",
      "Average Accuracy by K-Fold Cross Validation(Build-in) 0.8075\n"
     ]
    }
   ],
   "source": [
    "print(\"Accuracy by train test split(Numpy)\" , acc)\n",
    "print(\"Accuracy by train test split(Build-in)\" , acc1)\n",
    "print(\"Average Accuracy by K-Fold Cross Validation(Numpy)\" , avg_acc)\n",
    "print(\"Average Accuracy by K-Fold Cross Validation(Build-in)\" , avg_acc1)"
   ]
  },
  {
   "cell_type": "markdown",
   "id": "3f3668b5",
   "metadata": {},
   "source": [
    "# Numpy or Build-in (Which one is better?)"
   ]
  },
  {
   "cell_type": "markdown",
   "id": "2def59ee",
   "metadata": {},
   "source": [
    "#We can easily see from above cell that accuracies from buid in function is little more better than numpy. So, we can make a conclusion that build in functions are more than numpy funation(made by me)."
   ]
  },
  {
   "cell_type": "markdown",
   "id": "b2b9d0a7",
   "metadata": {},
   "source": [
    "# Thank You.."
   ]
  },
  {
   "cell_type": "code",
   "execution_count": null,
   "id": "18761250",
   "metadata": {},
   "outputs": [],
   "source": []
  }
 ],
 "metadata": {
  "kernelspec": {
   "display_name": "Python 3 (ipykernel)",
   "language": "python",
   "name": "python3"
  },
  "language_info": {
   "codemirror_mode": {
    "name": "ipython",
    "version": 3
   },
   "file_extension": ".py",
   "mimetype": "text/x-python",
   "name": "python",
   "nbconvert_exporter": "python",
   "pygments_lexer": "ipython3",
   "version": "3.9.7"
  }
 },
 "nbformat": 4,
 "nbformat_minor": 5
}
